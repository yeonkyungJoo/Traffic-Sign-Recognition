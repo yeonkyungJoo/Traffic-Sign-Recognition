{
 "cells": [
  {
   "cell_type": "code",
   "execution_count": 1,
   "metadata": {},
   "outputs": [],
   "source": [
    "import cv2\n",
    "import numpy as np\n",
    "import matplotlib.pyplot as plt\n",
    "import os\n",
    "import glob\n",
    "import tensorflow as tf\n",
    "from tensorflow.compat.v1 import ConfigProto\n",
    "from tensorflow.compat.v1 import InteractiveSession"
   ]
  },
  {
   "cell_type": "code",
   "execution_count": 2,
   "metadata": {},
   "outputs": [
    {
     "name": "stdout",
     "output_type": "stream",
     "text": [
      "['No_overrun', 'NO_U-turn', '100', 'NO_left', 'Height', 'NO_entry', 'No_twowheel', 'NO_parking_stop', 'Weight', 'No_walk', '50', '60', '40', 'Default', 'NO_truck', 'NO_right', 'Other_Circle', 'No_straight', '30']\n"
     ]
    }
   ],
   "source": [
    "LABELS = []\n",
    "for folder in glob.glob('./data/*') :\n",
    "    label = folder.split('/')[-1]\n",
    "    # label = label.split('\\\\')[-1]\n",
    "    # print(label)\n",
    "    LABELS.append(label)\n",
    "print(LABELS)"
   ]
  },
  {
   "cell_type": "code",
   "execution_count": 3,
   "metadata": {},
   "outputs": [],
   "source": [
    "# 클래스 개수\n",
    "N_CLASSES = len(LABELS)\n",
    "# print(N_CLASSES)\n",
    "# input image size\n",
    "RESIZED_IMAGE = (64, 64)"
   ]
  },
  {
   "cell_type": "code",
   "execution_count": 4,
   "metadata": {},
   "outputs": [
    {
     "name": "stdout",
     "output_type": "stream",
     "text": [
      "{0: 'No_overrun', 1: 'NO_U-turn', 2: '100', 3: 'NO_left', 4: 'Height', 5: 'NO_entry', 6: 'No_twowheel', 7: 'NO_parking_stop', 8: 'Weight', 9: 'No_walk', 10: '50', 11: '60', 12: '40', 13: 'Default', 14: 'NO_truck', 15: 'NO_right', 16: 'Other_Circle', 17: 'No_straight', 18: '30'}\n"
     ]
    }
   ],
   "source": [
    "IDX_LABEL = {}\n",
    "for i, label in zip(range(0, N_CLASSES), LABELS) :\n",
    "    IDX_LABEL[i] = label\n",
    "print(IDX_LABEL)"
   ]
  },
  {
   "cell_type": "code",
   "execution_count": 5,
   "metadata": {},
   "outputs": [],
   "source": [
    "input_node_name = 'input'\n",
    "output_node_name = 'output'\n",
    "keep_prob_node_name = 'keep_prob'"
   ]
  },
  {
   "cell_type": "code",
   "execution_count": 6,
   "metadata": {},
   "outputs": [],
   "source": [
    "# 모델 생성 함수\n",
    "def build_model(X, output_node_name) :\n",
    "    \n",
    "    # Layer1 / ImgIn shape = (?, 64, 64, 3)\n",
    "    # kernel_size = [3, 3], filters = 32\n",
    "    W1 = tf.Variable(tf.random_normal([3, 3, 3, 32], stddev = 0.01))\n",
    "    L1 = tf.nn.conv2d(X, W1, strides = [1, 1, 1, 1], padding = 'SAME')\n",
    "    #    Conv     -> (?, 64, 64, 32)\n",
    "    L1 = tf.nn.relu(L1)\n",
    "    L1 = tf.nn.max_pool(L1, ksize = [1, 2, 2, 1], strides = [1, 2, 2, 1], padding = 'SAME')\n",
    "    #    Pool     -> (?, 32, 32, 32)\n",
    "    L1 = tf.nn.dropout(L1, keep_prob = keep_prob)\n",
    "    \n",
    "    # Layer2 / ImgIn shape = (?, 32, 32, 32)\n",
    "    # kernel_size = [3, 3], filters = 64 \n",
    "    W2 = tf.Variable(tf.random_normal([3, 3, 32, 64], stddev = 0.01))\n",
    "    L2 = tf.nn.conv2d(L1, W2, strides = [1, 1, 1, 1], padding = 'SAME')\n",
    "    #    Conv     -> (?, 32, 32, 64)\n",
    "    L2 = tf.nn.relu(L2)\n",
    "    L2 = tf.nn.max_pool(L2, ksize = [1, 2, 2, 1], strides = [1, 2, 2, 1], padding = 'SAME')\n",
    "    #    Pool     -> (?, 16, 16, 64)\n",
    "    L2 = tf.nn.dropout(L2, keep_prob = keep_prob)\n",
    "    \n",
    "    # Layer3 / ImgIn shape = (?, 16, 16, 64)\n",
    "    # kernel_size = [3, 3], filters = 128 \n",
    "    W3 = tf.Variable(tf.random_normal([3, 3, 64, 128], stddev = 0.01))\n",
    "    L3 = tf.nn.conv2d(L2, W3, strides = [1, 1, 1, 1], padding = 'SAME')\n",
    "    #    Conv     -> (?, 16, 16, 128)\n",
    "    L3 = tf.nn.relu(L3)\n",
    "    L3 = tf.nn.max_pool(L3, ksize = [1, 2, 2, 1], strides = [1, 2, 2, 1], padding = 'SAME')\n",
    "    #    Pool     -> (?, 8, 8, 128)\n",
    "    L3 = tf.nn.dropout(L3, keep_prob = keep_prob)\n",
    "    L3_flat = tf.reshape(L3, [-1, 128 * 8 * 8])\n",
    "    \n",
    "    # Layer4 / FC 8x8x128 inputs -> 625 outputs\n",
    "    W4 = tf.get_variable(\"W4\", shape = [128 * 8 * 8, 625], initializer=tf.contrib.layers.xavier_initializer())\n",
    "    b4 = tf.Variable(tf.random_normal([625]))\n",
    "    L4 = tf.nn.relu(tf.matmul(L3_flat, W4) + b4)\n",
    "    L4 = tf.nn.dropout(L4, keep_prob = keep_prob)\n",
    "    \n",
    "    # Layer5 / Final FC 625 inputs -> (N_CLASSES) outputs\n",
    "    W5 = tf.get_variable(\"W5\", shape = [625, N_CLASSES], initializer=tf.contrib.layers.xavier_initializer())\n",
    "    b5 = tf.Variable(tf.random_normal([N_CLASSES]))\n",
    "    logits = tf.matmul(L4, W5) + b5\n",
    "    y_pred = tf.nn.softmax(logits, name = output_node_name)\n",
    "    \n",
    "    return y_pred, logits"
   ]
  },
  {
   "cell_type": "code",
   "execution_count": 7,
   "metadata": {},
   "outputs": [],
   "source": [
    "# dropout (keep_prob) rate  0.7~0.5 on training, but should be 1 for testing\n",
    "keep_prob = tf.placeholder(tf.float32, name = keep_prob_node_name)\n",
    "\n",
    "# input placeholders\n",
    "X = tf.placeholder(tf.float32, [None, RESIZED_IMAGE[0], RESIZED_IMAGE[1], 3], name = input_node_name)\n",
    "y = tf.placeholder(tf.float32, [None, N_CLASSES])"
   ]
  },
  {
   "cell_type": "code",
   "execution_count": 8,
   "metadata": {},
   "outputs": [
    {
     "name": "stdout",
     "output_type": "stream",
     "text": [
      "WARNING:tensorflow:From <ipython-input-6-6f18ebb77203>:12: calling dropout (from tensorflow.python.ops.nn_ops) with keep_prob is deprecated and will be removed in a future version.\n",
      "Instructions for updating:\n",
      "Please use `rate` instead of `keep_prob`. Rate should be set to `rate = 1 - keep_prob`.\n",
      "WARNING:tensorflow:\n",
      "The TensorFlow contrib module will not be included in TensorFlow 2.0.\n",
      "For more information, please see:\n",
      "  * https://github.com/tensorflow/community/blob/master/rfcs/20180907-contrib-sunset.md\n",
      "  * https://github.com/tensorflow/addons\n",
      "  * https://github.com/tensorflow/io (for I/O related ops)\n",
      "If you depend on functionality not listed there, please file an issue.\n",
      "\n"
     ]
    }
   ],
   "source": [
    "y_pred, logits = build_model(X, output_node_name)"
   ]
  },
  {
   "cell_type": "code",
   "execution_count": 9,
   "metadata": {},
   "outputs": [],
   "source": [
    "correct_prediction = tf.equal(tf.argmax(logits, 1), tf.argmax(y, 1))\n",
    "accuracy = tf.reduce_mean(tf.cast(correct_prediction, tf.float32))"
   ]
  },
  {
   "cell_type": "code",
   "execution_count": null,
   "metadata": {},
   "outputs": [],
   "source": []
  },
  {
   "cell_type": "code",
   "execution_count": 10,
   "metadata": {},
   "outputs": [],
   "source": [
    "CHECK_POINT_DIR = './model.ckpt'\n",
    "if not os.path.exists(CHECK_POINT_DIR) :\n",
    "    os.makedirs(CHECK_POINT_DIR)"
   ]
  },
  {
   "cell_type": "code",
   "execution_count": 11,
   "metadata": {},
   "outputs": [
    {
     "name": "stdout",
     "output_type": "stream",
     "text": [
      "model_checkpoint_path: \"./model.ckpt/model\"\n",
      "all_model_checkpoint_paths: \"./model.ckpt/model\"\n",
      "\n",
      "./model.ckpt/model\n"
     ]
    }
   ],
   "source": [
    "checkpoint = tf.train.get_checkpoint_state(CHECK_POINT_DIR)\n",
    "if checkpoint :\n",
    "    print(checkpoint)\n",
    "    print(checkpoint.model_checkpoint_path)"
   ]
  },
  {
   "cell_type": "code",
   "execution_count": 12,
   "metadata": {},
   "outputs": [],
   "source": [
    "# initialize\n",
    "config = ConfigProto()\n",
    "config.gpu_options.allow_growth = True\n",
    "sess = tf.Session(config=config)"
   ]
  },
  {
   "cell_type": "code",
   "execution_count": 13,
   "metadata": {},
   "outputs": [],
   "source": [
    "saver = tf.train.Saver()"
   ]
  },
  {
   "cell_type": "code",
   "execution_count": 14,
   "metadata": {},
   "outputs": [],
   "source": [
    "sess.run(tf.global_variables_initializer())"
   ]
  },
  {
   "cell_type": "code",
   "execution_count": 15,
   "metadata": {},
   "outputs": [
    {
     "name": "stdout",
     "output_type": "stream",
     "text": [
      "WARNING:tensorflow:From /home/team2/anaconda3/lib/python3.7/site-packages/tensorflow/python/training/saver.py:1276: checkpoint_exists (from tensorflow.python.training.checkpoint_management) is deprecated and will be removed in a future version.\n",
      "Instructions for updating:\n",
      "Use standard file APIs to check for files with this prefix.\n",
      "INFO:tensorflow:Restoring parameters from ./model.ckpt/model\n",
      "Successfully loaded :  ./model.ckpt/model\n"
     ]
    }
   ],
   "source": [
    "# load a trained model\n",
    "if checkpoint and checkpoint.model_checkpoint_path :\n",
    "    try : \n",
    "        # saver = tf.train.import_meta_graph(checkpoint.model_checkpoint_path + '.meta')\n",
    "        saver.restore(sess, checkpoint.model_checkpoint_path)\n",
    "        print('Successfully loaded : ', checkpoint.model_checkpoint_path)\n",
    "    except :\n",
    "        print(\"Error on loading old network weights\")\n",
    "else :\n",
    "    print(\"Could not find old network weights\")"
   ]
  },
  {
   "cell_type": "code",
   "execution_count": null,
   "metadata": {},
   "outputs": [],
   "source": []
  },
  {
   "cell_type": "code",
   "execution_count": 17,
   "metadata": {},
   "outputs": [],
   "source": [
    "# 영상 경로 설정\n",
    "video_path = './video_data/video1.mp4'\n",
    "cap = cv2.VideoCapture(video_path)\n",
    "\n",
    "video_file = video_path.split('/')[-1]\n",
    "video_name = video_file.split('.')[0]\n",
    "\n",
    "# 커널 생성\n",
    "kernel1 = np.ones((2, 2), np.uint8)\n",
    "kernel2 = np.ones((4, 4), np.uint8)\n",
    "\n",
    "# 프레임 이동\n",
    "# frame_move = int(cap.get(cv2.CAP_PROP_FRAME_COUNT) // 2)\n",
    "# cap.set(cv2.CAP_PROP_POS_FRAMES, frame_move)\n",
    "\n",
    "while cap.isOpened() :\n",
    "    ret, img = cap.read()\n",
    "    \n",
    "    if ret is False :\n",
    "        break\n",
    "        \n",
    "    # 이미지 크기 변경\n",
    "    img = cv2.resize(img, (img.shape[1]//2, img.shape[0]//2), interpolation = cv2.INTER_AREA)\n",
    "    \n",
    "    ######### 1. 표지판 검출 #########\n",
    "    \n",
    "    ## 1-1. 표지판 ROI 생성\n",
    "    img_sign = np.zeros(img.shape, img.dtype)\n",
    "    img_sign[0 : img.shape[0]*14//20, : ] = img[0 : img.shape[0]*14//20 ,  : ]\n",
    "       \n",
    "    ## 1-2. 붉은색 검출\n",
    "    # 1) 색 공간 변환(BGR2YUV) -> 붉은색 계열 검출\n",
    "    yuv_sign = cv2.cvtColor(img_sign, cv2.COLOR_BGR2YUV)\n",
    "    yuv_sign[yuv_sign[:, :, 2]<135] = 0 # V 채널\n",
    "    yuv_sign[yuv_sign[:, :, 1]<110] = 0 # U 채널\n",
    "    yuv_sign[yuv_sign[:, :, 0]>225] = 0 # 밝기\n",
    "    \n",
    "    # V 채널 이진화 \n",
    "    th, sign_v_bin = cv2.threshold(yuv_sign[ : , : , 2], 140, 255, cv2.THRESH_BINARY)\n",
    "    erosion_sign_v_bin = cv2.erode(sign_v_bin, kernel1, iterations = 1) # 침식\n",
    "    dilation_sign_v_bin = cv2.dilate(erosion_sign_v_bin, kernel2, iterations = 1) # 팽창\n",
    "    \n",
    "    # 2) 캐니 엣지 -> 조명 영향 제거\n",
    "    sign_edge = cv2.Canny(img_sign, 100, 200)\n",
    "    dilation_sign_edge = cv2.dilate(sign_edge, kernel1, iterations = 1) # 팽창\n",
    "    erosion_sign_edge = cv2.erode(dilation_sign_edge, kernel1, iterations = 1) # 침식\n",
    "    \n",
    "    sign_red = cv2.bitwise_and(dilation_sign_v_bin, dilation_sign_v_bin, mask = erosion_sign_edge)\n",
    "    \n",
    "    ## 1-3. 원 검출\n",
    "    # 1) 컨투어\n",
    "    # RETR_EXTERNAL / RETR_TREE / RETR_LIST / RETR_CCOMP\n",
    "    _, contours, hierarchy = cv2.findContours(sign_red, cv2.RETR_CCOMP, cv2.CHAIN_APPROX_SIMPLE)\n",
    "    \n",
    "    mask_contours = np.zeros(sign_red.shape, sign_red.dtype)\n",
    "    \n",
    "    for contour in contours :\n",
    "        epsilon = 0.005 * cv2.arcLength(contour, True)\n",
    "        # 근사 컨투어\n",
    "        approx = cv2.approxPolyDP(contour, epsilon, closed = True)\n",
    "        cv2.drawContours(mask_contours, [approx], -1, 255, 2)\n",
    "    \n",
    "    # 2) 객체 검출\n",
    "    _, _, stats, centroids = cv2.connectedComponentsWithStats(mask_contours)    \n",
    "    # cv2.imshow('mask_contours', mask_contours)\n",
    "    \n",
    "    for idx, centroid in enumerate(centroids) :\n",
    "        if stats[idx][0] == 0 and stats[idx][1] == 0 :\n",
    "            continue\n",
    "        if np.any(np.isnan(centroid)) :\n",
    "            continue\n",
    "            \n",
    "        x, y, w, h, area = stats[idx]\n",
    "        centerX, centerY = int(centroid[0]), int(centroid[1])\n",
    "        \n",
    "        if area<1700 and area>100 and abs(w-h)< 5 :\n",
    "            try : \n",
    "                detected_img = img[y-5 : y+h+5,  x-5 : x+w+5]\n",
    "                gray_detected_img = cv2.cvtColor(detected_img, cv2.COLOR_BGR2GRAY)\n",
    "\n",
    "                # 3) 허프 원 검출\n",
    "                circles = cv2.HoughCircles(gray_detected_img, cv2.HOUGH_GRADIENT, 1, 100, param1=200, param2=40, minRadius=3, maxRadius=38)\n",
    "                if circles is not None :\n",
    "                    circles = np.uint16(np.around(circles))\n",
    "\n",
    "                    for i in circles[0, :] :                      \n",
    "                        frame = img[y-5 : y+h+5,  x-5 : x+w+5]\n",
    "    ##############################################################################################                        \n",
    "                        # bgr -> rgb 로 배열순서 변경\n",
    "                        # frame = cv2.cvtColor(frame, cv2.COLOR_BGR2RGB)\n",
    "                        # 리사이즈 : 64 * 64\n",
    "                        # frame = cv2.cvtColor(frame, cv2.IMREAD_GRAYSCALE)[:, :, 0]\n",
    "                        frame = cv2.resize(frame, (RESIZED_IMAGE[0], RESIZED_IMAGE[1]))\n",
    "                        frame = np.expand_dims(frame, axis=0)\n",
    "                        # print(frame.shape)\n",
    "                        # 예측\n",
    "                        # pred = model.predict(np.expand_dims(frame, axis=0))[0]\n",
    "                        pred = sess.run(tf.argmax(y_pred, axis = 1), feed_dict = {X : frame, keep_prob : 1})\n",
    "                        # print(pred)\n",
    "                        # 레이블 확인\n",
    "                        # label = lb.classes_[np.argmax(pred)]\n",
    "                        label = IDX_LABEL[pred[0]]\n",
    "                        # print(label)\n",
    "    ##############################################################################################                        \n",
    "\n",
    "                        if label == 'Other_Circle' :\n",
    "                            continue\n",
    "                        elif label == 'Default' :\n",
    "                            continue\n",
    "                        else :\n",
    "                            text = \"{}\".format(label)\n",
    "                            cv2.putText( img, text, ( x, y + 100 ), cv2.FONT_HERSHEY_SIMPLEX, 1.0, ( 0, 255, 0 ), 3)\n",
    "                            cv2.rectangle(img, (x-5, y-5), (x+w+5, y+h+5), (0, 0, 255), 2)\n",
    "                        \n",
    "            except : \n",
    "                continue\n",
    "    \n",
    "    ######### 2. 차선 검출 #########\n",
    "    \n",
    "    ## 2-1. 차선 ROI 생성\n",
    "    img_road = np.zeros(img.shape, img.dtype)\n",
    "    img_road[img.shape[0]*14//20 : img.shape[0], : ] = img[img.shape[0]*14//20 : img.shape[0],  : ]    \n",
    "    \n",
    "    ###############################\n",
    "    \n",
    "    cv2.imshow(video_name, img)\n",
    "    \n",
    "    if cv2.waitKey(1) == 27 :\n",
    "        cap.release()\n",
    "        cv2.destroyAllWindows()\n",
    "    \n",
    "cap.release()\n",
    "cv2.destroyAllWindows()"
   ]
  },
  {
   "cell_type": "code",
   "execution_count": null,
   "metadata": {},
   "outputs": [],
   "source": []
  },
  {
   "cell_type": "code",
   "execution_count": null,
   "metadata": {},
   "outputs": [],
   "source": []
  }
 ],
 "metadata": {
  "kernelspec": {
   "display_name": "tensorflow-gpu",
   "language": "python",
   "name": "py374"
  },
  "language_info": {
   "codemirror_mode": {
    "name": "ipython",
    "version": 3
   },
   "file_extension": ".py",
   "mimetype": "text/x-python",
   "name": "python",
   "nbconvert_exporter": "python",
   "pygments_lexer": "ipython3",
   "version": "3.7.3"
  }
 },
 "nbformat": 4,
 "nbformat_minor": 2
}
