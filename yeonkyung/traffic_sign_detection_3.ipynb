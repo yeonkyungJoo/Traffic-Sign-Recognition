{
 "cells": [
  {
   "cell_type": "code",
   "execution_count": null,
   "metadata": {},
   "outputs": [],
   "source": [
    "# [방법 1]\n",
    "# https://cccding.tistory.com/110\n",
    "# opencv을 이용한 자율주행 자동차\n",
    "\n",
    "# 1. PC에서 Opencv를 이용한 차선, 정지선 인식\n",
    "# - HoughLinesP 함수와 기울기를 이용한 알고리즘을 통해 직선 및 커브 검출\n",
    "\n",
    "# 2. 라즈베리파이에서 Opencv를 이용한 표지판, 신호등 인식\n",
    "# - 전처리 과정을 거친 후 원검출과 색검출을 이용하였고 \n",
    "# Template matching을 사용하여 속도를 인식\n",
    "\n",
    "# 3. Atmega128에서 dc 및 servo 모터 구동 및 장애물 인식\n",
    "# - PWN을 이용해 모터 제어 및 초음파 센서를 이용하여 장애물 탐지"
   ]
  },
  {
   "cell_type": "code",
   "execution_count": null,
   "metadata": {},
   "outputs": [],
   "source": [
    "# [방법 2]\n",
    "# https://arclab.tistory.com/205"
   ]
  },
  {
   "cell_type": "code",
   "execution_count": null,
   "metadata": {},
   "outputs": [],
   "source": [
    "# [방법 3]\n",
    "# https://github.com/aarcosg/traffic-sign-detection"
   ]
  },
  {
   "cell_type": "code",
   "execution_count": null,
   "metadata": {},
   "outputs": [],
   "source": [
    "# [방법 4]\n",
    "# https://webnautes.tistory.com/1246"
   ]
  },
  {
   "cell_type": "code",
   "execution_count": 2,
   "metadata": {},
   "outputs": [
    {
     "name": "stdout",
     "output_type": "stream",
     "text": [
      "(1080, 1920, 3)\n"
     ]
    }
   ],
   "source": [
    "import cv2\n",
    "import numpy as np\n",
    "\n",
    "img = cv2.imread('./sample3_515.jpg')\n",
    "print(img.shape)"
   ]
  },
  {
   "cell_type": "code",
   "execution_count": 3,
   "metadata": {},
   "outputs": [],
   "source": [
    "import cv2\n",
    "import numpy as np\n",
    "\n",
    "img = cv2.imread('./sample3_515.jpg')\n",
    "img = cv2.cvtColor(img, cv2.COLOR_BGR2HSV)\n",
    "\n",
    "cv2.imshow('BGR2HSV', img)\n",
    "cv2.waitKey()\n",
    "cv2.destroyAllWindows()"
   ]
  },
  {
   "cell_type": "code",
   "execution_count": 4,
   "metadata": {},
   "outputs": [],
   "source": [
    "import cv2\n",
    "import numpy as np\n",
    "import matplotlib.pylab as plt\n",
    "\n",
    "img = cv2.imread('./sample3_515.jpg')\n",
    "img = cv2.resize(img, (img.shape[1]//2, img.shape[0]//2))\n",
    "cv2. imshow('img', img)\n",
    "hsv = cv2.cvtColor(img, cv2.COLOR_BGR2HSV)\n",
    "cv2. imshow('hsv', hsv)\n",
    "\n",
    "cv2.waitKey()\n",
    "cv2.destroyAllWindows()"
   ]
  },
  {
   "cell_type": "code",
   "execution_count": 9,
   "metadata": {},
   "outputs": [],
   "source": [
    "import cv2\n",
    "import numpy as np\n",
    "import matplotlib.pylab as plt\n",
    "\n",
    "img = cv2.imread('./sample3_515.jpg')\n",
    "img = cv2.resize(img, (img.shape[1]//2, img.shape[0]//2), \n",
    "                 interpolation = cv2.INTER_AREA)\n",
    "cv2. imshow('img', img)\n",
    "hsv = cv2.cvtColor(img, cv2.COLOR_BGR2HSV)\n",
    "# cv2. imshow('hsv', hsv)\n",
    "\n",
    "# 색상별 영역 지정\n",
    "blue1 = np.array([90, 50, 50])\n",
    "blue2 = np.array([120, 255, 255])\n",
    "\n",
    "green1 = np.array([45, 50, 50])\n",
    "green2 = np.array([75, 255, 255])\n",
    "\n",
    "yellow1 = np.array([20, 50, 50])\n",
    "yellow2 = np.array([35, 255, 255])\n",
    "\n",
    "red1 = np.array([0, 50, 50])\n",
    "red2 = np.array([15, 255, 255])\n",
    "red3 = np.array([165, 50, 50])\n",
    "red4 = np.array([180, 255, 255])\n",
    "\n",
    "# 색상에 따른 마스크 생성\n",
    "mask_blue = cv2.inRange(hsv, blue1, blue2)\n",
    "mask_green = cv2.inRange(hsv, green1, green2)\n",
    "mask_yellow = cv2.inRange(hsv, yellow1, yellow2)\n",
    "mask_red1 = cv2.inRange(hsv, red1, red2)\n",
    "# cv2.imshow('mask_red1', mask_red1)\n",
    "mask_red2 = cv2.inRange(hsv, red3, red4)\n",
    "# cv2.imshow('mask_red2', mask_red2)\n",
    "mask_red = mask_red1 + mask_red2\n",
    "cv2.imshow('mask_red', mask_red)\n",
    "\n",
    "# 색상별 마스크로 색상만 추출\n",
    "res_blue = cv2.bitwise_and(img, img, mask = mask_blue)\n",
    "res_green = cv2.bitwise_and(img, img, mask = mask_green)\n",
    "res_yellow = cv2.bitwise_and(img, img, mask = mask_yellow)\n",
    "\n",
    "res_red1 = cv2.bitwise_and(img, img, mask = mask_red1)\n",
    "# cv2.imshow('res_red1', res_red1)\n",
    "res_red2 = cv2.bitwise_and(img, img, mask = mask_red2)\n",
    "# cv2.imshow('res_red2', res_red2)\n",
    "res_red = cv2.bitwise_or(res_red1, res_red2)\n",
    "# cv2.imshow('res_red', res_red)\n",
    "\n",
    "\n",
    "# cv2.imshow('res_blue', res_blue)\n",
    "# cv2.imshow('res_green', res_green)\n",
    "# cv2.imshow('res_red1', res_red1)\n",
    "# cv2.imshow('res_red2', res_red2)\n",
    "# cv2.imshow('res_red', res_red)\n",
    "# cv2.imshow('res_yellow', res_yellow)\n",
    "\n",
    "# kernel = np.ones((11, 11), np.uint8)\n",
    "# img_mask = cv2.morphologyEx(img_mask, cv2.MORPH_OPEN, kernel)\n",
    "# img_mask = cv2.morphologyEx(img_mask, cv2.MORPH_CLOSE, kernel)\n",
    "\n",
    "\n",
    "\n",
    "\n",
    "cv2.waitKey()\n",
    "cv2.destroyAllWindows()"
   ]
  },
  {
   "cell_type": "code",
   "execution_count": null,
   "metadata": {},
   "outputs": [],
   "source": []
  },
  {
   "cell_type": "code",
   "execution_count": null,
   "metadata": {},
   "outputs": [],
   "source": []
  },
  {
   "cell_type": "code",
   "execution_count": null,
   "metadata": {},
   "outputs": [],
   "source": []
  },
  {
   "cell_type": "code",
   "execution_count": null,
   "metadata": {},
   "outputs": [],
   "source": []
  },
  {
   "cell_type": "code",
   "execution_count": null,
   "metadata": {},
   "outputs": [],
   "source": []
  },
  {
   "cell_type": "code",
   "execution_count": null,
   "metadata": {},
   "outputs": [],
   "source": []
  },
  {
   "cell_type": "code",
   "execution_count": null,
   "metadata": {},
   "outputs": [],
   "source": []
  },
  {
   "cell_type": "code",
   "execution_count": null,
   "metadata": {},
   "outputs": [],
   "source": []
  },
  {
   "cell_type": "code",
   "execution_count": null,
   "metadata": {},
   "outputs": [],
   "source": []
  }
 ],
 "metadata": {
  "kernelspec": {
   "display_name": "Python 3",
   "language": "python",
   "name": "python3"
  },
  "language_info": {
   "codemirror_mode": {
    "name": "ipython",
    "version": 3
   },
   "file_extension": ".py",
   "mimetype": "text/x-python",
   "name": "python",
   "nbconvert_exporter": "python",
   "pygments_lexer": "ipython3",
   "version": "3.6.5"
  }
 },
 "nbformat": 4,
 "nbformat_minor": 2
}
