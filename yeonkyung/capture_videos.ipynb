{
 "cells": [
  {
   "cell_type": "code",
   "execution_count": 1,
   "metadata": {},
   "outputs": [],
   "source": [
    "import cv2\n",
    "import numpy as np\n",
    "import matplotlib.pylab as plt\n",
    "import glob"
   ]
  },
  {
   "cell_type": "code",
   "execution_count": 2,
   "metadata": {
    "scrolled": true
   },
   "outputs": [
    {
     "name": "stdout",
     "output_type": "stream",
     "text": [
      "33\n"
     ]
    }
   ],
   "source": [
    "# 동영상 파일 경로\n",
    "video_path = './video1.mp4'\n",
    "\n",
    "cap = cv2.VideoCapture(video_path)\n",
    "\n",
    "video_file = video_path.split('/')[-1]\n",
    "video_name = video_file.split('.')[0]\n",
    "\n",
    "# 동영상 캡처 객체 생성\n",
    "if cap.isOpened() :\n",
    "    # 프레임 수 구하기\n",
    "    fps = cap.get(cv2.CAP_PROP_FPS)\n",
    "    # print(fps) # 30.0028139633606\n",
    "    delay = int(1000/fps)\n",
    "    print(delay) # 33\n",
    "    \n",
    "    index = 1\n",
    "    while True :\n",
    "        ret, img = cap.read()                      # 다음 프레임 읽기\n",
    "        if ret :                                           # 프레임 읽기 정상 \n",
    "## ---------------------------------------------------------------------------------------------------------------------------------------------------------------------------------------------------------------------------------------------------------------------------------------------------------- ## \n",
    "            img2 = img.copy()\n",
    "            img3 = img.copy()\n",
    "            h, w = img.shape[:2]\n",
    "\n",
    "            # HSV 영상으로 변환\n",
    "            hsv = cv2.cvtColor(img2, cv2.COLOR_BGR2HSV)\n",
    "            img2 = cv2.bilateralFilter(img, 9, 105, 105)\n",
    "            r, g, b = cv2.split(img2)\n",
    "            equalize1= cv2.equalizeHist(r)\n",
    "            equalize2= cv2.equalizeHist(g)\n",
    "            equalize3= cv2.equalizeHist(b)\n",
    "            equalize = cv2.merge((equalize1, equalize2, equalize3))\n",
    "            img2 = equalize\n",
    "\n",
    "            # 색상별 영역 지정\n",
    "            red1 = np.array([0, 50, 50])\n",
    "            red2 = np.array([15, 255, 255])\n",
    "            red3 = np.array([165, 50, 50])\n",
    "            red4 = np.array([180, 255, 255])\n",
    "\n",
    "            # 색상에 따른 마스크 생성\n",
    "            mask_red1 = cv2.inRange(hsv, red1, red2)\n",
    "            mask_red2 = cv2.inRange(hsv, red3, red4)\n",
    "            mask_red = mask_red1 + mask_red2\n",
    "\n",
    "            numOfLabels, img_label, stats, centroids = cv2.connectedComponentsWithStats(mask_red2)\n",
    "            \n",
    "            for idx, centroid in enumerate(centroids) :\n",
    "                if stats[idx][0] == 0 and stats[idx][1] == 0 :\n",
    "                    continue\n",
    "\n",
    "                if np.any(np.isnan(centroid)) :\n",
    "                    continue\n",
    "\n",
    "                x, y, w, h, area = stats[idx]\n",
    "                centerX, centerY = int(centroid[0]), int(centroid[1])\n",
    "\n",
    "                if area > 50 and abs(w-h) < 5 : \n",
    "                    # 원 검출\n",
    "                    detected_img = img2[y:y+h, x:x+w]\n",
    "                    gray_detected_img = cv2.cvtColor(detected_img, cv2.COLOR_BGR2GRAY)\n",
    "                    gray_detected_img = cv2.resize(gray_detected_img, (gray_detected_img.shape[1]*5, gray_detected_img.shape[0]*5))\n",
    "                    circles = cv2.HoughCircles(gray_detected_img, cv2.HOUGH_GRADIENT, 1, 100, param1=50, param2=30, minRadius=10, maxRadius=0)\n",
    "                    if circles is not None :\n",
    "                        circles = np.uint16(np.around(circles))\n",
    "                        \n",
    "                        for i in circles[0, :] :\n",
    "                            # cv2.circle(gray_detected_img, (i[0], i[1]), i[2], (0, 255, 0), 2)\n",
    "                            # cv2.circle(gray_detected_img, (i[0], i[1]), 2, (0, 0, 255), 5)\n",
    "                            cv2.rectangle(img, (x-3, y-3), (x+w+3, y+h+3), (255, 0, 0), 1)\n",
    "                            cv2.imwrite('images3/{}_{}.jpg'.format(video_name, index), img3[y-3:y+h+3, x-3:x+w+3])\n",
    "                            index += 1\n",
    "## ---------------------------------------------------------------------------------------------------------------------------------------------------------------------------------------------------------------------------------------------------------------------------------------------------------- ##           \n",
    "            cv2.imshow(video_file, img)        # 화면에 표시\n",
    "            cv2.waitKey(delay)                     # fps에 맞게 시간 지연\n",
    "        else :\n",
    "            break\n",
    "else :\n",
    "    print(\"can't open video.\")\n",
    "\n",
    "cap.release()\n",
    "cv2.destroyAllWindows()"
   ]
  },
  {
   "cell_type": "code",
   "execution_count": null,
   "metadata": {},
   "outputs": [],
   "source": []
  },
  {
   "cell_type": "code",
   "execution_count": null,
   "metadata": {},
   "outputs": [],
   "source": []
  },
  {
   "cell_type": "code",
   "execution_count": null,
   "metadata": {},
   "outputs": [],
   "source": []
  },
  {
   "cell_type": "code",
   "execution_count": null,
   "metadata": {},
   "outputs": [],
   "source": []
  },
  {
   "cell_type": "code",
   "execution_count": null,
   "metadata": {},
   "outputs": [],
   "source": []
  },
  {
   "cell_type": "code",
   "execution_count": 2,
   "metadata": {},
   "outputs": [
    {
     "name": "stdout",
     "output_type": "stream",
     "text": [
      "video1\n",
      "images3/video1_1.jpg\n"
     ]
    }
   ],
   "source": [
    "video_path = './video1.mp4'\n",
    "video_file = video_path.split('/')[-1]\n",
    "video_name = video_file.split('.')[0]\n",
    "print(video_name)\n",
    "print('images3/{}_{}.jpg'.format(video_name, 1))"
   ]
  },
  {
   "cell_type": "code",
   "execution_count": null,
   "metadata": {},
   "outputs": [],
   "source": [
    "def capture_traffic_sign_in_video (video_file) :\n",
    "    \n",
    "    file_name = filepath.split('/')[-1]\n",
    "    img = cv2.imread('./sample6/' + file_name)\n",
    "    img = cv2.resize(img, (img.shape[1]//2, img.shape[0]//2), interpolation = cv2.INTER_AREA)\n",
    "    img2 = img.copy()\n",
    "    img3 = img.copy()\n",
    "    h, w = img.shape[:2]\n",
    "\n",
    "    # HSV 영상으로 변환\n",
    "    hsv = cv2.cvtColor(img, cv2.COLOR_BGR2HSV)\n",
    "    img = cv2.bilateralFilter(img,9,105,105)\n",
    "    r, g, b = cv2.split(img)\n",
    "    equalize1= cv2.equalizeHist(r)\n",
    "    equalize2= cv2.equalizeHist(g)\n",
    "    equalize3= cv2.equalizeHist(b)\n",
    "    equalize = cv2.merge((equalize1, equalize2, equalize3))\n",
    "    img = equalize\n",
    "    \n",
    "    # 색상별 영역 지정\n",
    "    red1 = np.array([0, 50, 50])\n",
    "    red2 = np.array([15, 255, 255])\n",
    "    red3 = np.array([165, 50, 50])\n",
    "    red4 = np.array([180, 255, 255])\n",
    "    \n",
    "    # 색상에 따른 마스크 생성\n",
    "    mask_red1 = cv2.inRange(hsv, red1, red2)\n",
    "    mask_red2 = cv2.inRange(hsv, red3, red4)\n",
    "    mask_red = mask_red1 + mask_red2\n",
    "\n",
    "    numOfLabels, img_label, stats, centroids = cv2.connectedComponentsWithStats(mask_red2)\n",
    "\n",
    "    for idx, centroid in enumerate(centroids) :\n",
    "        if stats[idx][0] == 0 and stats[idx][1] == 0 :\n",
    "            continue\n",
    "\n",
    "        if np.any(np.isnan(centroid)) :\n",
    "            continue\n",
    "\n",
    "        x, y, w, h, area = stats[idx]\n",
    "        centerX, centerY = int(centroid[0]), int(centroid[1])\n",
    "\n",
    "        if area > 50 and abs(w-h) < 5 : \n",
    "            # 원 검출\n",
    "            detected_img = img[y:y+h, x:x+w]\n",
    "            gray_detected_img = cv2.cvtColor(detected_img, cv2.COLOR_BGR2GRAY)\n",
    "            gray_detected_img = cv2.resize(gray_detected_img, (gray_detected_img.shape[1]*5, gray_detected_img.shape[0]*5))\n",
    "            circles = cv2.HoughCircles(gray_detected_img, cv2.HOUGH_GRADIENT, 1, 100, param1=50, param2=30, minRadius=10, maxRadius=0)\n",
    "            if circles is not None :\n",
    "                circles = np.uint16(np.around(circles))\n",
    "                for i in circles[0, :] :\n",
    "                    cv2.circle(gray_detected_img, (i[0], i[1]), i[2], (0, 255, 0), 2)\n",
    "                    cv2.circle(gray_detected_img, (i[0], i[1]), 2, (0, 0, 255), 5)\n",
    "                    cv2.rectangle(img2, (x-3, y-3), (x+w+3, y+h+3), (255, 0, 0), 1)                    \n",
    "                    # cv2.imwrite('images/{}_{}.{}'.format(file_name.split('.')[0], idx, file_name.split('.')[1]), img3[y-3:y+h+3, x-3:x+w+3])\n",
    "                    img3[y-3:y+h+3, x-3:x+w+3]"
   ]
  },
  {
   "cell_type": "code",
   "execution_count": null,
   "metadata": {},
   "outputs": [],
   "source": [
    "filepaths = []\n",
    "for filepath in glob.glob('./sample6/*.jpg') : \n",
    "    # print(filepath)\n",
    "    filepaths.append(filepath)\n",
    "print(len(filepaths))"
   ]
  },
  {
   "cell_type": "code",
   "execution_count": null,
   "metadata": {},
   "outputs": [],
   "source": []
  },
  {
   "cell_type": "code",
   "execution_count": null,
   "metadata": {},
   "outputs": [],
   "source": []
  },
  {
   "cell_type": "code",
   "execution_count": null,
   "metadata": {},
   "outputs": [],
   "source": []
  },
  {
   "cell_type": "code",
   "execution_count": null,
   "metadata": {},
   "outputs": [],
   "source": []
  },
  {
   "cell_type": "code",
   "execution_count": null,
   "metadata": {},
   "outputs": [],
   "source": []
  },
  {
   "cell_type": "code",
   "execution_count": null,
   "metadata": {},
   "outputs": [],
   "source": []
  },
  {
   "cell_type": "code",
   "execution_count": null,
   "metadata": {},
   "outputs": [],
   "source": []
  },
  {
   "cell_type": "code",
   "execution_count": null,
   "metadata": {},
   "outputs": [],
   "source": []
  },
  {
   "cell_type": "code",
   "execution_count": null,
   "metadata": {},
   "outputs": [],
   "source": []
  },
  {
   "cell_type": "code",
   "execution_count": null,
   "metadata": {},
   "outputs": [],
   "source": []
  },
  {
   "cell_type": "code",
   "execution_count": null,
   "metadata": {},
   "outputs": [],
   "source": []
  }
 ],
 "metadata": {
  "kernelspec": {
   "display_name": "Python 3",
   "language": "python",
   "name": "python3"
  },
  "language_info": {
   "codemirror_mode": {
    "name": "ipython",
    "version": 3
   },
   "file_extension": ".py",
   "mimetype": "text/x-python",
   "name": "python",
   "nbconvert_exporter": "python",
   "pygments_lexer": "ipython3",
   "version": "3.7.4"
  }
 },
 "nbformat": 4,
 "nbformat_minor": 2
}
