{
 "cells": [
  {
   "cell_type": "code",
   "execution_count": 1,
   "metadata": {},
   "outputs": [],
   "source": [
    "import tensorflow as tf\n",
    "from tensorflow.compat.v1 import ConfigProto\n",
    "from tensorflow.compat.v1 import InteractiveSession\n",
    "from sklearn.metrics import classification_report, confusion_matrix\n",
    "import random\n",
    "import matplotlib.pyplot as plt\n",
    "import glob\n",
    "import numpy as np\n",
    "import cv2\n",
    "import os\n",
    "from collections import namedtuple\n",
    "%matplotlib inline"
   ]
  },
  {
   "cell_type": "code",
   "execution_count": null,
   "metadata": {},
   "outputs": [],
   "source": []
  },
  {
   "cell_type": "markdown",
   "metadata": {},
   "source": [
    "### 클래스(label) 확인"
   ]
  },
  {
   "cell_type": "code",
   "execution_count": 2,
   "metadata": {},
   "outputs": [
    {
     "name": "stdout",
     "output_type": "stream",
     "text": [
      "['No_overrun', 'NO_U-turn', '100', 'NO_left', 'Height', 'NO_entry', 'No_twowheel', 'NO_parking_stop', 'Weight', 'No_walk', '50', '60', '40', 'Default', 'NO_truck', 'NO_right', 'Other_Circle', 'No_straight', '30']\n"
     ]
    }
   ],
   "source": [
    "LABELS = []\n",
    "for folder in glob.glob('./data/*') :\n",
    "    label = folder.split('/')[-1]\n",
    "    # label = label.split('\\\\')[-1]\n",
    "    # print(label)\n",
    "    LABELS.append(label)\n",
    "print(LABELS)"
   ]
  },
  {
   "cell_type": "code",
   "execution_count": 3,
   "metadata": {},
   "outputs": [],
   "source": [
    "# 클래스 개수\n",
    "N_CLASSES = len(LABELS)\n",
    "# print(N_CLASSES)\n",
    "# input image size\n",
    "RESIZED_IMAGE = (64, 64)"
   ]
  },
  {
   "cell_type": "code",
   "execution_count": 4,
   "metadata": {},
   "outputs": [
    {
     "name": "stdout",
     "output_type": "stream",
     "text": [
      "[138, 2122, 30, 4401, 1245, 217, 44, 4603, 3, 0, 20926, 1155, 22, 366, 1756, 2474, 1646, 65, 1720]\n"
     ]
    }
   ],
   "source": [
    "# 클래스별 이미지 개수(개수만)\n",
    "img_cnt = []\n",
    "for label in LABELS :\n",
    "    # print('./data/{}/*.jpg'.format(label))\n",
    "    cnt = 0\n",
    "    for file in glob.glob('./data/{}/*.jpg'.format(label)) :\n",
    "        cnt += 1\n",
    "    img_cnt.append(cnt)\n",
    "print(img_cnt)"
   ]
  },
  {
   "cell_type": "code",
   "execution_count": 5,
   "metadata": {},
   "outputs": [
    {
     "name": "stdout",
     "output_type": "stream",
     "text": [
      "{'No_overrun': 138, 'NO_U-turn': 2122, '100': 30, 'NO_left': 4401, 'Height': 1245, 'NO_entry': 217, 'No_twowheel': 44, 'NO_parking_stop': 4603, 'Weight': 3, 'No_walk': 0, '50': 20926, '60': 1155, '40': 22, 'Default': 366, 'NO_truck': 1756, 'NO_right': 2474, 'Other_Circle': 1646, 'No_straight': 65, '30': 1720}\n"
     ]
    }
   ],
   "source": [
    "# 클래스별 이미지 개수\n",
    "labels_cnt = {}\n",
    "for label in LABELS :\n",
    "    cnt = 0\n",
    "    for file in glob.glob('./data/{}/*.jpg'.format(label)) :\n",
    "        cnt += 1\n",
    "    labels_cnt[label] = cnt\n",
    "print(labels_cnt)"
   ]
  },
  {
   "cell_type": "code",
   "execution_count": 6,
   "metadata": {},
   "outputs": [
    {
     "name": "stdout",
     "output_type": "stream",
     "text": [
      "{'No_overrun': 0, 'NO_U-turn': 1, '100': 2, 'NO_left': 3, 'Height': 4, 'NO_entry': 5, 'No_twowheel': 6, 'NO_parking_stop': 7, 'Weight': 8, 'No_walk': 9, '50': 10, '60': 11, '40': 12, 'Default': 13, 'NO_truck': 14, 'NO_right': 15, 'Other_Circle': 16, 'No_straight': 17, '30': 18}\n"
     ]
    }
   ],
   "source": [
    "LABEL_IDX = {}\n",
    "for label, i in zip(LABELS, range(0, N_CLASSES)) :\n",
    "    LABEL_IDX[label] = i\n",
    "print(LABEL_IDX)"
   ]
  },
  {
   "cell_type": "code",
   "execution_count": 7,
   "metadata": {},
   "outputs": [
    {
     "name": "stdout",
     "output_type": "stream",
     "text": [
      "{0: 'No_overrun', 1: 'NO_U-turn', 2: '100', 3: 'NO_left', 4: 'Height', 5: 'NO_entry', 6: 'No_twowheel', 7: 'NO_parking_stop', 8: 'Weight', 9: 'No_walk', 10: '50', 11: '60', 12: '40', 13: 'Default', 14: 'NO_truck', 15: 'NO_right', 16: 'Other_Circle', 17: 'No_straight', 18: '30'}\n"
     ]
    }
   ],
   "source": [
    "IDX_LABEL = {}\n",
    "for i, label in zip(range(0, N_CLASSES), LABELS) :\n",
    "    IDX_LABEL[i] = label\n",
    "print(IDX_LABEL)"
   ]
  },
  {
   "cell_type": "code",
   "execution_count": null,
   "metadata": {},
   "outputs": [],
   "source": []
  },
  {
   "cell_type": "markdown",
   "metadata": {},
   "source": [
    "### 데이터셋 만들기"
   ]
  },
  {
   "cell_type": "code",
   "execution_count": 8,
   "metadata": {},
   "outputs": [
    {
     "name": "stdout",
     "output_type": "stream",
     "text": [
      "<class '__main__.Dataset'>\n"
     ]
    }
   ],
   "source": [
    "Dataset = namedtuple('Dataset', ['X', 'y'])\n",
    "print(Dataset)"
   ]
  },
  {
   "cell_type": "code",
   "execution_count": 9,
   "metadata": {},
   "outputs": [],
   "source": [
    "# 텐서플로우에 맞는 이미지 텐서 포맷 : [?, ?, ?, ?]\n",
    "# 차원 확장\n",
    "def to_tf_format(imgs) :\n",
    "    return np.stack([img[:, :, :] for img in imgs], axis = 0).astype(np.float32)"
   ]
  },
  {
   "cell_type": "code",
   "execution_count": 10,
   "metadata": {},
   "outputs": [],
   "source": [
    "# 그 이미지를 미리 정의한 형상으로 크기 재조정\n",
    "# 레이블 원-핫 인코딩\n",
    "\n",
    "def read_dataset(root_path, labels_arr, resize_to) :\n",
    "    images = []\n",
    "    labels = []\n",
    "    \n",
    "    for label_name in labels_arr :\n",
    "        # 'data/no_parking/'\n",
    "        full_path = root_path + '/' + label_name + '/'\n",
    "        \n",
    "        for img in glob.glob(full_path + '*.jpg') :\n",
    "            image = cv2.imread(img).astype(np.float32)\n",
    "\n",
    "            # 회색조로 변환\n",
    "            # image = cv2.cvtColor(image, cv2.IMREAD_GRAYSCALE)[:, :, 0]\n",
    "            \n",
    "            # 크기 조정\n",
    "            if resize_to : \n",
    "                image = cv2.resize(image, resize_to)\n",
    "                \n",
    "            # 라벨\n",
    "            # 원-핫 인코딩\n",
    "            label = np.zeros((N_CLASSES, ), dtype = np.float32)\n",
    "            label[LABEL_IDX[label_name]] = 1.0\n",
    "            \n",
    "            images.append(image.astype(np.float32))\n",
    "            labels.append(label)\n",
    "            \n",
    "    return Dataset(X = to_tf_format(images).astype(np.float32), y = np.matrix(labels).astype(np.float32))"
   ]
  },
  {
   "cell_type": "code",
   "execution_count": 11,
   "metadata": {},
   "outputs": [
    {
     "name": "stdout",
     "output_type": "stream",
     "text": [
      "(42933, 64, 64, 3)\n",
      "(42933, 19)\n"
     ]
    }
   ],
   "source": [
    "dataset = read_dataset('data', LABELS, RESIZED_IMAGE)\n",
    "print(dataset.X.shape)\n",
    "print(dataset.y.shape)"
   ]
  },
  {
   "cell_type": "code",
   "execution_count": 12,
   "metadata": {},
   "outputs": [
    {
     "name": "stdout",
     "output_type": "stream",
     "text": [
      "(42933, 64, 64, 3) (64, 64, 3)\n"
     ]
    }
   ],
   "source": [
    "print(dataset.X.shape, dataset.X[0, :, :, :].shape)"
   ]
  },
  {
   "cell_type": "code",
   "execution_count": 13,
   "metadata": {},
   "outputs": [
    {
     "name": "stdout",
     "output_type": "stream",
     "text": [
      "[[1. 0. 0. 0. 0. 0. 0. 0. 0. 0. 0. 0. 0. 0. 0. 0. 0. 0. 0.]]\n"
     ]
    },
    {
     "data": {
      "image/png": "[encoded data removed]",
      "text/plain": [
       "<Figure size 432x288 with 1 Axes>"
      ]
     },
     "metadata": {
      "needs_background": "light"
     },
     "output_type": "display_data"
    }
   ],
   "source": [
    "# 첫번째 표본\n",
    "plt.imshow(dataset.X[0, :, :, 0].reshape(RESIZED_IMAGE))\n",
    "# 레이블\n",
    "print(dataset.y[0, :])"
   ]
  },
  {
   "cell_type": "code",
   "execution_count": 14,
   "metadata": {},
   "outputs": [
    {
     "name": "stdout",
     "output_type": "stream",
     "text": [
      "[[0. 0. 0. 0. 0. 0. 0. 0. 0. 0. 0. 0. 0. 0. 0. 0. 0. 0. 1.]]\n"
     ]
    },
    {
     "data": {
      "image/png": "[encoded data removed]",
      "text/plain": [
       "<Figure size 432x288 with 1 Axes>"
      ]
     },
     "metadata": {
      "needs_background": "light"
     },
     "output_type": "display_data"
    }
   ],
   "source": [
    "# 마지막 표본\n",
    "plt.imshow(dataset.X[-1, :, :, 0].reshape(RESIZED_IMAGE))\n",
    "# 레이블\n",
    "print(dataset.y[-1, :])"
   ]
  },
  {
   "cell_type": "code",
   "execution_count": 15,
   "metadata": {},
   "outputs": [],
   "source": [
    "# train/test 데이터셋 분류\n",
    "from sklearn.model_selection import train_test_split\n",
    "\n",
    "idx_train, idx_test = train_test_split(range(dataset.X.shape[0]), test_size = 0.25, random_state = 101 )"
   ]
  },
  {
   "cell_type": "code",
   "execution_count": 16,
   "metadata": {},
   "outputs": [],
   "source": [
    "# idx_train"
   ]
  },
  {
   "cell_type": "code",
   "execution_count": 17,
   "metadata": {},
   "outputs": [],
   "source": [
    "# idx_test"
   ]
  },
  {
   "cell_type": "code",
   "execution_count": 18,
   "metadata": {},
   "outputs": [
    {
     "data": {
      "text/plain": [
       "(32199, 10734)"
      ]
     },
     "execution_count": 18,
     "metadata": {},
     "output_type": "execute_result"
    }
   ],
   "source": [
    "len(idx_train), len(idx_test)"
   ]
  },
  {
   "cell_type": "code",
   "execution_count": 19,
   "metadata": {},
   "outputs": [
    {
     "name": "stdout",
     "output_type": "stream",
     "text": [
      "(32199, 64, 64, 3)\n",
      "(10734, 64, 64, 3)\n",
      "(32199, 19)\n",
      "(10734, 19)\n"
     ]
    }
   ],
   "source": [
    "X_train = dataset.X[idx_train, :, :, :]\n",
    "X_test = dataset.X[idx_test, :, :, :]\n",
    "y_train = dataset.y[idx_train, :]\n",
    "y_test = dataset.y[idx_test, :]\n",
    "print(X_train.shape)\n",
    "print(X_test.shape)\n",
    "print(y_train.shape)\n",
    "print(y_test.shape)"
   ]
  },
  {
   "cell_type": "code",
   "execution_count": null,
   "metadata": {},
   "outputs": [],
   "source": []
  },
  {
   "cell_type": "code",
   "execution_count": 20,
   "metadata": {},
   "outputs": [],
   "source": [
    "# 훈련 데이터의 미니배치 생성\n",
    "\n",
    "def minibatcher(X, y, batch_size, shuffle) :\n",
    "    assert X.shape[0] == y.shape[0]\n",
    "    n_samples = X.shape[0]\n",
    "    \n",
    "    if shuffle :\n",
    "        idx = np.random.permutation(n_samples)\n",
    "    else :\n",
    "        idx = list(range(n_samples))\n",
    "        \n",
    "    for k in range(int(np.ceil(n_samples / batch_size))) :\n",
    "        from_idx = k * batch_size\n",
    "        to_idx = (k+1) * batch_size\n",
    "        yield X[idx[from_idx:to_idx], :, :, :], y[idx[from_idx:to_idx], :]"
   ]
  },
  {
   "cell_type": "code",
   "execution_count": 21,
   "metadata": {},
   "outputs": [
    {
     "name": "stdout",
     "output_type": "stream",
     "text": [
      "(1000, 64, 64, 3) (1000, 19)\n",
      "(1000, 64, 64, 3) (1000, 19)\n",
      "(1000, 64, 64, 3) (1000, 19)\n",
      "(1000, 64, 64, 3) (1000, 19)\n",
      "(1000, 64, 64, 3) (1000, 19)\n",
      "(1000, 64, 64, 3) (1000, 19)\n",
      "(1000, 64, 64, 3) (1000, 19)\n",
      "(1000, 64, 64, 3) (1000, 19)\n",
      "(1000, 64, 64, 3) (1000, 19)\n",
      "(1000, 64, 64, 3) (1000, 19)\n",
      "(1000, 64, 64, 3) (1000, 19)\n",
      "(1000, 64, 64, 3) (1000, 19)\n",
      "(1000, 64, 64, 3) (1000, 19)\n",
      "(1000, 64, 64, 3) (1000, 19)\n",
      "(1000, 64, 64, 3) (1000, 19)\n",
      "(1000, 64, 64, 3) (1000, 19)\n",
      "(1000, 64, 64, 3) (1000, 19)\n",
      "(1000, 64, 64, 3) (1000, 19)\n",
      "(1000, 64, 64, 3) (1000, 19)\n",
      "(1000, 64, 64, 3) (1000, 19)\n",
      "(1000, 64, 64, 3) (1000, 19)\n",
      "(1000, 64, 64, 3) (1000, 19)\n",
      "(1000, 64, 64, 3) (1000, 19)\n",
      "(1000, 64, 64, 3) (1000, 19)\n",
      "(1000, 64, 64, 3) (1000, 19)\n",
      "(1000, 64, 64, 3) (1000, 19)\n",
      "(1000, 64, 64, 3) (1000, 19)\n",
      "(1000, 64, 64, 3) (1000, 19)\n",
      "(1000, 64, 64, 3) (1000, 19)\n",
      "(1000, 64, 64, 3) (1000, 19)\n",
      "(1000, 64, 64, 3) (1000, 19)\n",
      "(1000, 64, 64, 3) (1000, 19)\n",
      "(199, 64, 64, 3) (199, 19)\n"
     ]
    }
   ],
   "source": [
    "for mb in minibatcher(X_train, y_train, 1000, True) :\n",
    "    print(mb[0].shape, mb[1].shape)"
   ]
  },
  {
   "cell_type": "code",
   "execution_count": null,
   "metadata": {},
   "outputs": [],
   "source": []
  },
  {
   "cell_type": "markdown",
   "metadata": {},
   "source": [
    "### 모델 구성"
   ]
  },
  {
   "cell_type": "code",
   "execution_count": 22,
   "metadata": {},
   "outputs": [],
   "source": [
    "# optimizer : AdamOptimizer"
   ]
  },
  {
   "cell_type": "code",
   "execution_count": 23,
   "metadata": {},
   "outputs": [],
   "source": [
    "# hyperparameters\n",
    "learning_rate = 0.001\n",
    "training_epochs = 50\n",
    "batch_size = 100"
   ]
  },
  {
   "cell_type": "code",
   "execution_count": 24,
   "metadata": {},
   "outputs": [],
   "source": [
    "# 모델 생성 함수\n",
    "def build_model(X) :\n",
    "    \n",
    "    # Layer1 / ImgIn shape = (?, 64, 64, 3)\n",
    "    # kernel_size = [3, 3], filters = 32\n",
    "    W1 = tf.Variable(tf.random_normal([3, 3, 3, 32], stddev = 0.01))\n",
    "    L1 = tf.nn.conv2d(X, W1, strides = [1, 1, 1, 1], padding = 'SAME')\n",
    "    #    Conv     -> (?, 64, 64, 32)\n",
    "    L1 = tf.nn.relu(L1)\n",
    "    L1 = tf.nn.max_pool(L1, ksize = [1, 2, 2, 1], strides = [1, 2, 2, 1], padding = 'SAME')\n",
    "    #    Pool     -> (?, 32, 32, 32)\n",
    "    L1 = tf.nn.dropout(L1, keep_prob = keep_prob)\n",
    "    \n",
    "    # Layer2 / ImgIn shape = (?, 32, 32, 32)\n",
    "    # kernel_size = [3, 3], filters = 64 \n",
    "    W2 = tf.Variable(tf.random_normal([3, 3, 32, 64], stddev = 0.01))\n",
    "    L2 = tf.nn.conv2d(L1, W2, strides = [1, 1, 1, 1], padding = 'SAME')\n",
    "    #    Conv     -> (?, 32, 32, 64)\n",
    "    L2 = tf.nn.relu(L2)\n",
    "    L2 = tf.nn.max_pool(L2, ksize = [1, 2, 2, 1], strides = [1, 2, 2, 1], padding = 'SAME')\n",
    "    #    Pool     -> (?, 16, 16, 64)\n",
    "    L2 = tf.nn.dropout(L2, keep_prob = keep_prob)\n",
    "    \n",
    "    # Layer3 / ImgIn shape = (?, 16, 16, 64)\n",
    "    # kernel_size = [3, 3], filters = 128 \n",
    "    W3 = tf.Variable(tf.random_normal([3, 3, 64, 128], stddev = 0.01))\n",
    "    L3 = tf.nn.conv2d(L2, W3, strides = [1, 1, 1, 1], padding = 'SAME')\n",
    "    #    Conv     -> (?, 16, 16, 128)\n",
    "    L3 = tf.nn.relu(L3)\n",
    "    L3 = tf.nn.max_pool(L3, ksize = [1, 2, 2, 1], strides = [1, 2, 2, 1], padding = 'SAME')\n",
    "    #    Pool     -> (?, 8, 8, 128)\n",
    "    L3 = tf.nn.dropout(L3, keep_prob = keep_prob)\n",
    "    L3_flat = tf.reshape(L3, [-1, 128 * 8 * 8])\n",
    "    \n",
    "    # Layer4 / FC 8x8x128 inputs -> 625 outputs\n",
    "    W4 = tf.get_variable(\"W4\", shape = [128 * 8 * 8, 625], initializer=tf.contrib.layers.xavier_initializer())\n",
    "    b4 = tf.Variable(tf.random_normal([625]))\n",
    "    L4 = tf.nn.relu(tf.matmul(L3_flat, W4) + b4)\n",
    "    L4 = tf.nn.dropout(L4, keep_prob = keep_prob)\n",
    "    \n",
    "    # Layer5 / Final FC 625 inputs -> (N_CLASSES) outputs\n",
    "    W5 = tf.get_variable(\"W5\", shape = [625, N_CLASSES], initializer=tf.contrib.layers.xavier_initializer())\n",
    "    b5 = tf.Variable(tf.random_normal([N_CLASSES]))\n",
    "    logits = tf.matmul(L4, W5) + b5\n",
    "    y_pred = tf.nn.softmax(logits)\n",
    "    \n",
    "    return y_pred, logits"
   ]
  },
  {
   "cell_type": "code",
   "execution_count": 25,
   "metadata": {},
   "outputs": [],
   "source": [
    "# dropout (keep_prob) rate  0.7~0.5 on training, but should be 1 for testing\n",
    "keep_prob = tf.placeholder(tf.float32)\n",
    "\n",
    "# input placeholders\n",
    "X = tf.placeholder(tf.float32, [None, RESIZED_IMAGE[0], RESIZED_IMAGE[1], 3])\n",
    "y = tf.placeholder(tf.float32, [None, N_CLASSES])"
   ]
  },
  {
   "cell_type": "code",
   "execution_count": 26,
   "metadata": {},
   "outputs": [
    {
     "name": "stdout",
     "output_type": "stream",
     "text": [
      "WARNING:tensorflow:From <ipython-input-24-14ec18212efe>:12: calling dropout (from tensorflow.python.ops.nn_ops) with keep_prob is deprecated and will be removed in a future version.\n",
      "Instructions for updating:\n",
      "Please use `rate` instead of `keep_prob`. Rate should be set to `rate = 1 - keep_prob`.\n",
      "WARNING:tensorflow:\n",
      "The TensorFlow contrib module will not be included in TensorFlow 2.0.\n",
      "For more information, please see:\n",
      "  * https://github.com/tensorflow/community/blob/master/rfcs/20180907-contrib-sunset.md\n",
      "  * https://github.com/tensorflow/addons\n",
      "  * https://github.com/tensorflow/io (for I/O related ops)\n",
      "If you depend on functionality not listed there, please file an issue.\n",
      "\n"
     ]
    }
   ],
   "source": [
    "y_pred, logits = build_model(X)"
   ]
  },
  {
   "cell_type": "code",
   "execution_count": 27,
   "metadata": {},
   "outputs": [
    {
     "name": "stdout",
     "output_type": "stream",
     "text": [
      "WARNING:tensorflow:From <ipython-input-27-52bff28cbbae>:2: softmax_cross_entropy_with_logits (from tensorflow.python.ops.nn_ops) is deprecated and will be removed in a future version.\n",
      "Instructions for updating:\n",
      "\n",
      "Future major versions of TensorFlow will allow gradients to flow\n",
      "into the labels input on backprop by default.\n",
      "\n",
      "See `tf.nn.softmax_cross_entropy_with_logits_v2`.\n",
      "\n"
     ]
    }
   ],
   "source": [
    "# define cost/loss & optimizer\n",
    "cost = tf.reduce_mean(tf.nn.softmax_cross_entropy_with_logits(logits=logits, labels=y))\n",
    "optimizer = tf.train.AdamOptimizer(learning_rate=learning_rate).minimize(cost)"
   ]
  },
  {
   "cell_type": "code",
   "execution_count": 28,
   "metadata": {},
   "outputs": [],
   "source": [
    "correct_prediction = tf.equal(tf.argmax(logits, 1), tf.argmax(y, 1))\n",
    "accuracy = tf.reduce_mean(tf.cast(correct_prediction, tf.float32))"
   ]
  },
  {
   "cell_type": "code",
   "execution_count": null,
   "metadata": {},
   "outputs": [],
   "source": []
  },
  {
   "cell_type": "markdown",
   "metadata": {},
   "source": [
    "### 모델 학습 및 저장"
   ]
  },
  {
   "cell_type": "code",
   "execution_count": 29,
   "metadata": {},
   "outputs": [],
   "source": [
    "CHECK_POINT_DIR = './model.ckpt'\n",
    "if not os.path.exists(CHECK_POINT_DIR) :\n",
    "    os.makedirs(CHECK_POINT_DIR)"
   ]
  },
  {
   "cell_type": "code",
   "execution_count": 30,
   "metadata": {
    "scrolled": true
   },
   "outputs": [
    {
     "name": "stdout",
     "output_type": "stream",
     "text": [
      "model_checkpoint_path: \"./model.ckpt/model\"\n",
      "all_model_checkpoint_paths: \"./model.ckpt/model\"\n",
      "\n",
      "./model.ckpt/model\n"
     ]
    }
   ],
   "source": [
    "checkpoint = tf.train.get_checkpoint_state(CHECK_POINT_DIR)\n",
    "if checkpoint :\n",
    "    print(checkpoint)\n",
    "    print(checkpoint.model_checkpoint_path)"
   ]
  },
  {
   "cell_type": "code",
   "execution_count": 31,
   "metadata": {},
   "outputs": [],
   "source": [
    "# save model\n",
    "saver = tf.train.Saver()"
   ]
  },
  {
   "cell_type": "code",
   "execution_count": 32,
   "metadata": {},
   "outputs": [],
   "source": [
    "# initialize\n",
    "config = ConfigProto()\n",
    "config.gpu_options.allow_growth = True\n",
    "sess = tf.Session(config=config)\n",
    "sess.run(tf.global_variables_initializer())"
   ]
  },
  {
   "cell_type": "code",
   "execution_count": 33,
   "metadata": {},
   "outputs": [
    {
     "name": "stdout",
     "output_type": "stream",
     "text": [
      "WARNING:tensorflow:From /home/team2/anaconda3/lib/python3.7/site-packages/tensorflow/python/training/saver.py:1276: checkpoint_exists (from tensorflow.python.training.checkpoint_management) is deprecated and will be removed in a future version.\n",
      "Instructions for updating:\n",
      "Use standard file APIs to check for files with this prefix.\n",
      "INFO:tensorflow:Restoring parameters from ./model.ckpt/model\n",
      "Successfully loaded :  ./model.ckpt/model\n"
     ]
    }
   ],
   "source": [
    "# load a trained model\n",
    "if checkpoint and checkpoint.model_checkpoint_path :\n",
    "    try : \n",
    "        # saver = tf.train.import_meta_graph(checkpoint.model_checkpoint_path + '.meta')\n",
    "        saver.restore(sess, checkpoint.model_checkpoint_path)\n",
    "        print('Successfully loaded : ', checkpoint.model_checkpoint_path)\n",
    "    except :\n",
    "        print(\"Error on loading old network weights\")\n",
    "else :\n",
    "    print(\"Could not find old network weights\")"
   ]
  },
  {
   "cell_type": "code",
   "execution_count": 43,
   "metadata": {},
   "outputs": [
    {
     "name": "stdout",
     "output_type": "stream",
     "text": [
      "Epoch =  0\n",
      "cost =  0.045497783\n",
      "Epoch =  1\n",
      "cost =  0.05429868\n",
      "Epoch =  2\n",
      "cost =  0.046972662\n",
      "Epoch =  3\n",
      "cost =  0.042434108\n",
      "Epoch =  4\n",
      "cost =  0.034604408\n",
      "Epoch =  5\n",
      "cost =  0.039154217\n",
      "Epoch =  6\n",
      "cost =  0.034538593\n",
      "Epoch =  7\n",
      "cost =  0.046684634\n",
      "Epoch =  8\n",
      "cost =  0.036053825\n",
      "Epoch =  9\n",
      "cost =  0.03717682\n",
      "Epoch =  10\n",
      "cost =  0.03467186\n",
      "Epoch =  11\n",
      "cost =  0.052270103\n",
      "Epoch =  12\n",
      "cost =  0.03600009\n",
      "Epoch =  13\n",
      "cost =  0.045461576\n",
      "Epoch =  14\n",
      "cost =  0.047320846\n",
      "Epoch =  15\n",
      "cost =  0.0632792\n",
      "Epoch =  16\n",
      "cost =  0.0632095\n",
      "Epoch =  17\n",
      "cost =  0.021946423\n",
      "Epoch =  18\n",
      "cost =  0.034517247\n",
      "Epoch =  19\n",
      "cost =  0.038345918\n",
      "Epoch =  20\n",
      "cost =  0.04183213\n",
      "Epoch =  21\n",
      "cost =  0.048570048\n",
      "Epoch =  22\n",
      "cost =  0.05578598\n",
      "Epoch =  23\n",
      "cost =  0.049543496\n",
      "Epoch =  24\n",
      "cost =  0.06981262\n",
      "Epoch =  25\n",
      "cost =  0.06039566\n",
      "Epoch =  26\n",
      "cost =  0.06563429\n",
      "Epoch =  27\n",
      "cost =  0.040202543\n",
      "Epoch =  28\n",
      "cost =  0.050661087\n",
      "Epoch =  29\n",
      "cost =  0.037756275\n",
      "Epoch =  30\n",
      "cost =  0.055517495\n",
      "Epoch =  31\n",
      "cost =  0.035881616\n",
      "Epoch =  32\n",
      "cost =  0.03809\n",
      "Epoch =  33\n",
      "cost =  0.060363486\n",
      "Epoch =  34\n",
      "cost =  0.043108962\n",
      "Epoch =  35\n",
      "cost =  0.045678392\n",
      "Epoch =  36\n",
      "cost =  0.041176226\n",
      "Epoch =  37\n",
      "cost =  0.051447675\n",
      "Epoch =  38\n",
      "cost =  0.06915585\n",
      "Epoch =  39\n",
      "cost =  0.05533127\n",
      "Epoch =  40\n",
      "cost =  0.09069001\n",
      "Epoch =  41\n",
      "cost =  0.062888555\n",
      "Epoch =  42\n",
      "cost =  0.04107986\n",
      "Epoch =  43\n",
      "cost =  0.040196165\n",
      "Epoch =  44\n",
      "cost =  0.07650371\n",
      "Epoch =  45\n",
      "cost =  0.05333589\n",
      "Epoch =  46\n",
      "cost =  0.0533707\n",
      "Epoch =  47\n",
      "cost =  0.057023764\n",
      "Epoch =  48\n",
      "cost =  0.05982096\n",
      "Epoch =  49\n",
      "cost =  0.040747914\n"
     ]
    }
   ],
   "source": [
    "# train\n",
    "for epoch in range(training_epochs) :\n",
    "    print(\"Epoch = \", epoch)\n",
    "    costs = []\n",
    "\n",
    "    for mb in minibatcher(X_train, y_train, batch_size, True) :\n",
    "        feed_dict = {X : mb[0], y : mb[1], keep_prob : 0.7}\n",
    "        c, _ = sess.run([cost, optimizer], feed_dict = feed_dict)\n",
    "        costs.append(c)\n",
    "        \n",
    "    print('cost = ', np.mean(costs))"
   ]
  },
  {
   "cell_type": "code",
   "execution_count": 44,
   "metadata": {},
   "outputs": [
    {
     "name": "stdout",
     "output_type": "stream",
     "text": [
      "Trained Model Saved.\n"
     ]
    }
   ],
   "source": [
    "saver.save(sess, CHECK_POINT_DIR + '/model')\n",
    "print('Trained Model Saved.')"
   ]
  },
  {
   "cell_type": "code",
   "execution_count": null,
   "metadata": {},
   "outputs": [],
   "source": []
  },
  {
   "cell_type": "markdown",
   "metadata": {},
   "source": [
    "### 예측"
   ]
  },
  {
   "cell_type": "code",
   "execution_count": 36,
   "metadata": {},
   "outputs": [],
   "source": [
    "# tf.reduce_mean(tf.cast(tf.equal(tf.argmax(logits, 1), tf.argmax(y, 1)), tf.float32))"
   ]
  },
  {
   "cell_type": "code",
   "execution_count": 37,
   "metadata": {},
   "outputs": [],
   "source": [
    "# print('accuracy : ', sess.run(accuracy, feed_dict = {X : X_test, y : y_test, keep_prob : 1}))"
   ]
  },
  {
   "cell_type": "code",
   "execution_count": 45,
   "metadata": {},
   "outputs": [
    {
     "name": "stdout",
     "output_type": "stream",
     "text": [
      "accuracy =  0.9939814\n"
     ]
    }
   ],
   "source": [
    "accuracies = []\n",
    "for mb in minibatcher(X_test, y_test, batch_size, True) :\n",
    "    feed_dict = {X : mb[0], y : mb[1], keep_prob : 1}\n",
    "    acc = sess.run(accuracy, feed_dict = feed_dict)\n",
    "    accuracies.append(acc)\n",
    "print('accuracy = ', np.mean(accuracies))"
   ]
  },
  {
   "cell_type": "code",
   "execution_count": 39,
   "metadata": {},
   "outputs": [],
   "source": [
    "# print(sess.run(y_pred, feed_dict = {X : X_test, keep_prob : 1}))"
   ]
  },
  {
   "cell_type": "code",
   "execution_count": 40,
   "metadata": {},
   "outputs": [],
   "source": [
    "# pred_num = list(sess.run(tf.argmax(y_pred, axis = 1), feed_dict = {X : X_test, keep_prob : 1}))\n",
    "# pred_name = []\n",
    "# for num in pred_num :\n",
    "#     pred_name.append(IDX_LABEL[num])"
   ]
  },
  {
   "cell_type": "code",
   "execution_count": null,
   "metadata": {},
   "outputs": [],
   "source": []
  },
  {
   "cell_type": "markdown",
   "metadata": {},
   "source": [
    "### 시각화"
   ]
  },
  {
   "cell_type": "code",
   "execution_count": 68,
   "metadata": {},
   "outputs": [
    {
     "name": "stdout",
     "output_type": "stream",
     "text": [
      "              precision    recall  f1-score   support\n",
      "\n",
      "           0       0.50      1.00      0.67         1\n",
      "           1       1.00      1.00      1.00        46\n",
      "           2       1.00      1.00      1.00         1\n",
      "           3       1.00      1.00      1.00       129\n",
      "           4       1.00      0.94      0.97        33\n",
      "           5       1.00      1.00      1.00         7\n",
      "           7       0.99      0.99      0.99       108\n",
      "           8       0.00      0.00      0.00         0\n",
      "          10       0.99      1.00      0.99       488\n",
      "          11       1.00      0.92      0.96        26\n",
      "          13       0.88      1.00      0.93         7\n",
      "          14       1.00      1.00      1.00        30\n",
      "          15       1.00      1.00      1.00        54\n",
      "          16       1.00      0.91      0.95        33\n",
      "          17       1.00      1.00      1.00         1\n",
      "          18       1.00      0.94      0.97        36\n",
      "\n",
      "    accuracy                           0.99      1000\n",
      "   macro avg       0.90      0.92      0.90      1000\n",
      "weighted avg       0.99      0.99      0.99      1000\n",
      "\n"
     ]
    }
   ],
   "source": [
    "# classification_report\n",
    "# 일부 데이터만\n",
    "print(classification_report(sess.run(tf.argmax(y_test[:1000, :], 1)), \n",
    "                            sess.run(tf.argmax(y_pred, 1), feed_dict = {X : X_test[:1000, :, :, :], keep_prob : 1})))"
   ]
  },
  {
   "cell_type": "code",
   "execution_count": 69,
   "metadata": {},
   "outputs": [
    {
     "data": {
      "image/png": "[encoded data removed]",
      "text/plain": [
       "<Figure size 432x288 with 2 Axes>"
      ]
     },
     "metadata": {
      "needs_background": "light"
     },
     "output_type": "display_data"
    }
   ],
   "source": [
    "# confusion_matrix(혼동행렬)\n",
    "cm = confusion_matrix(sess.run(tf.argmax(y_test[:1000, :], 1)), \n",
    "                            sess.run(tf.argmax(y_pred, 1), feed_dict = {X : X_test[:1000, :, :, :], keep_prob : 1}))\n",
    "plt.imshow(cm, interpolation='nearest', cmap=plt.cm.Blues)\n",
    "plt.colorbar()\n",
    "plt.tight_layout()\n",
    "plt.show()"
   ]
  },
  {
   "cell_type": "code",
   "execution_count": null,
   "metadata": {},
   "outputs": [],
   "source": []
  },
  {
   "cell_type": "code",
   "execution_count": 34,
   "metadata": {},
   "outputs": [],
   "source": [
    "# 세션 종료\n",
    "sess.close()"
   ]
  },
  {
   "cell_type": "code",
   "execution_count": null,
   "metadata": {},
   "outputs": [],
   "source": []
  }
 ],
 "metadata": {
  "kernelspec": {
   "display_name": "tensorflow-gpu",
   "language": "python",
   "name": "py374"
  },
  "language_info": {
   "codemirror_mode": {
    "name": "ipython",
    "version": 3
   },
   "file_extension": ".py",
   "mimetype": "text/x-python",
   "name": "python",
   "nbconvert_exporter": "python",
   "pygments_lexer": "ipython3",
   "version": "3.7.3"
  }
 },
 "nbformat": 4,
 "nbformat_minor": 2
}
