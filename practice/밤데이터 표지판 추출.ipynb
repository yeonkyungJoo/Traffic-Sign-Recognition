{
 "cells": [
  {
   "cell_type": "code",
   "execution_count": 3,
   "metadata": {},
   "outputs": [
    {
     "ename": "error",
     "evalue": "OpenCV(3.4.7) /io/opencv/modules/imgproc/src/color.cpp:182: error: (-215:Assertion failed) !_src.empty() in function 'cvtColor'\n",
     "output_type": "error",
     "traceback": [
      "\u001b[0;31m---------------------------------------------------------------------------\u001b[0m",
      "\u001b[0;31merror\u001b[0m                                     Traceback (most recent call last)",
      "\u001b[0;32m<ipython-input-3-026e19e9b7cb>\u001b[0m in \u001b[0;36m<module>\u001b[0;34m\u001b[0m\n\u001b[1;32m     39\u001b[0m     \u001b[0;31m#blur = cv2.GaussianBlur( img, (3,3), 0 )\u001b[0m\u001b[0;34m\u001b[0m\u001b[0;34m\u001b[0m\u001b[0;34m\u001b[0m\u001b[0m\n\u001b[1;32m     40\u001b[0m \u001b[0;34m\u001b[0m\u001b[0m\n\u001b[0;32m---> 41\u001b[0;31m     \u001b[0mhsv\u001b[0m \u001b[0;34m=\u001b[0m \u001b[0mcv2\u001b[0m\u001b[0;34m.\u001b[0m\u001b[0mcvtColor\u001b[0m\u001b[0;34m(\u001b[0m\u001b[0mimg\u001b[0m\u001b[0;34m,\u001b[0m \u001b[0mcv2\u001b[0m\u001b[0;34m.\u001b[0m\u001b[0mCOLOR_BGR2HSV\u001b[0m\u001b[0;34m)\u001b[0m\u001b[0;34m\u001b[0m\u001b[0;34m\u001b[0m\u001b[0m\n\u001b[0m\u001b[1;32m     42\u001b[0m     \u001b[0mmask_red1\u001b[0m \u001b[0;34m=\u001b[0m \u001b[0mcv2\u001b[0m\u001b[0;34m.\u001b[0m\u001b[0minRange\u001b[0m\u001b[0;34m(\u001b[0m\u001b[0mhsv\u001b[0m\u001b[0;34m,\u001b[0m \u001b[0mred1\u001b[0m\u001b[0;34m,\u001b[0m \u001b[0mred2\u001b[0m\u001b[0;34m)\u001b[0m\u001b[0;34m\u001b[0m\u001b[0;34m\u001b[0m\u001b[0m\n\u001b[1;32m     43\u001b[0m     \u001b[0mmask_red2\u001b[0m \u001b[0;34m=\u001b[0m \u001b[0mcv2\u001b[0m\u001b[0;34m.\u001b[0m\u001b[0minRange\u001b[0m\u001b[0;34m(\u001b[0m\u001b[0mhsv\u001b[0m\u001b[0;34m,\u001b[0m \u001b[0mred3\u001b[0m\u001b[0;34m,\u001b[0m \u001b[0mred4\u001b[0m\u001b[0;34m)\u001b[0m\u001b[0;34m\u001b[0m\u001b[0;34m\u001b[0m\u001b[0m\n",
      "\u001b[0;31merror\u001b[0m: OpenCV(3.4.7) /io/opencv/modules/imgproc/src/color.cpp:182: error: (-215:Assertion failed) !_src.empty() in function 'cvtColor'\n"
     ]
    }
   ],
   "source": [
    "import cv2\n",
    "import numpy as np\n",
    "import matplotlib.pylab as plt\n",
    "import glob\n",
    "import time\n",
    "\n",
    "# 영상 경로 설정\n",
    "video_path= './test_data/k3.mp4'\n",
    "cap = cv2.VideoCapture(video_path)\n",
    "\n",
    "# 영상 이름\n",
    "video_file = video_path.split('/')[-1]\n",
    "video_name = video_file.split('.')[0]\n",
    "\n",
    "# 필터 \n",
    "red1 = np.array([0, 20, 10]) # 밝은 빨강(주황계열)\n",
    "red2 = np.array([7, 250, 240])\n",
    "\n",
    "red3 = np.array([155, 20, 10]) # 어두운 빨강(갈색계열)\n",
    "red4 = np.array([180, 255, 240])\n",
    "\n",
    "# 필터 커널 세팅\n",
    "kernel = np.ones((2, 2), np.uint8)\n",
    "kernel2 = np.ones((4, 4), np.uint8)\n",
    "\n",
    "# 영상 시간 (프레임) 세팅\n",
    "frame_move = int(cap.get(cv2.CAP_PROP_FRAME_COUNT) *1 / 2 )\n",
    "#cap.set(cv2.CAP_PROP_POS_FRAMES, frame_move)\n",
    "\n",
    "\n",
    "########################################################################################\n",
    "while True :\n",
    "    ret, img = cap.read()   \n",
    "\n",
    "    if ret is None:\n",
    "        break\n",
    "    ##########  img preprocessing  ###########\n",
    "    #img = cv2.resize(img, (img.shape[1]//2, img.shape[0]//2),  interpolation=cv2.INTER_AREA)\n",
    "    #blur = cv2.GaussianBlur( img, (3,3), 0 )  \n",
    "    \n",
    "    hsv = cv2.cvtColor(img, cv2.COLOR_BGR2HSV) \n",
    "    mask_red1 = cv2.inRange(hsv, red1, red2)\n",
    "    mask_red2 = cv2.inRange(hsv, red3, red4)\n",
    "    mask_red = mask_red1 + mask_red2\n",
    "    \n",
    "    \n",
    "    edges = cv2.Canny(img, 80,200)\n",
    "    cv2.imshow('edges', edges )\n",
    "    \n",
    "    res_red = cv2.bitwise_and(img, img, mask = edges)\n",
    "    res_red2 = cv2.bitwise_and(res_red, res_red, mask =mask_red)\n",
    "    cv2.imshow('red', res_red2 )\n",
    "    \n",
    "    res_gray = cv2.cvtColor(res_red2, cv2.COLOR_BGR2GRAY)\n",
    "    thr, mmm = cv2.threshold(res_gray, 60, 255, cv2.THRESH_BINARY)\n",
    "    \n",
    "    dilation_image = cv2.dilate(mmm, kernel2, iterations=1)\n",
    "    erosion_image = cv2.erode(dilation_image, kernel, iterations=1)\n",
    "    cv2.imshow('Canny', erosion_image )\n",
    "    \n",
    "    circles = cv2.HoughCircles(erosion_image, cv2.HOUGH_GRADIENT, 1, 100, param1=100, param2=25, minRadius=5, maxRadius=40)\n",
    "#     #res_red = cv2.bitwise_and(mask_red, edges)\n",
    "    \n",
    "#     # 침식 (노이즈제거) -> 팽창(픽셀 살리기) \n",
    "\n",
    "#     circles = cv2.HoughCircles(res_red2, cv2.HOUGH_GRADIENT, 1, 100, param1=100, param2=30, minRadius=5, maxRadius=40)\n",
    "\n",
    "    if circles is not None :\n",
    "        circles = np.uint16(np.around(circles))\n",
    "\n",
    "        for i in circles[0, :] :\n",
    "\n",
    "            #cv2.rectangle(img, (i[0], i[1]), (i[0]+i[2],i[1]+i[2] ), (0, 0, 255), 2)\n",
    "            cv2.circle(img, ( i[0], i[1] ), i[2], (0, 255, 0), 2)\n",
    "\n",
    "\n",
    "    \n",
    "    \n",
    "    ############## view  img ############# \n",
    "    #cv2.imshow('Canny', edges )\n",
    "\n",
    "    cv2.imshow(video_file, img)\n",
    "\n",
    "    \n",
    "    \n",
    "    \n",
    "    \n",
    "   ########## keyboard interrupt ###########\n",
    "    if cv2.waitKey(1) == 27 :\n",
    "        cap.release()\n",
    "        cv2.destroyAllWindows()\n",
    "########################################################################################\n",
    "\n",
    "cv2.waitKey(0)\n",
    "cap.release()\n",
    "cv2.destroyAllWindows()"
   ]
  },
  {
   "cell_type": "code",
   "execution_count": null,
   "metadata": {},
   "outputs": [],
   "source": []
  },
  {
   "cell_type": "code",
   "execution_count": null,
   "metadata": {},
   "outputs": [],
   "source": []
  },
  {
   "cell_type": "code",
   "execution_count": null,
   "metadata": {},
   "outputs": [],
   "source": []
  },
  {
   "cell_type": "code",
   "execution_count": null,
   "metadata": {},
   "outputs": [],
   "source": []
  },
  {
   "cell_type": "code",
   "execution_count": null,
   "metadata": {},
   "outputs": [],
   "source": []
  },
  {
   "cell_type": "code",
   "execution_count": null,
   "metadata": {},
   "outputs": [],
   "source": [
    "import cv2\n",
    "import numpy as np\n",
    "import matplotlib.pylab as plt\n",
    "import glob\n",
    "import time\n",
    "\n",
    "# 영상 경로 설정\n",
    "video_path= './test_data/k2.mp4'\n",
    "cap = cv2.VideoCapture(video_path)\n",
    "\n",
    "# 영상 이름\n",
    "video_file = video_path.split('/')[-1]\n",
    "video_name = video_file.split('.')[0]\n",
    "\n",
    "# 필터 \n",
    "red1 = np.array([0, 20, 0]) # 밝은 빨강(주황계열)\n",
    "red2 = np.array([15, 250, 255])\n",
    "\n",
    "red3 = np.array([155, 20, 0]) # 어두운 빨강(갈색계열)\n",
    "red4 = np.array([180, 255, 255])\n",
    "\n",
    "# 필터 커널 세팅\n",
    "kernel = np.ones((2, 2), np.uint8)\n",
    "kernel2 = np.ones((4, 4), np.uint8)\n",
    "\n",
    "# 영상 시간 (프레임) 세팅\n",
    "frame_move = int(cap.get(cv2.CAP_PROP_FRAME_COUNT) *1 / 2 )\n",
    "#cap.set(cv2.CAP_PROP_POS_FRAMES, frame_move)\n",
    "\n",
    "\n",
    "########################################################################################\n",
    "while True :\n",
    "    ret, img = cap.read()   \n",
    "\n",
    "    if ret is None:\n",
    "        break\n",
    "    ##########  img preprocessing  ###########\n",
    "    #img = cv2.resize(img, (img.shape[1]//2, img.shape[0]//2),  interpolation=cv2.INTER_AREA)\n",
    "    #blur = cv2.GaussianBlur( img, (3,3), 0 )  \n",
    "    \n",
    "    hsv = cv2.cvtColor(img, cv2.COLOR_BGR2HSV) \n",
    "    mask_red1 = cv2.inRange(hsv, red1, red2)\n",
    "    mask_red2 = cv2.inRange(hsv, red3, red4)\n",
    "    mask_red = mask_red1 + mask_red2\n",
    "    \n",
    "    \n",
    "    edges = cv2.Canny(img, 80,200)\n",
    "    cv2.imshow('edges', edges )\n",
    "    \n",
    "    res_red = cv2.bitwise_and(img, img, mask = edges)\n",
    "    res_red2 = cv2.bitwise_and(res_red, res_red, mask =mask_red)\n",
    "    cv2.imshow('red', res_red2 )\n",
    "    \n",
    "    res_gray = cv2.cvtColor(res_red2, cv2.COLOR_BGR2GRAY)\n",
    "    thr, mmm = cv2.threshold(res_gray, 60, 255, cv2.THRESH_BINARY)\n",
    "    \n",
    "    dilation_image = cv2.dilate(mmm, kernel2, iterations=1)\n",
    "    erosion_image = cv2.erode(dilation_image, kernel, iterations=1)\n",
    "    cv2.imshow('Canny', erosion_image )\n",
    "    \n",
    "    circles = cv2.HoughCircles(erosion_image, cv2.HOUGH_GRADIENT, 1, 100, param1=100, param2=25, minRadius=5, maxRadius=40)\n",
    "#     #res_red = cv2.bitwise_and(mask_red, edges)\n",
    "    \n",
    "#     # 침식 (노이즈제거) -> 팽창(픽셀 살리기) \n",
    "\n",
    "#     circles = cv2.HoughCircles(res_red2, cv2.HOUGH_GRADIENT, 1, 100, param1=100, param2=30, minRadius=5, maxRadius=40)\n",
    "\n",
    "    if circles is not None :\n",
    "        circles = np.uint16(np.around(circles))\n",
    "\n",
    "        for i in circles[0, :] :\n",
    "\n",
    "            #cv2.rectangle(img, (i[0], i[1]), (i[0]+i[2],i[1]+i[2] ), (0, 0, 255), 2)\n",
    "            cv2.circle(img, ( i[0], i[1] ), i[2], (0, 255, 0), 2)\n",
    "\n",
    "\n",
    "    \n",
    "    \n",
    "    ############## view  img ############# \n",
    "    #cv2.imshow('Canny', edges )\n",
    "\n",
    "    cv2.imshow(video_file, img)\n",
    "\n",
    "    \n",
    "    \n",
    "    \n",
    "    \n",
    "   ########## keyboard interrupt ###########\n",
    "    if cv2.waitKey(1) == 27 :\n",
    "        cap.release()\n",
    "        cv2.destroyAllWindows()\n",
    "########################################################################################\n",
    "\n",
    "cv2.waitKey(0)\n",
    "cap.release()\n",
    "cv2.destroyAllWindows()"
   ]
  },
  {
   "cell_type": "code",
   "execution_count": null,
   "metadata": {},
   "outputs": [],
   "source": []
  },
  {
   "cell_type": "code",
   "execution_count": null,
   "metadata": {},
   "outputs": [],
   "source": []
  },
  {
   "cell_type": "code",
   "execution_count": null,
   "metadata": {},
   "outputs": [],
   "source": []
  },
  {
   "cell_type": "code",
   "execution_count": null,
   "metadata": {},
   "outputs": [],
   "source": []
  },
  {
   "cell_type": "code",
   "execution_count": null,
   "metadata": {},
   "outputs": [],
   "source": []
  },
  {
   "cell_type": "code",
   "execution_count": null,
   "metadata": {},
   "outputs": [],
   "source": []
  },
  {
   "cell_type": "code",
   "execution_count": null,
   "metadata": {},
   "outputs": [],
   "source": []
  },
  {
   "cell_type": "code",
   "execution_count": null,
   "metadata": {},
   "outputs": [],
   "source": []
  },
  {
   "cell_type": "code",
   "execution_count": null,
   "metadata": {},
   "outputs": [],
   "source": []
  },
  {
   "cell_type": "code",
   "execution_count": null,
   "metadata": {},
   "outputs": [],
   "source": []
  },
  {
   "cell_type": "code",
   "execution_count": null,
   "metadata": {},
   "outputs": [],
   "source": []
  },
  {
   "cell_type": "code",
   "execution_count": null,
   "metadata": {},
   "outputs": [],
   "source": []
  },
  {
   "cell_type": "code",
   "execution_count": null,
   "metadata": {},
   "outputs": [],
   "source": []
  },
  {
   "cell_type": "code",
   "execution_count": null,
   "metadata": {},
   "outputs": [],
   "source": []
  },
  {
   "cell_type": "code",
   "execution_count": null,
   "metadata": {},
   "outputs": [],
   "source": []
  },
  {
   "cell_type": "code",
   "execution_count": null,
   "metadata": {},
   "outputs": [],
   "source": []
  },
  {
   "cell_type": "code",
   "execution_count": null,
   "metadata": {},
   "outputs": [],
   "source": []
  },
  {
   "cell_type": "code",
   "execution_count": null,
   "metadata": {},
   "outputs": [],
   "source": []
  },
  {
   "cell_type": "code",
   "execution_count": null,
   "metadata": {},
   "outputs": [],
   "source": []
  },
  {
   "cell_type": "code",
   "execution_count": null,
   "metadata": {},
   "outputs": [],
   "source": []
  },
  {
   "cell_type": "code",
   "execution_count": null,
   "metadata": {},
   "outputs": [],
   "source": []
  },
  {
   "cell_type": "code",
   "execution_count": null,
   "metadata": {},
   "outputs": [],
   "source": []
  },
  {
   "cell_type": "code",
   "execution_count": null,
   "metadata": {},
   "outputs": [],
   "source": []
  },
  {
   "cell_type": "code",
   "execution_count": null,
   "metadata": {},
   "outputs": [],
   "source": []
  },
  {
   "cell_type": "code",
   "execution_count": null,
   "metadata": {},
   "outputs": [],
   "source": []
  },
  {
   "cell_type": "code",
   "execution_count": null,
   "metadata": {},
   "outputs": [],
   "source": []
  },
  {
   "cell_type": "code",
   "execution_count": null,
   "metadata": {},
   "outputs": [],
   "source": []
  },
  {
   "cell_type": "code",
   "execution_count": null,
   "metadata": {},
   "outputs": [],
   "source": []
  },
  {
   "cell_type": "code",
   "execution_count": null,
   "metadata": {},
   "outputs": [],
   "source": []
  },
  {
   "cell_type": "code",
   "execution_count": null,
   "metadata": {},
   "outputs": [],
   "source": []
  },
  {
   "cell_type": "code",
   "execution_count": null,
   "metadata": {},
   "outputs": [],
   "source": []
  },
  {
   "cell_type": "code",
   "execution_count": null,
   "metadata": {},
   "outputs": [],
   "source": []
  },
  {
   "cell_type": "code",
   "execution_count": null,
   "metadata": {},
   "outputs": [],
   "source": []
  },
  {
   "cell_type": "code",
   "execution_count": null,
   "metadata": {},
   "outputs": [],
   "source": []
  },
  {
   "cell_type": "code",
   "execution_count": null,
   "metadata": {},
   "outputs": [],
   "source": []
  },
  {
   "cell_type": "code",
   "execution_count": null,
   "metadata": {},
   "outputs": [],
   "source": []
  },
  {
   "cell_type": "code",
   "execution_count": null,
   "metadata": {},
   "outputs": [],
   "source": []
  }
 ],
 "metadata": {
  "kernelspec": {
   "display_name": "Python 3",
   "language": "python",
   "name": "python3"
  },
  "language_info": {
   "codemirror_mode": {
    "name": "ipython",
    "version": 3
   },
   "file_extension": ".py",
   "mimetype": "text/x-python",
   "name": "python",
   "nbconvert_exporter": "python",
   "pygments_lexer": "ipython3",
   "version": "3.6.5"
  }
 },
 "nbformat": 4,
 "nbformat_minor": 2
}
