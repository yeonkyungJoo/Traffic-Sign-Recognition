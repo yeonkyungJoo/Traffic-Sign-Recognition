{
 "cells": [
  {
   "cell_type": "code",
   "execution_count": 4,
   "metadata": {},
   "outputs": [
    {
     "name": "stdout",
     "output_type": "stream",
     "text": [
      "1 (88, 88, 3)\n",
      "3 (64, 64, 3)\n",
      "5 (1, 64, 64, 3)\n"
     ]
    }
   ],
   "source": [
    "import cv2\n",
    "import numpy as np\n",
    "frame = cv2.imread('./test_70_1.jpg')\n",
    "print('1', frame.shape)\n",
    "# frame = cv2.cvtColor(frame, cv2.IMREAD_GRAYSCALE)[:, :, 0]\n",
    "# print('2', frame.shape)\n",
    "frame = cv2.resize(frame, (64, 64))\n",
    "print('3', frame.shape)\n",
    "# frame = frame[:, :, np.newaxis]\n",
    "# print('4', frame.shape)\n",
    "frame = np.expand_dims(frame, axis=0)\n",
    "print('5', frame.shape)\n",
    "\n",
    "# cv2.imshow('frame', frame)\n",
    "# cv2.waitKey()\n",
    "# cv2.destroyAllWindows()"
   ]
  },
  {
   "cell_type": "code",
   "execution_count": null,
   "metadata": {},
   "outputs": [],
   "source": []
  },
  {
   "cell_type": "code",
   "execution_count": null,
   "metadata": {},
   "outputs": [],
   "source": []
  },
  {
   "cell_type": "code",
   "execution_count": null,
   "metadata": {},
   "outputs": [],
   "source": []
  },
  {
   "cell_type": "code",
   "execution_count": null,
   "metadata": {},
   "outputs": [],
   "source": []
  }
 ],
 "metadata": {
  "kernelspec": {
   "display_name": "Python 3",
   "language": "python",
   "name": "python3"
  },
  "language_info": {
   "codemirror_mode": {
    "name": "ipython",
    "version": 3
   },
   "file_extension": ".py",
   "mimetype": "text/x-python",
   "name": "python",
   "nbconvert_exporter": "python",
   "pygments_lexer": "ipython3",
   "version": "3.6.5"
  }
 },
 "nbformat": 4,
 "nbformat_minor": 2
}
