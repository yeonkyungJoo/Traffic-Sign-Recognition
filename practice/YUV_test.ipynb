{
 "cells": [
  {
   "cell_type": "markdown",
   "metadata": {},
   "source": [
    "## BGR 대신 YUV로 검출"
   ]
  },
  {
   "cell_type": "code",
   "execution_count": 1,
   "metadata": {},
   "outputs": [],
   "source": [
    "import cv2"
   ]
  },
  {
   "cell_type": "code",
   "execution_count": 5,
   "metadata": {},
   "outputs": [
    {
     "data": {
      "text/plain": [
       "'4.1.1'"
      ]
     },
     "execution_count": 5,
     "metadata": {},
     "output_type": "execute_result"
    }
   ],
   "source": [
    "cv2.__version__"
   ]
  },
  {
   "cell_type": "code",
   "execution_count": 45,
   "metadata": {},
   "outputs": [
    {
     "data": {
      "text/plain": [
       "(1080, 1920, 3)"
      ]
     },
     "execution_count": 45,
     "metadata": {},
     "output_type": "execute_result"
    }
   ],
   "source": [
    "img2.shape"
   ]
  },
  {
   "cell_type": "code",
   "execution_count": 47,
   "metadata": {},
   "outputs": [
    {
     "data": {
      "text/plain": [
       "((1080, 1920), (1080, 1920), (1080, 1920))"
      ]
     },
     "execution_count": 47,
     "metadata": {},
     "output_type": "execute_result"
    }
   ],
   "source": [
    "y.shape, u.shape, v.shape"
   ]
  },
  {
   "cell_type": "code",
   "execution_count": 48,
   "metadata": {},
   "outputs": [],
   "source": [
    "numOfLabels, img_label, stats, centroids = cv2.connectedComponentsWithStats(v)"
   ]
  },
  {
   "cell_type": "code",
   "execution_count": 49,
   "metadata": {
    "scrolled": true
   },
   "outputs": [
    {
     "name": "stdout",
     "output_type": "stream",
     "text": [
      "[[2147483647 2147483647          2          2          0]\n",
      " [         0          0       1920       1080    2073600]]\n"
     ]
    }
   ],
   "source": [
    "print(stats)"
   ]
  },
  {
   "cell_type": "code",
   "execution_count": 30,
   "metadata": {},
   "outputs": [],
   "source": [
    "for idx, centroid in enumerate(centroids) :\n",
    "    if stats[idx][0] == 0 and stats[idx][1] == 0 :\n",
    "        continue\n",
    "\n",
    "    if np.any(np.isnan(centroid)) :\n",
    "        continue\n",
    "\n",
    "    x, y, w, h, area = stats[idx]\n",
    "    centerX, centerY = int(centroid[0]), int(centroid[1])\n",
    "    print(x, y, w, h, area)\n",
    "    cv2.rectangle(img, (x, y), (x+w, y+h), (255, 0, 0), 1)\n",
    "    \n",
    "cv2.imshow('img', img)\n",
    "cv2.waitKey()\n",
    "cv2.destroyAllWindows()\n",
    "#     if area > 50 and abs(w-h) < 5 : \n",
    "#         # 원 검출\n",
    "#         detected_img = img[y:y+h, x:x+w]\n",
    "#         gray_detected_img = cv2.cvtColor(detected_img, cv2.COLOR_BGR2GRAY)\n",
    "#         gray_detected_img = cv2.resize(gray_detected_img, (gray_detected_img.shape[1]*5, gray_detected_img.shape[0]*5))\n",
    "#         circles = cv2.HoughCircles(gray_detected_img, cv2.HOUGH_GRADIENT, 1, 100, param1=50, param2=30, minRadius=10, maxRadius=0)\n",
    "#         if circles is not None :\n",
    "#             circles = np.uint16(np.around(circles))\n",
    "#             for i in circles[0, :] :\n",
    "#                 cv2.circle(gray_detected_img, (i[0], i[1]), i[2], (0, 255, 0), 2)\n",
    "#                 cv2.circle(gray_detected_img, (i[0], i[1]), 2, (0, 0, 255), 5)\n",
    "#                 cv2.rectangle(img2, (x-3, y-3), (x+w+3, y+h+3), (255, 0, 0), 1) "
   ]
  },
  {
   "cell_type": "code",
   "execution_count": null,
   "metadata": {},
   "outputs": [],
   "source": []
  },
  {
   "cell_type": "code",
   "execution_count": 96,
   "metadata": {},
   "outputs": [],
   "source": [
    "img = cv2.imread('./test.jpg')\n",
    "cv2.imshow('img', img)\n",
    "cv2.waitKey()\n",
    "cv2.destroyAllWindows()"
   ]
  },
  {
   "cell_type": "code",
   "execution_count": null,
   "metadata": {},
   "outputs": [],
   "source": [
    "# cvCvtColor(image, ycbcr, CV_BGR2YCrCb ); //RGB모델을 YCbCr모델로 변환 \n",
    "# cvSplit(ycbcr,NULL,Cr,NULL,NULL); //YCbCr 채널분리 \n",
    "# cvThreshold( Cr, Cr, 155, 255, CV_THRESH_BINARY); //RED채널만 이진화"
   ]
  },
  {
   "cell_type": "code",
   "execution_count": 12,
   "metadata": {},
   "outputs": [],
   "source": [
    "img = cv2.imread('./test.jpg')\n",
    "\n",
    "img_yuv = cv2.cvtColor(img, cv2.COLOR_BGR2YCrCb)\n",
    "img_yuv[:, :, 0] = cv2.equalizeHist(img_yuv[:, :, 0])\n",
    "cv2.imshow('img_yuv[:, :, 1]', img_yuv[:, :, 1])\n",
    "ret, thresh = cv2.threshold(img_yuv[:, :, 1], 155, 255, cv2.THRESH_BINARY)\n",
    "cv2.imshow('thresh', thresh)\n",
    "\n",
    "img2 = cv2.cvtColor(img_yuv, cv2.COLOR_YCrCb2BGR)\n",
    "\n",
    "#cv2.imshow('img', img)\n",
    "#cv2.imshow('img2', img2)\n",
    "cv2.waitKey()\n",
    "cv2.destroyAllWindows()"
   ]
  },
  {
   "cell_type": "code",
   "execution_count": 121,
   "metadata": {},
   "outputs": [
    {
     "name": "stdout",
     "output_type": "stream",
     "text": [
      "598 368 66 71 1435\n"
     ]
    }
   ],
   "source": [
    "img = cv2.imread('./test.jpg')\n",
    "\n",
    "img_yuv = cv2.cvtColor(img, cv2.COLOR_BGR2YUV)\n",
    "\n",
    "# YUV 컬러 스케일의 첫 번째 채널에 대해서 이퀄라이즈 적용\n",
    "img_yuv[:, :, 0] = cv2.equalizeHist(img_yuv[:, :, 0])\n",
    "\n",
    "# cv2.imshow('img_yuv[:, :, 0]', img_yuv[:, :, 0])\n",
    "# cv2.imshow('img_yuv[:, :, 1]', img_yuv[:, :, 1])\n",
    "# cv2.imshow('img_yuv[:, :, 2]', img_yuv[:, :, 2])\n",
    "# 컬러 스케일을 YUV에서 BGR로 변경\n",
    "img2 = cv2.cvtColor(img_yuv, cv2.COLOR_YUV2BGR)\n",
    "hsv = cv2.cvtColor(img2, cv2.COLOR_BGR2HSV)\n",
    "\n",
    "# 색상별 영역 지정\n",
    "red1 = np.array([165, 50, 50])\n",
    "red2 = np.array([180, 255, 255])\n",
    "\n",
    "# 색상에 따른 마스크 생성\n",
    "mask_red = cv2.inRange(hsv, red1, red2)\n",
    "\n",
    "numOfLabels, img_label, stats, centroids = cv2.connectedComponentsWithStats(mask_red)\n",
    "\n",
    "for idx, centroid in enumerate(centroids) :\n",
    "    if stats[idx][0] == 0 and stats[idx][1] == 0 :\n",
    "        continue\n",
    "\n",
    "    if np.any(np.isnan(centroid)) :\n",
    "        continue\n",
    "\n",
    "    x, y, w, h, area = stats[idx]\n",
    "    centerX, centerY = int(centroid[0]), int(centroid[1])\n",
    "    # print(x, y, w, h, area)\n",
    "    # cv2.rectangle(img, (x, y), (x+w, y+h), (0, 0, 255), 2)\n",
    "    if area > 80 and abs(w-h) < 10 : # if area > 120 and abs(w-h) < 5 :\n",
    "        cv2.rectangle(img, (x-8, y-8), (x+w+8, y+h+8), (0, 0, 255), 2)\n",
    "        print(x, y, w, h, area)\n",
    "\n",
    "#         # 원 검출\n",
    "#         detected_img = img2[y:y+h, x:x+w]\n",
    "#         gray_detected_img = cv2.cvtColor(detected_img, cv2.COLOR_BGR2GRAY)                 \n",
    "#         circles = cv2.HoughCircles(gray_detected_img, cv2.HOUGH_GRADIENT, 1, 100, param1=200, param2=50, minRadius=10, maxRadius=0)\n",
    "#         # circles = cv2.HoughCircles(gray_detected_img, cv2.HOUGH_GRADIENT, 1, 100, param1=50, param2=45, minRadius=10, maxRadius=20)\n",
    "\n",
    "#         if circles is not None :\n",
    "#             circles = np.uint16(np.around(circles))\n",
    "\n",
    "#             for i in circles[0, :] :\n",
    "#                 cv2.rectangle(img, (x-8, y-8), (x+w+8, y+h+8), (0, 0, 255), 2)\n",
    "\n",
    "cv2.imshow('img', img)\n",
    "cv2.imshow('img2', img2)\n",
    "cv2.waitKey()\n",
    "cv2.destroyAllWindows()"
   ]
  },
  {
   "cell_type": "code",
   "execution_count": 98,
   "metadata": {},
   "outputs": [],
   "source": [
    "img2 = cv2.cvtColor(img, cv2.COLOR_BGR2YUV)\n",
    "cv2.imshow('img2', img2)\n",
    "cv2.waitKey()\n",
    "cv2.destroyAllWindows()"
   ]
  },
  {
   "cell_type": "code",
   "execution_count": 99,
   "metadata": {},
   "outputs": [],
   "source": [
    "y, u, v = cv2.split(img2)\n",
    "cv2.imshow('y', y)\n",
    "cv2.imshow('u', u)\n",
    "cv2.imshow('v', v)\n",
    "cv2.waitKey()\n",
    "cv2.destroyAllWindows()"
   ]
  },
  {
   "cell_type": "code",
   "execution_count": 100,
   "metadata": {},
   "outputs": [],
   "source": [
    "y = cv2.cvtColor(y, cv2.COLOR_GRAY2BGR)\n",
    "u = cv2.cvtColor(u, cv2.COLOR_GRAY2BGR)\n",
    "v = cv2.cvtColor(v, cv2.COLOR_GRAY2BGR)"
   ]
  },
  {
   "cell_type": "code",
   "execution_count": 101,
   "metadata": {},
   "outputs": [],
   "source": [
    "def make_lut_u() :\n",
    "    return np.array([[[i, 255-i, 0] for i in range(256)]], np.uint8)\n",
    "\n",
    "def make_lut_v() :\n",
    "    return np.array([[[0, 255-i, i] for i in range(256)]], np.uint8)"
   ]
  },
  {
   "cell_type": "code",
   "execution_count": 102,
   "metadata": {},
   "outputs": [],
   "source": [
    "lut_u = make_lut_u()\n",
    "lut_v = make_lut_v()"
   ]
  },
  {
   "cell_type": "code",
   "execution_count": 103,
   "metadata": {},
   "outputs": [],
   "source": [
    "u_mapped = cv2.LUT(u, lut_u)"
   ]
  },
  {
   "cell_type": "code",
   "execution_count": 104,
   "metadata": {},
   "outputs": [],
   "source": [
    "v_mapped = cv2.LUT(v, lut_v)"
   ]
  },
  {
   "cell_type": "code",
   "execution_count": 90,
   "metadata": {},
   "outputs": [],
   "source": [
    "u_mapped = cv2.LUT(u, lut_u)\n",
    "v_mapped = cv2.LUT(v, lut_v)"
   ]
  },
  {
   "cell_type": "code",
   "execution_count": 106,
   "metadata": {},
   "outputs": [],
   "source": [
    "# lut_v"
   ]
  },
  {
   "cell_type": "code",
   "execution_count": 105,
   "metadata": {},
   "outputs": [],
   "source": [
    "cv2.imshow('v_mapped', v_mapped)\n",
    "cv2.waitKey()\n",
    "cv2.destroyAllWindows()"
   ]
  },
  {
   "cell_type": "code",
   "execution_count": 92,
   "metadata": {},
   "outputs": [],
   "source": [
    "cv2.imshow('u_mapped', u_mapped)\n",
    "cv2.waitKey()\n",
    "cv2.destroyAllWindows()"
   ]
  },
  {
   "cell_type": "code",
   "execution_count": null,
   "metadata": {},
   "outputs": [],
   "source": []
  }
 ],
 "metadata": {
  "kernelspec": {
   "display_name": "Python 3",
   "language": "python",
   "name": "python3"
  },
  "language_info": {
   "codemirror_mode": {
    "name": "ipython",
    "version": 3
   },
   "file_extension": ".py",
   "mimetype": "text/x-python",
   "name": "python",
   "nbconvert_exporter": "python",
   "pygments_lexer": "ipython3",
   "version": "3.7.3"
  }
 },
 "nbformat": 4,
 "nbformat_minor": 2
}
