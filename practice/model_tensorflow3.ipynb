{
 "cells": [
  {
   "cell_type": "code",
   "execution_count": null,
   "metadata": {},
   "outputs": [],
   "source": [
    "# tensorflow-gpu"
   ]
  },
  {
   "cell_type": "code",
   "execution_count": 1,
   "metadata": {},
   "outputs": [
    {
     "name": "stderr",
     "output_type": "stream",
     "text": [
      "C:\\Users\\User\\Anaconda3\\lib\\site-packages\\h5py\\__init__.py:36: FutureWarning: Conversion of the second argument of issubdtype from `float` to `np.floating` is deprecated. In future, it will be treated as `np.float64 == np.dtype(float).type`.\n",
      "  from ._conv import register_converters as _register_converters\n"
     ]
    }
   ],
   "source": [
    "import tensorflow as tf\n",
    "from tensorflow.compat.v1 import ConfigProto\n",
    "from tensorflow.compat.v1 import InteractiveSession\n",
    "from sklearn.metrics import classification_report, confusion_matrix\n",
    "import random\n",
    "import matplotlib.pyplot as plt\n",
    "import glob\n",
    "import numpy as np\n",
    "import cv2\n",
    "import os\n",
    "from collections import namedtuple\n",
    "%matplotlib inline"
   ]
  },
  {
   "cell_type": "markdown",
   "metadata": {},
   "source": [
    "### 클래스(label) 확인"
   ]
  },
  {
   "cell_type": "code",
   "execution_count": 15,
   "metadata": {},
   "outputs": [
    {
     "name": "stdout",
     "output_type": "stream",
     "text": [
      "['30', '50', '60', '70', 'no_parking', 'no_parking_stop']\n"
     ]
    }
   ],
   "source": [
    "LABELS = []\n",
    "for folder in glob.glob('./data/*') :\n",
    "    label = folder.split('/')[-1]\n",
    "    label = label.split('\\\\')[-1]\n",
    "    # print(label)\n",
    "    LABELS.append(label)\n",
    "print(LABELS)"
   ]
  },
  {
   "cell_type": "code",
   "execution_count": 18,
   "metadata": {},
   "outputs": [
    {
     "name": "stdout",
     "output_type": "stream",
     "text": [
      "6\n"
     ]
    }
   ],
   "source": [
    "# 클래스 개수\n",
    "N_CLASSES = len(LABELS)\n",
    "print(N_CLASSES)\n",
    "# input image size\n",
    "RESIZED_IMAGE = (28, 28)"
   ]
  },
  {
   "cell_type": "code",
   "execution_count": 23,
   "metadata": {},
   "outputs": [
    {
     "name": "stdout",
     "output_type": "stream",
     "text": [
      "[730, 750, 480, 660, 201, 331]\n"
     ]
    }
   ],
   "source": [
    "# 클래스별 이미지 개수(개수만)\n",
    "img_cnt = []\n",
    "for label in LABELS :\n",
    "    # print('./data/{}/*.jpg'.format(label))\n",
    "    cnt = 0\n",
    "    for file in glob.glob('./data/{}/*.jpg'.format(label)) :\n",
    "        cnt += 1\n",
    "    img_cnt.append(cnt)\n",
    "print(img_cnt)"
   ]
  },
  {
   "cell_type": "code",
   "execution_count": 24,
   "metadata": {},
   "outputs": [
    {
     "name": "stdout",
     "output_type": "stream",
     "text": [
      "{'30': 730, '50': 750, '60': 480, '70': 660, 'no_parking': 201, 'no_parking_stop': 331}\n"
     ]
    }
   ],
   "source": [
    "# 클래스별 이미지 개수\n",
    "labels_cnt = {}\n",
    "for label in LABELS :\n",
    "    cnt = 0\n",
    "    for file in glob.glob('./data/{}/*.jpg'.format(label)) :\n",
    "        cnt += 1\n",
    "    labels_cnt[label] = cnt\n",
    "print(labels_cnt)"
   ]
  },
  {
   "cell_type": "code",
   "execution_count": 26,
   "metadata": {},
   "outputs": [
    {
     "name": "stdout",
     "output_type": "stream",
     "text": [
      "{'30': 0, '50': 1, '60': 2, '70': 3, 'no_parking': 4, 'no_parking_stop': 5}\n"
     ]
    }
   ],
   "source": [
    "LABEL_IDX = {}\n",
    "for label, i in zip(LABELS, range(0, N_CLASSES)) :\n",
    "    LABEL_IDX[label] = i\n",
    "print(LABEL_IDX)"
   ]
  },
  {
   "cell_type": "code",
   "execution_count": 28,
   "metadata": {},
   "outputs": [
    {
     "name": "stdout",
     "output_type": "stream",
     "text": [
      "{0: '30', 1: '50', 2: '60', 3: '70', 4: 'no_parking', 5: 'no_parking_stop'}\n"
     ]
    }
   ],
   "source": [
    "IDX_LABEL = {}\n",
    "for i, label in zip(range(0, N_CLASSES), LABELS) :\n",
    "    IDX_LABEL[i] = label\n",
    "print(IDX_LABEL)"
   ]
  },
  {
   "cell_type": "code",
   "execution_count": null,
   "metadata": {},
   "outputs": [],
   "source": []
  },
  {
   "cell_type": "markdown",
   "metadata": {},
   "source": [
    "### 데이터셋 만들기"
   ]
  },
  {
   "cell_type": "code",
   "execution_count": 29,
   "metadata": {},
   "outputs": [
    {
     "name": "stdout",
     "output_type": "stream",
     "text": [
      "<class '__main__.Dataset'>\n"
     ]
    }
   ],
   "source": [
    "Dataset = namedtuple('Dataset', ['X', 'y'])\n",
    "print(Dataset)"
   ]
  },
  {
   "cell_type": "code",
   "execution_count": 30,
   "metadata": {},
   "outputs": [],
   "source": [
    "# 텐서플로우에 맞는 이미지 텐서 포맷 : [?, ?, ?, ?]\n",
    "# 차원 확장\n",
    "def to_tf_format(imgs) :\n",
    "    return np.stack([img[:, :, np.newaxis] for img in imgs], axis = 0).astype(np.float32)"
   ]
  },
  {
   "cell_type": "code",
   "execution_count": 34,
   "metadata": {},
   "outputs": [],
   "source": [
    "# 한 경로에 주어진 모든 이미지를 읽어서\n",
    "# 그 이미지를 미리 정의한 형상으로 크기 재조정\n",
    "# 회색조로 변환\n",
    "# 레이블 원-핫 인코딩\n",
    "\n",
    "def read_dataset(root_path, labels_arr, resize_to) :\n",
    "    images = []\n",
    "    labels = []\n",
    "    \n",
    "    for label_name in labels_arr :\n",
    "        # 'data/no_parking/'\n",
    "        full_path = root_path + '/' + label_name + '/'\n",
    "        \n",
    "        for img in glob.glob(full_path + '*.jpg') :\n",
    "            image = cv2.imread(img).astype(np.float32)\n",
    "            # 회색조로 변환\n",
    "            image = cv2.cvtColor(image, cv2.IMREAD_GRAYSCALE)[:, :, 0]\n",
    "            # 크기 조정\n",
    "            if resize_to : \n",
    "                image = cv2.resize(image, resize_to)\n",
    "            \n",
    "            # 라벨\n",
    "            # 원-핫 인코딩\n",
    "            label = np.zeros((N_CLASSES, ), dtype = np.float32)\n",
    "            label[LABEL_IDX[label_name]] = 1.0\n",
    "            \n",
    "            images.append(image.astype(np.float32))\n",
    "            labels.append(label)\n",
    "            \n",
    "    return Dataset(X = to_tf_format(images).astype(np.float32), y = np.matrix(labels).astype(np.float32))"
   ]
  },
  {
   "cell_type": "code",
   "execution_count": 35,
   "metadata": {},
   "outputs": [
    {
     "name": "stdout",
     "output_type": "stream",
     "text": [
      "(3152, 28, 28, 1)\n",
      "(3152, 6)\n"
     ]
    }
   ],
   "source": [
    "dataset = read_dataset('data', LABELS, RESIZED_IMAGE)\n",
    "print(dataset.X.shape)\n",
    "print(dataset.y.shape)"
   ]
  },
  {
   "cell_type": "code",
   "execution_count": 36,
   "metadata": {},
   "outputs": [
    {
     "name": "stdout",
     "output_type": "stream",
     "text": [
      "(3152, 28, 28, 1) (28, 28, 1)\n"
     ]
    }
   ],
   "source": [
    "print(dataset.X.shape, dataset.X[0, :, :, :].shape)"
   ]
  },
  {
   "cell_type": "code",
   "execution_count": 37,
   "metadata": {},
   "outputs": [
    {
     "name": "stdout",
     "output_type": "stream",
     "text": [
      "(28, 28)\n"
     ]
    }
   ],
   "source": [
    "print((dataset.X[0, :, :, :].reshape(RESIZED_IMAGE)).shape)"
   ]
  },
  {
   "cell_type": "code",
   "execution_count": 38,
   "metadata": {},
   "outputs": [
    {
     "name": "stdout",
     "output_type": "stream",
     "text": [
      "[[1. 0. 0. 0. 0. 0.]]\n"
     ]
    },
    {
     "data": {
      "image/png": "[encoded data removed]",
      "text/plain": [
       "<Figure size 432x288 with 1 Axes>"
      ]
     },
     "metadata": {},
     "output_type": "display_data"
    }
   ],
   "source": [
    "# 첫번째 표본\n",
    "plt.imshow(dataset.X[0, :, :, :].reshape(RESIZED_IMAGE))\n",
    "# 레이블\n",
    "print(dataset.y[0, :])"
   ]
  },
  {
   "cell_type": "code",
   "execution_count": 39,
   "metadata": {},
   "outputs": [
    {
     "name": "stdout",
     "output_type": "stream",
     "text": [
      "[[0. 0. 0. 0. 0. 1.]]\n"
     ]
    },
    {
     "data": {
      "image/png": "[encoded data removed]",
      "text/plain": [
       "<Figure size 432x288 with 1 Axes>"
      ]
     },
     "metadata": {},
     "output_type": "display_data"
    }
   ],
   "source": [
    "# 마지막 표본\n",
    "plt.imshow(dataset.X[-1, :, :, :].reshape(RESIZED_IMAGE))\n",
    "# 레이블\n",
    "print(dataset.y[-1, :])"
   ]
  },
  {
   "cell_type": "code",
   "execution_count": null,
   "metadata": {},
   "outputs": [],
   "source": []
  },
  {
   "cell_type": "code",
   "execution_count": 40,
   "metadata": {},
   "outputs": [],
   "source": [
    "# train/test 데이터셋 분류\n",
    "from sklearn.model_selection import train_test_split\n",
    "\n",
    "idx_train, idx_test = train_test_split(range(dataset.X.shape[0]), test_size = 0.25, random_state = 101 )"
   ]
  },
  {
   "cell_type": "code",
   "execution_count": 42,
   "metadata": {},
   "outputs": [],
   "source": [
    "# idx_train"
   ]
  },
  {
   "cell_type": "code",
   "execution_count": 44,
   "metadata": {},
   "outputs": [],
   "source": [
    "# idx_test"
   ]
  },
  {
   "cell_type": "code",
   "execution_count": 45,
   "metadata": {},
   "outputs": [
    {
     "data": {
      "text/plain": [
       "(2364, 788)"
      ]
     },
     "execution_count": 45,
     "metadata": {},
     "output_type": "execute_result"
    }
   ],
   "source": [
    "len(idx_train), len(idx_test)"
   ]
  },
  {
   "cell_type": "code",
   "execution_count": 46,
   "metadata": {},
   "outputs": [],
   "source": [
    "X_train = dataset.X[idx_train, :, :, :]\n",
    "X_test = dataset.X[idx_test, :, :, :]\n",
    "y_train = dataset.y[idx_train, :]\n",
    "y_test = dataset.y[idx_test, :]"
   ]
  },
  {
   "cell_type": "code",
   "execution_count": 52,
   "metadata": {},
   "outputs": [],
   "source": [
    "# y_train, len(y_train)"
   ]
  },
  {
   "cell_type": "code",
   "execution_count": 50,
   "metadata": {},
   "outputs": [],
   "source": [
    "# y_test, len(y_test)"
   ]
  },
  {
   "cell_type": "code",
   "execution_count": 53,
   "metadata": {},
   "outputs": [
    {
     "name": "stdout",
     "output_type": "stream",
     "text": [
      "(2364, 28, 28, 1)\n",
      "(788, 28, 28, 1)\n",
      "(2364, 6)\n",
      "(788, 6)\n"
     ]
    }
   ],
   "source": [
    "print(X_train.shape)\n",
    "print(X_test.shape)\n",
    "print(y_train.shape)\n",
    "print(y_test.shape)"
   ]
  },
  {
   "cell_type": "code",
   "execution_count": null,
   "metadata": {},
   "outputs": [],
   "source": []
  },
  {
   "cell_type": "code",
   "execution_count": 54,
   "metadata": {},
   "outputs": [],
   "source": [
    "# 훈련 데이터의 미니배치 생성\n",
    "\n",
    "def minibatcher(X, y, batch_size, shuffle) :\n",
    "    assert X.shape[0] == y.shape[0]\n",
    "    n_samples = X.shape[0]\n",
    "    \n",
    "    if shuffle :\n",
    "        idx = np.random.permutation(n_samples)\n",
    "    else :\n",
    "        idx = list(range(n_samples))\n",
    "        \n",
    "    for k in range(int(np.ceil(n_samples / batch_size))) :\n",
    "        from_idx = k * batch_size\n",
    "        to_idx = (k+1) * batch_size\n",
    "        yield X[idx[from_idx:to_idx], :, :, :], y[idx[from_idx:to_idx], :]"
   ]
  },
  {
   "cell_type": "code",
   "execution_count": 55,
   "metadata": {},
   "outputs": [
    {
     "name": "stdout",
     "output_type": "stream",
     "text": [
      "(1000, 28, 28, 1) (1000, 6)\n",
      "(1000, 28, 28, 1) (1000, 6)\n",
      "(364, 28, 28, 1) (364, 6)\n"
     ]
    }
   ],
   "source": [
    "for mb in minibatcher(X_train, y_train, 1000, True) :\n",
    "    print(mb[0].shape, mb[1].shape)"
   ]
  },
  {
   "cell_type": "code",
   "execution_count": null,
   "metadata": {},
   "outputs": [],
   "source": []
  },
  {
   "cell_type": "markdown",
   "metadata": {},
   "source": [
    "### 모델 구성"
   ]
  },
  {
   "cell_type": "code",
   "execution_count": null,
   "metadata": {},
   "outputs": [],
   "source": [
    "# optimizer : AdamOptimizer"
   ]
  },
  {
   "cell_type": "code",
   "execution_count": 57,
   "metadata": {},
   "outputs": [],
   "source": [
    "# hyperparameters\n",
    "learning_rate = 0.001\n",
    "training_epochs = 15\n",
    "batch_size = 100"
   ]
  },
  {
   "cell_type": "code",
   "execution_count": 177,
   "metadata": {},
   "outputs": [],
   "source": [
    "# 모델 클래스 생성\n",
    "\n",
    "class Model :\n",
    "    \n",
    "    def __init__(self, sess, name) :\n",
    "        self.sess = sess\n",
    "        self.name = name\n",
    "        self._build_net()\n",
    "        \n",
    "    def _build_net(self) :\n",
    "        with tf.variable_scope(self.name) :\n",
    "\n",
    "            # dropout rate\n",
    "            # 0.7 ~ 0.5 on training, but should be 1 for testing\n",
    "            # self.keep_prob = tf.placeholder(tf.float32)\n",
    "            self.training = tf.placeholder(tf.bool)\n",
    "\n",
    "            # input placeholders\n",
    "            self.X = tf.placeholder(tf.float32, shape = (None, RESIZED_IMAGE[0], RESIZED_IMAGE[1], 1), name='input')\n",
    "            self.y = tf.placeholder(tf.float32, shape = (None, N_CLASSES))\n",
    "\n",
    "            # Layer1\n",
    "            conv1 = tf.layers.conv2d(inputs = self.X, filters = 32, kernel_size = [3, 3], padding = 'SAME', activation = tf.nn.relu)\n",
    "            pool1 = tf.layers.max_pooling2d(inputs = conv1, pool_size = [2, 2], padding = 'SAME', strides = 2)\n",
    "            dropout1 = tf.layers.dropout(inputs = pool1, rate = 0.3, training = self.training)\n",
    "\n",
    "            # Layer2\n",
    "            conv2 = tf.layers.conv2d(inputs = dropout1, filters = 64, kernel_size = [3, 3], padding = 'SAME', activation = tf.nn.relu)\n",
    "            pool2 = tf.layers.max_pooling2d(inputs = conv2, pool_size = [2, 2], padding = 'SAME', strides = 2)\n",
    "            dropout2 = tf.layers.dropout(inputs = pool2, rate = 0.3, training = self.training)\n",
    "\n",
    "            # Layer3\n",
    "            conv3 = tf.layers.conv2d(inputs = dropout2, filters = 128, kernel_size = [3, 3], padding = 'SAME', activation = tf.nn.relu)\n",
    "            pool3 = tf.layers.max_pooling2d(inputs = conv3, pool_size = [2, 2], padding = 'SAME', strides = 2)\n",
    "            dropout3 = tf.layers.dropout(inputs = pool3, rate = 0.3, training = self.training)\n",
    "\n",
    "            # Dense Layer with Relu\n",
    "            flat = tf.reshape(dropout3, [-1, 128 * 4 * 4])\n",
    "            dense4 = tf.layers.dense(inputs = flat, units = 625, activation = tf.nn.relu)\n",
    "            dropout4 = tf.layers.dropout(inputs = dense4, rate = 0.5, training = self.training)\n",
    "\n",
    "            # Logits (no activation) Layer\n",
    "            self.logits = tf.layers.dense(inputs = dropout4, units = N_CLASSES, name='op_to_restore')\n",
    "            # self.sm_logits = tf.nn.softmax(self.logits)\n",
    "\n",
    "            # define cost/loss & optimizer\n",
    "            self.cost = tf.reduce_mean(tf.nn.softmax_cross_entropy_with_logits(logits = self.logits, labels = self.y))\n",
    "            self.optimizer = tf.train.AdamOptimizer(learning_rate = learning_rate).minimize(self.cost)\n",
    "\n",
    "            correct_prediction = tf.equal(tf.argmax(self.logits, 1), tf.argmax(self.y, 1))\n",
    "            self.accuracy = tf.reduce_mean(tf.cast(correct_prediction, tf.float32))\n",
    "            \n",
    "    def train(self, X_data, y_data, training = True) :\n",
    "        return self.sess.run([self.cost, self.optimizer], feed_dict = {self.X : X_data, self.y : y_data, self.training : training})\n",
    "            \n",
    "    def predict(self, X_test, training = False) :\n",
    "        return self.sess.run(self.logits, feed_dict = {self.X : X_test, self.training : training})\n",
    "        \n",
    "    def get_accuracy(self, X_test, y_test, training = False) :\n",
    "        return self.sess.run(self.accuracy, feed_dict = {self.X : X_test, self.y : y_test, self.training : training})"
   ]
  },
  {
   "cell_type": "code",
   "execution_count": 182,
   "metadata": {},
   "outputs": [],
   "source": [
    "tf.reset_default_graph()"
   ]
  },
  {
   "cell_type": "markdown",
   "metadata": {},
   "source": [
    "### 모델 학습 및 저장"
   ]
  },
  {
   "cell_type": "code",
   "execution_count": 180,
   "metadata": {},
   "outputs": [],
   "source": [
    "CHECK_POINT_DIR = './model.ckpt'\n",
    "if not os.path.exists(CHECK_POINT_DIR) :\n",
    "    os.makedirs(CHECK_POINT_DIR)"
   ]
  },
  {
   "cell_type": "code",
   "execution_count": 183,
   "metadata": {},
   "outputs": [],
   "source": [
    "# initialize\n",
    "config = ConfigProto()\n",
    "config.gpu_options.allow_growth = True\n",
    "sess = tf.Session(config=config)\n",
    "m1 = Model(sess, \"m1\")\n",
    "sess.run(tf.global_variables_initializer())"
   ]
  },
  {
   "cell_type": "code",
   "execution_count": 184,
   "metadata": {},
   "outputs": [],
   "source": [
    "# save model\n",
    "saver = tf.train.Saver()"
   ]
  },
  {
   "cell_type": "code",
   "execution_count": 185,
   "metadata": {},
   "outputs": [
    {
     "name": "stdout",
     "output_type": "stream",
     "text": [
      "Epoch =  0\n",
      "cost =  12.277232\n",
      "Epoch =  1\n",
      "cost =  1.7412008\n",
      "Epoch =  2\n",
      "cost =  1.6970943\n",
      "Epoch =  3\n",
      "cost =  1.6558262\n",
      "Epoch =  4\n",
      "cost =  1.6216532\n",
      "Epoch =  5\n",
      "cost =  1.5823272\n",
      "Epoch =  6\n",
      "cost =  1.5541004\n",
      "Epoch =  7\n",
      "cost =  1.5310688\n",
      "Epoch =  8\n",
      "cost =  1.478363\n",
      "Epoch =  9\n",
      "cost =  1.4347075\n",
      "Epoch =  10\n",
      "cost =  1.4389132\n",
      "Epoch =  11\n",
      "cost =  1.3774357\n",
      "Epoch =  12\n",
      "cost =  1.3421623\n",
      "Epoch =  13\n",
      "cost =  1.3256332\n",
      "Epoch =  14\n",
      "cost =  1.304011\n"
     ]
    }
   ],
   "source": [
    "# train\n",
    "for epoch in range(training_epochs) :\n",
    "    print(\"Epoch = \", epoch)\n",
    "    cost = []\n",
    "    # total_batch = int(len(idx_train) / batch_size)\n",
    "    \n",
    "    for mb in minibatcher(X_train, y_train, batch_size, True) :\n",
    "        c, _ = m1.train(mb[0], mb[1])\n",
    "        # avg_cost += c / total_batch\n",
    "        cost.append(c)\n",
    "    # print('Epoch : ', '%04d' % (epoch + 1), 'cost = ', '{:.9f}'.format(avg_cost))\n",
    "    print('cost = ', np.mean(cost))"
   ]
  },
  {
   "cell_type": "code",
   "execution_count": 186,
   "metadata": {},
   "outputs": [
    {
     "name": "stdout",
     "output_type": "stream",
     "text": [
      "Trained Model Saved.\n"
     ]
    }
   ],
   "source": [
    "saver.save(sess, CHECK_POINT_DIR + '/model')\n",
    "print('Trained Model Saved.')"
   ]
  },
  {
   "cell_type": "code",
   "execution_count": 187,
   "metadata": {},
   "outputs": [],
   "source": [
    "graph = tf.get_default_graph()"
   ]
  },
  {
   "cell_type": "code",
   "execution_count": 189,
   "metadata": {},
   "outputs": [
    {
     "ename": "ValueError",
     "evalue": "The name 'op_to_restore' looks like an (invalid) Operation name, not a Tensor. Tensor names must be of the form \"<op_name>:<output_index>\".",
     "output_type": "error",
     "traceback": [
      "\u001b[1;31m---------------------------------------------------------------------------\u001b[0m",
      "\u001b[1;31mValueError\u001b[0m                                Traceback (most recent call last)",
      "\u001b[1;32m<ipython-input-189-73535154fc18>\u001b[0m in \u001b[0;36m<module>\u001b[1;34m()\u001b[0m\n\u001b[1;32m----> 1\u001b[1;33m \u001b[0mop_to_restore\u001b[0m \u001b[1;33m=\u001b[0m \u001b[0mgraph\u001b[0m\u001b[1;33m.\u001b[0m\u001b[0mget_tensor_by_name\u001b[0m\u001b[1;33m(\u001b[0m\u001b[1;34m\"op_to_restore\"\u001b[0m\u001b[1;33m)\u001b[0m\u001b[1;33m\u001b[0m\u001b[0m\n\u001b[0m\u001b[0;32m      2\u001b[0m \u001b[1;31m# print (sess.run(op_to_restore, feed_dict = {}))\u001b[0m\u001b[1;33m\u001b[0m\u001b[1;33m\u001b[0m\u001b[0m\n",
      "\u001b[1;32m~\\Anaconda3\\lib\\site-packages\\tensorflow\\python\\framework\\ops.py\u001b[0m in \u001b[0;36mget_tensor_by_name\u001b[1;34m(self, name)\u001b[0m\n\u001b[0;32m   3652\u001b[0m       raise TypeError(\"Tensor names are strings (or similar), not %s.\" %\n\u001b[0;32m   3653\u001b[0m                       type(name).__name__)\n\u001b[1;32m-> 3654\u001b[1;33m     \u001b[1;32mreturn\u001b[0m \u001b[0mself\u001b[0m\u001b[1;33m.\u001b[0m\u001b[0mas_graph_element\u001b[0m\u001b[1;33m(\u001b[0m\u001b[0mname\u001b[0m\u001b[1;33m,\u001b[0m \u001b[0mallow_tensor\u001b[0m\u001b[1;33m=\u001b[0m\u001b[1;32mTrue\u001b[0m\u001b[1;33m,\u001b[0m \u001b[0mallow_operation\u001b[0m\u001b[1;33m=\u001b[0m\u001b[1;32mFalse\u001b[0m\u001b[1;33m)\u001b[0m\u001b[1;33m\u001b[0m\u001b[0m\n\u001b[0m\u001b[0;32m   3655\u001b[0m \u001b[1;33m\u001b[0m\u001b[0m\n\u001b[0;32m   3656\u001b[0m   \u001b[1;32mdef\u001b[0m \u001b[0m_get_tensor_by_tf_output\u001b[0m\u001b[1;33m(\u001b[0m\u001b[0mself\u001b[0m\u001b[1;33m,\u001b[0m \u001b[0mtf_output\u001b[0m\u001b[1;33m)\u001b[0m\u001b[1;33m:\u001b[0m\u001b[1;33m\u001b[0m\u001b[0m\n",
      "\u001b[1;32m~\\Anaconda3\\lib\\site-packages\\tensorflow\\python\\framework\\ops.py\u001b[0m in \u001b[0;36mas_graph_element\u001b[1;34m(self, obj, allow_tensor, allow_operation)\u001b[0m\n\u001b[0;32m   3476\u001b[0m \u001b[1;33m\u001b[0m\u001b[0m\n\u001b[0;32m   3477\u001b[0m     \u001b[1;32mwith\u001b[0m \u001b[0mself\u001b[0m\u001b[1;33m.\u001b[0m\u001b[0m_lock\u001b[0m\u001b[1;33m:\u001b[0m\u001b[1;33m\u001b[0m\u001b[0m\n\u001b[1;32m-> 3478\u001b[1;33m       \u001b[1;32mreturn\u001b[0m \u001b[0mself\u001b[0m\u001b[1;33m.\u001b[0m\u001b[0m_as_graph_element_locked\u001b[0m\u001b[1;33m(\u001b[0m\u001b[0mobj\u001b[0m\u001b[1;33m,\u001b[0m \u001b[0mallow_tensor\u001b[0m\u001b[1;33m,\u001b[0m \u001b[0mallow_operation\u001b[0m\u001b[1;33m)\u001b[0m\u001b[1;33m\u001b[0m\u001b[0m\n\u001b[0m\u001b[0;32m   3479\u001b[0m \u001b[1;33m\u001b[0m\u001b[0m\n\u001b[0;32m   3480\u001b[0m   \u001b[1;32mdef\u001b[0m \u001b[0m_as_graph_element_locked\u001b[0m\u001b[1;33m(\u001b[0m\u001b[0mself\u001b[0m\u001b[1;33m,\u001b[0m \u001b[0mobj\u001b[0m\u001b[1;33m,\u001b[0m \u001b[0mallow_tensor\u001b[0m\u001b[1;33m,\u001b[0m \u001b[0mallow_operation\u001b[0m\u001b[1;33m)\u001b[0m\u001b[1;33m:\u001b[0m\u001b[1;33m\u001b[0m\u001b[0m\n",
      "\u001b[1;32m~\\Anaconda3\\lib\\site-packages\\tensorflow\\python\\framework\\ops.py\u001b[0m in \u001b[0;36m_as_graph_element_locked\u001b[1;34m(self, obj, allow_tensor, allow_operation)\u001b[0m\n\u001b[0;32m   3550\u001b[0m         err_msg += (\" Tensor names must be of the form \"\n\u001b[0;32m   3551\u001b[0m                     \"\\\"<op_name>:<output_index>\\\".\")\n\u001b[1;32m-> 3552\u001b[1;33m         \u001b[1;32mraise\u001b[0m \u001b[0mValueError\u001b[0m\u001b[1;33m(\u001b[0m\u001b[0merr_msg\u001b[0m\u001b[1;33m)\u001b[0m\u001b[1;33m\u001b[0m\u001b[0m\n\u001b[0m\u001b[0;32m   3553\u001b[0m \u001b[1;33m\u001b[0m\u001b[0m\n\u001b[0;32m   3554\u001b[0m     \u001b[1;32melif\u001b[0m \u001b[0misinstance\u001b[0m\u001b[1;33m(\u001b[0m\u001b[0mobj\u001b[0m\u001b[1;33m,\u001b[0m \u001b[0mTensor\u001b[0m\u001b[1;33m)\u001b[0m \u001b[1;32mand\u001b[0m \u001b[0mallow_tensor\u001b[0m\u001b[1;33m:\u001b[0m\u001b[1;33m\u001b[0m\u001b[0m\n",
      "\u001b[1;31mValueError\u001b[0m: The name 'op_to_restore' looks like an (invalid) Operation name, not a Tensor. Tensor names must be of the form \"<op_name>:<output_index>\"."
     ]
    }
   ],
   "source": [
    "op_to_restore = graph.get_tensor_by_name(\"op_to_restore\")\n",
    "# print (sess.run(op_to_restore, feed_dict = {}))"
   ]
  },
  {
   "cell_type": "code",
   "execution_count": 65,
   "metadata": {},
   "outputs": [
    {
     "name": "stdout",
     "output_type": "stream",
     "text": [
      "model_checkpoint_path: \"./model.ckpt\\\\model\"\n",
      "all_model_checkpoint_paths: \"./model.ckpt\\\\model\"\n",
      "\n",
      "./model.ckpt\\model\n"
     ]
    }
   ],
   "source": [
    "checkpoint = tf.train.get_checkpoint_state(CHECK_POINT_DIR)\n",
    "print(checkpoint)\n",
    "print(checkpoint.model_checkpoint_path)"
   ]
  },
  {
   "cell_type": "code",
   "execution_count": null,
   "metadata": {},
   "outputs": [],
   "source": []
  },
  {
   "cell_type": "markdown",
   "metadata": {},
   "source": [
    "### 예측"
   ]
  },
  {
   "cell_type": "code",
   "execution_count": 67,
   "metadata": {},
   "outputs": [
    {
     "name": "stdout",
     "output_type": "stream",
     "text": [
      "[[ 0.8394135   0.57725984  0.77131873  0.48589075 -1.1965182  -0.7298148 ]\n",
      " [ 1.4866767   0.864991    1.2463247   0.34972167 -1.0635111  -0.6978194 ]\n",
      " [-0.52527356 -0.58752    -0.805132   -0.4591061   0.8679822   1.6373388 ]\n",
      " ...\n",
      " [ 0.0735733  -0.21622755  0.19806844 -0.34529835 -0.19053043  0.2260623 ]\n",
      " [ 0.824553    0.58386284  0.60473406  0.4750604  -0.6730729  -0.5817538 ]\n",
      " [ 1.3425385   1.3766915   0.775731    1.4301983  -1.1093047  -1.3831418 ]]\n",
      "788\n"
     ]
    }
   ],
   "source": [
    "print(m1.predict(X_test))\n",
    "print(len(m1.predict(X_test)))"
   ]
  },
  {
   "cell_type": "code",
   "execution_count": 68,
   "metadata": {},
   "outputs": [
    {
     "data": {
      "text/plain": [
       "array([0, 0, 5, 2, 3, 5, 0, 1, 5, 3, 0, 2, 3, 3, 4, 3, 3, 4, 0, 4, 2, 3,\n",
       "       3, 4, 1, 1, 3, 1, 0, 3, 5, 5, 3, 3, 4, 4, 1, 3, 1, 3, 3, 3, 2, 3,\n",
       "       4, 2, 3, 3, 3, 1, 0, 3, 5, 5, 2, 4, 1, 3, 4, 0, 2, 0, 0, 2, 2, 1,\n",
       "       3, 5, 0, 0, 3, 3, 3, 2, 2, 3, 3, 1, 5, 1, 3, 3, 2, 4, 0, 3, 2, 3,\n",
       "       3, 5, 3, 3, 3, 3, 0, 5, 1, 1, 4, 0, 2, 0, 4, 5, 3, 0, 3, 0, 5, 3,\n",
       "       5, 1, 2, 5, 3, 4, 5, 3, 5, 3, 3, 0, 1, 2, 0, 1, 0, 3, 1, 0, 2, 3,\n",
       "       3, 2, 3, 0, 3, 1, 5, 3, 5, 4, 3, 1, 3, 3, 3, 3, 5, 3, 3, 1, 0, 3,\n",
       "       5, 1, 1, 0, 1, 4, 3, 0, 5, 1, 1, 5, 4, 3, 4, 0, 0, 2, 3, 3, 3, 1,\n",
       "       2, 5, 3, 0, 1, 1, 5, 0, 3, 3, 3, 0, 3, 0, 0, 2, 1, 5, 3, 2, 2, 3,\n",
       "       3, 1, 2, 0, 2, 0, 3, 2, 3, 3, 3, 2, 3, 3, 0, 3, 5, 3, 2, 3, 0, 3,\n",
       "       3, 5, 3, 3, 3, 4, 3, 5, 5, 2, 5, 3, 4, 3, 3, 3, 5, 2, 3, 5, 3, 0,\n",
       "       0, 1, 5, 3, 3, 3, 0, 3, 3, 0, 4, 0, 5, 3, 2, 5, 3, 0, 3, 5, 0, 2,\n",
       "       0, 3, 0, 1, 0, 0, 3, 0, 1, 3, 1, 5, 1, 3, 1, 3, 3, 0, 2, 4, 1, 3,\n",
       "       5, 3, 3, 5, 0, 2, 3, 0, 4, 5, 3, 1, 1, 2, 3, 2, 2, 2, 4, 0, 0, 1,\n",
       "       3, 0, 3, 1, 3, 1, 0, 1, 3, 3, 3, 5, 0, 1, 3, 1, 2, 0, 0, 3, 1, 3,\n",
       "       5, 5, 0, 3, 5, 5, 0, 2, 0, 3, 1, 5, 3, 5, 0, 0, 1, 3, 0, 3, 0, 1,\n",
       "       3, 3, 5, 0, 3, 0, 2, 3, 0, 0, 2, 3, 5, 5, 1, 5, 3, 1, 3, 5, 5, 3,\n",
       "       2, 3, 0, 2, 3, 3, 2, 5, 2, 4, 5, 3, 3, 1, 3, 1, 1, 0, 2, 3, 1, 3,\n",
       "       1, 5, 3, 0, 1, 0, 3, 3, 3, 5, 0, 3, 4, 0, 1, 3, 5, 3, 0, 5, 4, 3,\n",
       "       1, 4, 5, 0, 1, 1, 0, 0, 1, 0, 1, 1, 3, 0, 4, 2, 4, 1, 3, 4, 3, 0,\n",
       "       3, 1, 0, 0, 5, 5, 2, 3, 0, 3, 0, 1, 0, 3, 3, 3, 0, 3, 4, 2, 0, 0,\n",
       "       0, 3, 2, 4, 5, 1, 1, 3, 3, 2, 0, 2, 4, 0, 2, 0, 3, 2, 3, 2, 3, 0,\n",
       "       4, 2, 5, 1, 2, 0, 4, 0, 2, 0, 4, 3, 5, 0, 3, 5, 0, 3, 3, 1, 3, 0,\n",
       "       3, 3, 2, 5, 0, 2, 4, 0, 0, 3, 3, 3, 3, 5, 3, 5, 3, 1, 4, 5, 3, 5,\n",
       "       5, 5, 3, 0, 4, 3, 2, 3, 4, 2, 4, 3, 3, 3, 4, 0, 0, 2, 1, 3, 3, 2,\n",
       "       2, 3, 2, 2, 3, 1, 3, 5, 4, 3, 3, 4, 5, 3, 0, 1, 1, 1, 3, 3, 0, 3,\n",
       "       2, 3, 0, 0, 3, 5, 3, 5, 3, 3, 3, 0, 3, 5, 3, 3, 3, 1, 1, 1, 0, 1,\n",
       "       3, 3, 3, 4, 2, 3, 3, 1, 1, 4, 0, 4, 4, 5, 0, 5, 5, 3, 1, 5, 0, 3,\n",
       "       3, 1, 0, 0, 2, 3, 1, 5, 1, 0, 3, 2, 3, 0, 0, 3, 5, 1, 0, 3, 5, 2,\n",
       "       5, 1, 3, 4, 3, 5, 3, 1, 0, 5, 3, 3, 3, 3, 3, 2, 2, 5, 1, 1, 5, 3,\n",
       "       3, 1, 5, 1, 1, 1, 0, 3, 2, 3, 1, 1, 2, 0, 3, 5, 1, 1, 1, 4, 0, 3,\n",
       "       0, 3, 3, 3, 0, 4, 3, 2, 5, 3, 5, 3, 3, 4, 2, 3, 3, 0, 5, 0, 0, 4,\n",
       "       4, 1, 3, 3, 1, 1, 3, 3, 3, 0, 0, 2, 2, 3, 3, 0, 2, 4, 0, 0, 5, 1,\n",
       "       2, 1, 0, 5, 1, 4, 1, 3, 0, 5, 3, 3, 0, 3, 3, 3, 3, 5, 1, 3, 5, 2,\n",
       "       0, 2, 5, 2, 3, 3, 0, 2, 2, 0, 3, 3, 1, 3, 0, 0, 2, 0, 3, 0, 1, 3,\n",
       "       3, 4, 2, 3, 4, 3, 0, 3, 2, 3, 3, 0, 2, 0, 3, 5, 0, 3], dtype=int64)"
      ]
     },
     "execution_count": 68,
     "metadata": {},
     "output_type": "execute_result"
    }
   ],
   "source": [
    "sess.run(tf.argmax(m1.predict(X_test), 1))"
   ]
  },
  {
   "cell_type": "code",
   "execution_count": 70,
   "metadata": {},
   "outputs": [],
   "source": [
    "# list(sess.run(tf.argmax(m1.predict(X_test), 1)))"
   ]
  },
  {
   "cell_type": "code",
   "execution_count": 72,
   "metadata": {},
   "outputs": [],
   "source": [
    "pred_num = list(sess.run(tf.argmax(m1.predict(X_test), 1)))\n",
    "pred_name = []\n",
    "for num in pred_num :\n",
    "    pred_name.append(IDX_LABEL[num])\n",
    "# print(pred_name)"
   ]
  },
  {
   "cell_type": "code",
   "execution_count": 74,
   "metadata": {},
   "outputs": [
    {
     "data": {
      "text/plain": [
       "array([2, 0, 5, 0, 3, 1, 0, 1, 1, 3, 0, 0, 3, 3, 0, 2, 2, 2, 0, 1, 1, 3,\n",
       "       3, 3, 1, 0, 3, 1, 0, 3, 1, 5, 3, 3, 4, 4, 1, 3, 0, 1, 3, 0, 0, 1,\n",
       "       4, 3, 0, 1, 0, 1, 0, 1, 4, 4, 1, 3, 1, 0, 4, 5, 2, 0, 0, 1, 3, 0,\n",
       "       1, 5, 1, 1, 3, 1, 3, 3, 4, 2, 0, 1, 5, 0, 1, 3, 2, 4, 1, 3, 2, 3,\n",
       "       3, 5, 1, 3, 1, 3, 1, 5, 0, 1, 5, 1, 0, 0, 0, 4, 3, 3, 1, 0, 5, 0,\n",
       "       5, 1, 2, 4, 3, 3, 5, 3, 5, 2, 1, 3, 0, 1, 1, 5, 0, 1, 3, 0, 1, 2,\n",
       "       3, 2, 2, 0, 2, 0, 5, 3, 1, 4, 3, 5, 2, 3, 3, 3, 5, 2, 2, 3, 1, 0,\n",
       "       5, 0, 1, 0, 3, 1, 1, 4, 5, 1, 0, 5, 4, 2, 4, 0, 0, 2, 3, 1, 1, 1,\n",
       "       0, 5, 1, 1, 2, 1, 4, 1, 0, 3, 2, 0, 3, 0, 5, 1, 1, 5, 1, 1, 2, 2,\n",
       "       2, 0, 2, 1, 0, 0, 2, 2, 3, 3, 2, 0, 3, 2, 0, 1, 5, 0, 2, 3, 2, 3,\n",
       "       1, 0, 0, 2, 3, 4, 3, 5, 5, 2, 4, 3, 5, 0, 3, 3, 3, 1, 3, 5, 2, 1,\n",
       "       0, 1, 0, 0, 1, 2, 1, 0, 1, 0, 2, 3, 5, 3, 2, 5, 3, 0, 3, 0, 0, 0,\n",
       "       5, 3, 0, 3, 0, 3, 2, 2, 5, 2, 2, 5, 1, 2, 1, 2, 3, 1, 3, 4, 1, 2,\n",
       "       5, 0, 0, 5, 0, 2, 3, 0, 4, 5, 2, 4, 5, 5, 1, 2, 3, 1, 4, 1, 1, 0,\n",
       "       0, 0, 1, 2, 2, 0, 0, 0, 3, 1, 1, 5, 0, 3, 1, 0, 2, 0, 0, 2, 0, 2,\n",
       "       5, 5, 0, 3, 5, 1, 3, 2, 1, 1, 0, 4, 3, 5, 0, 0, 0, 0, 0, 1, 0, 2,\n",
       "       2, 0, 5, 0, 0, 0, 3, 3, 0, 0, 3, 0, 4, 5, 5, 5, 2, 3, 1, 5, 5, 2,\n",
       "       1, 5, 1, 3, 3, 0, 2, 5, 1, 3, 5, 0, 3, 0, 1, 0, 1, 0, 1, 3, 2, 3,\n",
       "       0, 5, 0, 1, 1, 0, 1, 0, 2, 5, 1, 1, 3, 1, 1, 1, 1, 3, 0, 5, 4, 2,\n",
       "       0, 5, 5, 0, 0, 3, 1, 0, 0, 1, 1, 1, 3, 2, 4, 2, 4, 0, 3, 5, 0, 0,\n",
       "       3, 1, 0, 1, 5, 5, 0, 3, 1, 3, 0, 0, 3, 0, 0, 2, 0, 3, 1, 0, 0, 0,\n",
       "       0, 1, 1, 4, 4, 1, 0, 1, 3, 1, 3, 3, 4, 1, 2, 0, 1, 5, 2, 1, 2, 1,\n",
       "       0, 1, 4, 1, 0, 2, 4, 1, 3, 2, 4, 3, 5, 0, 0, 3, 1, 1, 0, 0, 3, 0,\n",
       "       3, 3, 1, 5, 0, 2, 4, 4, 0, 1, 3, 2, 1, 5, 1, 5, 3, 0, 0, 0, 1, 1,\n",
       "       2, 4, 3, 3, 0, 2, 1, 2, 4, 2, 1, 2, 3, 3, 3, 2, 2, 1, 3, 2, 0, 2,\n",
       "       2, 1, 2, 2, 1, 1, 2, 5, 4, 1, 0, 1, 5, 3, 0, 0, 3, 1, 3, 3, 5, 2,\n",
       "       0, 3, 0, 0, 3, 5, 2, 5, 3, 3, 0, 0, 0, 5, 3, 0, 2, 1, 1, 5, 2, 1,\n",
       "       3, 2, 3, 1, 3, 3, 2, 1, 0, 1, 2, 4, 3, 5, 2, 5, 5, 3, 3, 0, 0, 2,\n",
       "       1, 0, 1, 0, 0, 3, 1, 0, 3, 0, 2, 2, 3, 0, 0, 2, 5, 3, 2, 1, 5, 0,\n",
       "       5, 0, 3, 4, 3, 5, 3, 3, 0, 5, 2, 2, 1, 1, 1, 1, 2, 1, 1, 1, 5, 2,\n",
       "       3, 1, 4, 1, 0, 5, 2, 1, 3, 3, 1, 3, 0, 0, 3, 5, 0, 2, 1, 0, 1, 2,\n",
       "       1, 1, 1, 1, 1, 1, 3, 2, 5, 0, 5, 1, 3, 4, 3, 1, 3, 1, 5, 1, 1, 4,\n",
       "       4, 1, 0, 0, 0, 0, 1, 1, 0, 2, 1, 3, 0, 1, 3, 0, 1, 0, 0, 1, 0, 0,\n",
       "       2, 1, 1, 1, 0, 1, 1, 3, 2, 5, 2, 1, 0, 1, 3, 0, 2, 5, 1, 2, 5, 3,\n",
       "       1, 2, 5, 2, 1, 1, 1, 0, 2, 0, 3, 3, 0, 1, 0, 0, 2, 0, 1, 0, 5, 3,\n",
       "       3, 4, 2, 2, 1, 1, 0, 2, 5, 1, 3, 2, 3, 0, 3, 0, 0, 1], dtype=int64)"
      ]
     },
     "execution_count": 74,
     "metadata": {},
     "output_type": "execute_result"
    }
   ],
   "source": [
    "sess.run(tf.argmax(y_test, 1))"
   ]
  },
  {
   "cell_type": "code",
   "execution_count": 73,
   "metadata": {},
   "outputs": [
    {
     "name": "stdout",
     "output_type": "stream",
     "text": [
      "accuracy =  0.4606599\n"
     ]
    }
   ],
   "source": [
    "# Test model and check accuracy\n",
    "print('accuracy = ', m1.get_accuracy(X_test, y_test))"
   ]
  },
  {
   "cell_type": "code",
   "execution_count": null,
   "metadata": {},
   "outputs": [],
   "source": []
  },
  {
   "cell_type": "markdown",
   "metadata": {},
   "source": [
    "### 시각화"
   ]
  },
  {
   "cell_type": "code",
   "execution_count": 75,
   "metadata": {},
   "outputs": [
    {
     "name": "stdout",
     "output_type": "stream",
     "text": [
      "             precision    recall  f1-score   support\n",
      "\n",
      "          0       0.54      0.42      0.47       191\n",
      "          1       0.39      0.23      0.29       190\n",
      "          2       0.37      0.29      0.32       119\n",
      "          3       0.39      0.69      0.50       153\n",
      "          4       0.48      0.64      0.55        44\n",
      "          5       0.69      0.78      0.73        91\n",
      "\n",
      "avg / total       0.46      0.46      0.44       788\n",
      "\n"
     ]
    }
   ],
   "source": [
    "# classification_report\n",
    "print(classification_report(sess.run(tf.argmax(y_test, 1)), sess.run(tf.argmax(m1.predict(X_test), 1))))"
   ]
  },
  {
   "cell_type": "code",
   "execution_count": 76,
   "metadata": {},
   "outputs": [
    {
     "data": {
      "image/png": "[encoded data removed]",
      "text/plain": [
       "<Figure size 432x288 with 2 Axes>"
      ]
     },
     "metadata": {},
     "output_type": "display_data"
    }
   ],
   "source": [
    "# confusion_matrix(혼동행렬)\n",
    "cm = confusion_matrix(sess.run(tf.argmax(y_test, 1)), sess.run(tf.argmax(m1.predict(X_test), 1)))\n",
    "plt.imshow(cm, interpolation='nearest', cmap=plt.cm.Blues)\n",
    "plt.colorbar()\n",
    "plt.tight_layout()\n",
    "plt.show()"
   ]
  },
  {
   "cell_type": "code",
   "execution_count": null,
   "metadata": {},
   "outputs": [],
   "source": []
  },
  {
   "cell_type": "code",
   "execution_count": 119,
   "metadata": {},
   "outputs": [],
   "source": [
    "# 세션 종료\n",
    "sess.close()"
   ]
  },
  {
   "cell_type": "code",
   "execution_count": null,
   "metadata": {},
   "outputs": [],
   "source": []
  },
  {
   "cell_type": "code",
   "execution_count": 156,
   "metadata": {},
   "outputs": [],
   "source": [
    "tf.reset_default_graph()"
   ]
  },
  {
   "cell_type": "markdown",
   "metadata": {},
   "source": [
    "### 실시간 영상에 분류 결과 나타내기"
   ]
  },
  {
   "cell_type": "code",
   "execution_count": 157,
   "metadata": {},
   "outputs": [],
   "source": [
    "import cv2\n",
    "import numpy as np\n",
    "import matplotlib.pyplot as plt\n",
    "import os\n",
    "import tensorflow as tf\n",
    "from tensorflow.compat.v1 import ConfigProto\n",
    "from tensorflow.compat.v1 import InteractiveSession"
   ]
  },
  {
   "cell_type": "code",
   "execution_count": 158,
   "metadata": {},
   "outputs": [],
   "source": [
    "CHECK_POINT_DIR = './model.ckpt'"
   ]
  },
  {
   "cell_type": "code",
   "execution_count": 159,
   "metadata": {},
   "outputs": [],
   "source": [
    "checkpoint = tf.train.get_checkpoint_state(CHECK_POINT_DIR)"
   ]
  },
  {
   "cell_type": "code",
   "execution_count": 160,
   "metadata": {},
   "outputs": [
    {
     "name": "stdout",
     "output_type": "stream",
     "text": [
      "model_checkpoint_path: \"./model.ckpt\\\\model\"\n",
      "all_model_checkpoint_paths: \"./model.ckpt\\\\model\"\n",
      "\n",
      "./model.ckpt\\model\n"
     ]
    }
   ],
   "source": [
    "print(checkpoint)\n",
    "print(checkpoint.model_checkpoint_path)"
   ]
  },
  {
   "cell_type": "code",
   "execution_count": 126,
   "metadata": {},
   "outputs": [],
   "source": [
    "# config = ConfigProto()\n",
    "# config.gpu_options.allow_growth = True\n",
    "# sess = tf.Session(config=config)\n",
    "# sess.run(tf.global_variables_initializer())"
   ]
  },
  {
   "cell_type": "code",
   "execution_count": 128,
   "metadata": {},
   "outputs": [],
   "source": [
    "# # load a trained model\n",
    "# if checkpoint and checkpoint.model_checkpoint_path :\n",
    "#     try : \n",
    "#         saver = tf.train.import_meta_graph(checkpoint.model_checkpoint_path + '.meta')\n",
    "#         saver.restore(sess, checkpoint.model_checkpoint_path)\n",
    "#         print('Successfully loaded : ', checkpoint.model_checkpoint_path)\n",
    "#     except :\n",
    "#         print(\"Error on loading old network weights\")\n",
    "# else :\n",
    "#     print(\"Could not find old network weights\")"
   ]
  },
  {
   "cell_type": "code",
   "execution_count": null,
   "metadata": {},
   "outputs": [],
   "source": []
  },
  {
   "cell_type": "code",
   "execution_count": 170,
   "metadata": {},
   "outputs": [
    {
     "name": "stdout",
     "output_type": "stream",
     "text": [
      "INFO:tensorflow:Restoring parameters from ./model.ckpt\\model\n",
      "Successfully loaded :  ./model.ckpt\\model\n"
     ]
    }
   ],
   "source": [
    "# load a trained model\n",
    "if checkpoint and checkpoint.model_checkpoint_path :\n",
    "    try : \n",
    "        saver = tf.train.import_meta_graph(checkpoint.model_checkpoint_path + '.meta')\n",
    "        config = ConfigProto()\n",
    "        config.gpu_options.allow_growth = True\n",
    "        sess = tf.Session(config=config)\n",
    "        sess.run(tf.global_variables_initializer())\n",
    "        saver.restore(sess, checkpoint.model_checkpoint_path)\n",
    "        print('Successfully loaded : ', checkpoint.model_checkpoint_path)\n",
    "    except :\n",
    "        print(\"Error on loading old network weights\")\n",
    "else :\n",
    "    print(\"Could not find old network weights\")"
   ]
  },
  {
   "cell_type": "code",
   "execution_count": 172,
   "metadata": {},
   "outputs": [],
   "source": [
    "m2 = Model(sess, \"m2\")"
   ]
  },
  {
   "cell_type": "code",
   "execution_count": 173,
   "metadata": {},
   "outputs": [
    {
     "ename": "FailedPreconditionError",
     "evalue": "Attempting to use uninitialized value m2/dense_1/bias\n\t [[node m2/dense_1/bias/read (defined at <ipython-input-58-ad51d7a85b4c>:43) ]]\n\nCaused by op 'm2/dense_1/bias/read', defined at:\n  File \"C:\\Users\\User\\Anaconda3\\lib\\runpy.py\", line 193, in _run_module_as_main\n    \"__main__\", mod_spec)\n  File \"C:\\Users\\User\\Anaconda3\\lib\\runpy.py\", line 85, in _run_code\n    exec(code, run_globals)\n  File \"C:\\Users\\User\\Anaconda3\\lib\\site-packages\\ipykernel_launcher.py\", line 16, in <module>\n    app.launch_new_instance()\n  File \"C:\\Users\\User\\Anaconda3\\lib\\site-packages\\traitlets\\config\\application.py\", line 658, in launch_instance\n    app.start()\n  File \"C:\\Users\\User\\Anaconda3\\lib\\site-packages\\ipykernel\\kernelapp.py\", line 486, in start\n    self.io_loop.start()\n  File \"C:\\Users\\User\\Anaconda3\\lib\\site-packages\\tornado\\platform\\asyncio.py\", line 127, in start\n    self.asyncio_loop.run_forever()\n  File \"C:\\Users\\User\\Anaconda3\\lib\\asyncio\\base_events.py\", line 422, in run_forever\n    self._run_once()\n  File \"C:\\Users\\User\\Anaconda3\\lib\\asyncio\\base_events.py\", line 1432, in _run_once\n    handle._run()\n  File \"C:\\Users\\User\\Anaconda3\\lib\\asyncio\\events.py\", line 145, in _run\n    self._callback(*self._args)\n  File \"C:\\Users\\User\\Anaconda3\\lib\\site-packages\\tornado\\platform\\asyncio.py\", line 117, in _handle_events\n    handler_func(fileobj, events)\n  File \"C:\\Users\\User\\Anaconda3\\lib\\site-packages\\tornado\\stack_context.py\", line 276, in null_wrapper\n    return fn(*args, **kwargs)\n  File \"C:\\Users\\User\\Anaconda3\\lib\\site-packages\\zmq\\eventloop\\zmqstream.py\", line 450, in _handle_events\n    self._handle_recv()\n  File \"C:\\Users\\User\\Anaconda3\\lib\\site-packages\\zmq\\eventloop\\zmqstream.py\", line 480, in _handle_recv\n    self._run_callback(callback, msg)\n  File \"C:\\Users\\User\\Anaconda3\\lib\\site-packages\\zmq\\eventloop\\zmqstream.py\", line 432, in _run_callback\n    callback(*args, **kwargs)\n  File \"C:\\Users\\User\\Anaconda3\\lib\\site-packages\\tornado\\stack_context.py\", line 276, in null_wrapper\n    return fn(*args, **kwargs)\n  File \"C:\\Users\\User\\Anaconda3\\lib\\site-packages\\ipykernel\\kernelbase.py\", line 283, in dispatcher\n    return self.dispatch_shell(stream, msg)\n  File \"C:\\Users\\User\\Anaconda3\\lib\\site-packages\\ipykernel\\kernelbase.py\", line 233, in dispatch_shell\n    handler(stream, idents, msg)\n  File \"C:\\Users\\User\\Anaconda3\\lib\\site-packages\\ipykernel\\kernelbase.py\", line 399, in execute_request\n    user_expressions, allow_stdin)\n  File \"C:\\Users\\User\\Anaconda3\\lib\\site-packages\\ipykernel\\ipkernel.py\", line 208, in do_execute\n    res = shell.run_cell(code, store_history=store_history, silent=silent)\n  File \"C:\\Users\\User\\Anaconda3\\lib\\site-packages\\ipykernel\\zmqshell.py\", line 537, in run_cell\n    return super(ZMQInteractiveShell, self).run_cell(*args, **kwargs)\n  File \"C:\\Users\\User\\Anaconda3\\lib\\site-packages\\IPython\\core\\interactiveshell.py\", line 2662, in run_cell\n    raw_cell, store_history, silent, shell_futures)\n  File \"C:\\Users\\User\\Anaconda3\\lib\\site-packages\\IPython\\core\\interactiveshell.py\", line 2785, in _run_cell\n    interactivity=interactivity, compiler=compiler, result=result)\n  File \"C:\\Users\\User\\Anaconda3\\lib\\site-packages\\IPython\\core\\interactiveshell.py\", line 2903, in run_ast_nodes\n    if self.run_code(code, result):\n  File \"C:\\Users\\User\\Anaconda3\\lib\\site-packages\\IPython\\core\\interactiveshell.py\", line 2963, in run_code\n    exec(code_obj, self.user_global_ns, self.user_ns)\n  File \"<ipython-input-172-ba14269a5e9e>\", line 1, in <module>\n    m2 = Model(sess, \"m2\")\n  File \"<ipython-input-58-ad51d7a85b4c>\", line 8, in __init__\n    self._build_net()\n  File \"<ipython-input-58-ad51d7a85b4c>\", line 43, in _build_net\n    self.logits = tf.layers.dense(inputs = dropout4, units = N_CLASSES)\n  File \"C:\\Users\\User\\Anaconda3\\lib\\site-packages\\tensorflow\\python\\util\\deprecation.py\", line 324, in new_func\n    return func(*args, **kwargs)\n  File \"C:\\Users\\User\\Anaconda3\\lib\\site-packages\\tensorflow\\python\\layers\\core.py\", line 188, in dense\n    return layer.apply(inputs)\n  File \"C:\\Users\\User\\Anaconda3\\lib\\site-packages\\tensorflow\\python\\keras\\engine\\base_layer.py\", line 1227, in apply\n    return self.__call__(inputs, *args, **kwargs)\n  File \"C:\\Users\\User\\Anaconda3\\lib\\site-packages\\tensorflow\\python\\layers\\base.py\", line 530, in __call__\n    outputs = super(Layer, self).__call__(inputs, *args, **kwargs)\n  File \"C:\\Users\\User\\Anaconda3\\lib\\site-packages\\tensorflow\\python\\keras\\engine\\base_layer.py\", line 538, in __call__\n    self._maybe_build(inputs)\n  File \"C:\\Users\\User\\Anaconda3\\lib\\site-packages\\tensorflow\\python\\keras\\engine\\base_layer.py\", line 1603, in _maybe_build\n    self.build(input_shapes)\n  File \"C:\\Users\\User\\Anaconda3\\lib\\site-packages\\tensorflow\\python\\keras\\layers\\core.py\", line 958, in build\n    trainable=True)\n  File \"C:\\Users\\User\\Anaconda3\\lib\\site-packages\\tensorflow\\python\\layers\\base.py\", line 435, in add_weight\n    getter=vs.get_variable)\n  File \"C:\\Users\\User\\Anaconda3\\lib\\site-packages\\tensorflow\\python\\keras\\engine\\base_layer.py\", line 349, in add_weight\n    aggregation=aggregation)\n  File \"C:\\Users\\User\\Anaconda3\\lib\\site-packages\\tensorflow\\python\\training\\checkpointable\\base.py\", line 607, in _add_variable_with_custom_getter\n    **kwargs_for_getter)\n  File \"C:\\Users\\User\\Anaconda3\\lib\\site-packages\\tensorflow\\python\\ops\\variable_scope.py\", line 1479, in get_variable\n    aggregation=aggregation)\n  File \"C:\\Users\\User\\Anaconda3\\lib\\site-packages\\tensorflow\\python\\ops\\variable_scope.py\", line 1220, in get_variable\n    aggregation=aggregation)\n  File \"C:\\Users\\User\\Anaconda3\\lib\\site-packages\\tensorflow\\python\\ops\\variable_scope.py\", line 547, in get_variable\n    aggregation=aggregation)\n  File \"C:\\Users\\User\\Anaconda3\\lib\\site-packages\\tensorflow\\python\\ops\\variable_scope.py\", line 499, in _true_getter\n    aggregation=aggregation)\n  File \"C:\\Users\\User\\Anaconda3\\lib\\site-packages\\tensorflow\\python\\ops\\variable_scope.py\", line 911, in _get_single_variable\n    aggregation=aggregation)\n  File \"C:\\Users\\User\\Anaconda3\\lib\\site-packages\\tensorflow\\python\\ops\\variables.py\", line 213, in __call__\n    return cls._variable_v1_call(*args, **kwargs)\n  File \"C:\\Users\\User\\Anaconda3\\lib\\site-packages\\tensorflow\\python\\ops\\variables.py\", line 176, in _variable_v1_call\n    aggregation=aggregation)\n  File \"C:\\Users\\User\\Anaconda3\\lib\\site-packages\\tensorflow\\python\\ops\\variables.py\", line 155, in <lambda>\n    previous_getter = lambda **kwargs: default_variable_creator(None, **kwargs)\n  File \"C:\\Users\\User\\Anaconda3\\lib\\site-packages\\tensorflow\\python\\ops\\variable_scope.py\", line 2495, in default_variable_creator\n    expected_shape=expected_shape, import_scope=import_scope)\n  File \"C:\\Users\\User\\Anaconda3\\lib\\site-packages\\tensorflow\\python\\ops\\variables.py\", line 217, in __call__\n    return super(VariableMetaclass, cls).__call__(*args, **kwargs)\n  File \"C:\\Users\\User\\Anaconda3\\lib\\site-packages\\tensorflow\\python\\ops\\variables.py\", line 1395, in __init__\n    constraint=constraint)\n  File \"C:\\Users\\User\\Anaconda3\\lib\\site-packages\\tensorflow\\python\\ops\\variables.py\", line 1557, in _init_from_args\n    self._snapshot = array_ops.identity(self._variable, name=\"read\")\n  File \"C:\\Users\\User\\Anaconda3\\lib\\site-packages\\tensorflow\\python\\util\\dispatch.py\", line 180, in wrapper\n    return target(*args, **kwargs)\n  File \"C:\\Users\\User\\Anaconda3\\lib\\site-packages\\tensorflow\\python\\ops\\array_ops.py\", line 81, in identity\n    ret = gen_array_ops.identity(input, name=name)\n  File \"C:\\Users\\User\\Anaconda3\\lib\\site-packages\\tensorflow\\python\\ops\\gen_array_ops.py\", line 3889, in identity\n    \"Identity\", input=input, name=name)\n  File \"C:\\Users\\User\\Anaconda3\\lib\\site-packages\\tensorflow\\python\\framework\\op_def_library.py\", line 788, in _apply_op_helper\n    op_def=op_def)\n  File \"C:\\Users\\User\\Anaconda3\\lib\\site-packages\\tensorflow\\python\\util\\deprecation.py\", line 507, in new_func\n    return func(*args, **kwargs)\n  File \"C:\\Users\\User\\Anaconda3\\lib\\site-packages\\tensorflow\\python\\framework\\ops.py\", line 3300, in create_op\n    op_def=op_def)\n  File \"C:\\Users\\User\\Anaconda3\\lib\\site-packages\\tensorflow\\python\\framework\\ops.py\", line 1801, in __init__\n    self._traceback = tf_stack.extract_stack()\n\nFailedPreconditionError (see above for traceback): Attempting to use uninitialized value m2/dense_1/bias\n\t [[node m2/dense_1/bias/read (defined at <ipython-input-58-ad51d7a85b4c>:43) ]]\n",
     "output_type": "error",
     "traceback": [
      "\u001b[1;31m---------------------------------------------------------------------------\u001b[0m",
      "\u001b[1;31mFailedPreconditionError\u001b[0m                   Traceback (most recent call last)",
      "\u001b[1;32m~\\Anaconda3\\lib\\site-packages\\tensorflow\\python\\client\\session.py\u001b[0m in \u001b[0;36m_do_call\u001b[1;34m(self, fn, *args)\u001b[0m\n\u001b[0;32m   1333\u001b[0m     \u001b[1;32mtry\u001b[0m\u001b[1;33m:\u001b[0m\u001b[1;33m\u001b[0m\u001b[0m\n\u001b[1;32m-> 1334\u001b[1;33m       \u001b[1;32mreturn\u001b[0m \u001b[0mfn\u001b[0m\u001b[1;33m(\u001b[0m\u001b[1;33m*\u001b[0m\u001b[0margs\u001b[0m\u001b[1;33m)\u001b[0m\u001b[1;33m\u001b[0m\u001b[0m\n\u001b[0m\u001b[0;32m   1335\u001b[0m     \u001b[1;32mexcept\u001b[0m \u001b[0merrors\u001b[0m\u001b[1;33m.\u001b[0m\u001b[0mOpError\u001b[0m \u001b[1;32mas\u001b[0m \u001b[0me\u001b[0m\u001b[1;33m:\u001b[0m\u001b[1;33m\u001b[0m\u001b[0m\n",
      "\u001b[1;32m~\\Anaconda3\\lib\\site-packages\\tensorflow\\python\\client\\session.py\u001b[0m in \u001b[0;36m_run_fn\u001b[1;34m(feed_dict, fetch_list, target_list, options, run_metadata)\u001b[0m\n\u001b[0;32m   1318\u001b[0m       return self._call_tf_sessionrun(\n\u001b[1;32m-> 1319\u001b[1;33m           options, feed_dict, fetch_list, target_list, run_metadata)\n\u001b[0m\u001b[0;32m   1320\u001b[0m \u001b[1;33m\u001b[0m\u001b[0m\n",
      "\u001b[1;32m~\\Anaconda3\\lib\\site-packages\\tensorflow\\python\\client\\session.py\u001b[0m in \u001b[0;36m_call_tf_sessionrun\u001b[1;34m(self, options, feed_dict, fetch_list, target_list, run_metadata)\u001b[0m\n\u001b[0;32m   1406\u001b[0m         \u001b[0mself\u001b[0m\u001b[1;33m.\u001b[0m\u001b[0m_session\u001b[0m\u001b[1;33m,\u001b[0m \u001b[0moptions\u001b[0m\u001b[1;33m,\u001b[0m \u001b[0mfeed_dict\u001b[0m\u001b[1;33m,\u001b[0m \u001b[0mfetch_list\u001b[0m\u001b[1;33m,\u001b[0m \u001b[0mtarget_list\u001b[0m\u001b[1;33m,\u001b[0m\u001b[1;33m\u001b[0m\u001b[0m\n\u001b[1;32m-> 1407\u001b[1;33m         run_metadata)\n\u001b[0m\u001b[0;32m   1408\u001b[0m \u001b[1;33m\u001b[0m\u001b[0m\n",
      "\u001b[1;31mFailedPreconditionError\u001b[0m: Attempting to use uninitialized value m2/dense_1/bias\n\t [[{{node m2/dense_1/bias/read}}]]",
      "\nDuring handling of the above exception, another exception occurred:\n",
      "\u001b[1;31mFailedPreconditionError\u001b[0m                   Traceback (most recent call last)",
      "\u001b[1;32m<ipython-input-173-69f80e574edb>\u001b[0m in \u001b[0;36m<module>\u001b[1;34m()\u001b[0m\n\u001b[1;32m----> 1\u001b[1;33m \u001b[0mprint\u001b[0m\u001b[1;33m(\u001b[0m\u001b[1;34m'accuracy = '\u001b[0m\u001b[1;33m,\u001b[0m \u001b[0mm2\u001b[0m\u001b[1;33m.\u001b[0m\u001b[0mget_accuracy\u001b[0m\u001b[1;33m(\u001b[0m\u001b[0mX_test\u001b[0m\u001b[1;33m,\u001b[0m \u001b[0my_test\u001b[0m\u001b[1;33m)\u001b[0m\u001b[1;33m)\u001b[0m\u001b[1;33m\u001b[0m\u001b[0m\n\u001b[0m",
      "\u001b[1;32m<ipython-input-58-ad51d7a85b4c>\u001b[0m in \u001b[0;36mget_accuracy\u001b[1;34m(self, X_test, y_test, training)\u001b[0m\n\u001b[0;32m     58\u001b[0m \u001b[1;33m\u001b[0m\u001b[0m\n\u001b[0;32m     59\u001b[0m     \u001b[1;32mdef\u001b[0m \u001b[0mget_accuracy\u001b[0m\u001b[1;33m(\u001b[0m\u001b[0mself\u001b[0m\u001b[1;33m,\u001b[0m \u001b[0mX_test\u001b[0m\u001b[1;33m,\u001b[0m \u001b[0my_test\u001b[0m\u001b[1;33m,\u001b[0m \u001b[0mtraining\u001b[0m \u001b[1;33m=\u001b[0m \u001b[1;32mFalse\u001b[0m\u001b[1;33m)\u001b[0m \u001b[1;33m:\u001b[0m\u001b[1;33m\u001b[0m\u001b[0m\n\u001b[1;32m---> 60\u001b[1;33m         \u001b[1;32mreturn\u001b[0m \u001b[0mself\u001b[0m\u001b[1;33m.\u001b[0m\u001b[0msess\u001b[0m\u001b[1;33m.\u001b[0m\u001b[0mrun\u001b[0m\u001b[1;33m(\u001b[0m\u001b[0mself\u001b[0m\u001b[1;33m.\u001b[0m\u001b[0maccuracy\u001b[0m\u001b[1;33m,\u001b[0m \u001b[0mfeed_dict\u001b[0m \u001b[1;33m=\u001b[0m \u001b[1;33m{\u001b[0m\u001b[0mself\u001b[0m\u001b[1;33m.\u001b[0m\u001b[0mX\u001b[0m \u001b[1;33m:\u001b[0m \u001b[0mX_test\u001b[0m\u001b[1;33m,\u001b[0m \u001b[0mself\u001b[0m\u001b[1;33m.\u001b[0m\u001b[0my\u001b[0m \u001b[1;33m:\u001b[0m \u001b[0my_test\u001b[0m\u001b[1;33m,\u001b[0m \u001b[0mself\u001b[0m\u001b[1;33m.\u001b[0m\u001b[0mtraining\u001b[0m \u001b[1;33m:\u001b[0m \u001b[0mtraining\u001b[0m\u001b[1;33m}\u001b[0m\u001b[1;33m)\u001b[0m\u001b[1;33m\u001b[0m\u001b[0m\n\u001b[0m",
      "\u001b[1;32m~\\Anaconda3\\lib\\site-packages\\tensorflow\\python\\client\\session.py\u001b[0m in \u001b[0;36mrun\u001b[1;34m(self, fetches, feed_dict, options, run_metadata)\u001b[0m\n\u001b[0;32m    927\u001b[0m     \u001b[1;32mtry\u001b[0m\u001b[1;33m:\u001b[0m\u001b[1;33m\u001b[0m\u001b[0m\n\u001b[0;32m    928\u001b[0m       result = self._run(None, fetches, feed_dict, options_ptr,\n\u001b[1;32m--> 929\u001b[1;33m                          run_metadata_ptr)\n\u001b[0m\u001b[0;32m    930\u001b[0m       \u001b[1;32mif\u001b[0m \u001b[0mrun_metadata\u001b[0m\u001b[1;33m:\u001b[0m\u001b[1;33m\u001b[0m\u001b[0m\n\u001b[0;32m    931\u001b[0m         \u001b[0mproto_data\u001b[0m \u001b[1;33m=\u001b[0m \u001b[0mtf_session\u001b[0m\u001b[1;33m.\u001b[0m\u001b[0mTF_GetBuffer\u001b[0m\u001b[1;33m(\u001b[0m\u001b[0mrun_metadata_ptr\u001b[0m\u001b[1;33m)\u001b[0m\u001b[1;33m\u001b[0m\u001b[0m\n",
      "\u001b[1;32m~\\Anaconda3\\lib\\site-packages\\tensorflow\\python\\client\\session.py\u001b[0m in \u001b[0;36m_run\u001b[1;34m(self, handle, fetches, feed_dict, options, run_metadata)\u001b[0m\n\u001b[0;32m   1150\u001b[0m     \u001b[1;32mif\u001b[0m \u001b[0mfinal_fetches\u001b[0m \u001b[1;32mor\u001b[0m \u001b[0mfinal_targets\u001b[0m \u001b[1;32mor\u001b[0m \u001b[1;33m(\u001b[0m\u001b[0mhandle\u001b[0m \u001b[1;32mand\u001b[0m \u001b[0mfeed_dict_tensor\u001b[0m\u001b[1;33m)\u001b[0m\u001b[1;33m:\u001b[0m\u001b[1;33m\u001b[0m\u001b[0m\n\u001b[0;32m   1151\u001b[0m       results = self._do_run(handle, final_targets, final_fetches,\n\u001b[1;32m-> 1152\u001b[1;33m                              feed_dict_tensor, options, run_metadata)\n\u001b[0m\u001b[0;32m   1153\u001b[0m     \u001b[1;32melse\u001b[0m\u001b[1;33m:\u001b[0m\u001b[1;33m\u001b[0m\u001b[0m\n\u001b[0;32m   1154\u001b[0m       \u001b[0mresults\u001b[0m \u001b[1;33m=\u001b[0m \u001b[1;33m[\u001b[0m\u001b[1;33m]\u001b[0m\u001b[1;33m\u001b[0m\u001b[0m\n",
      "\u001b[1;32m~\\Anaconda3\\lib\\site-packages\\tensorflow\\python\\client\\session.py\u001b[0m in \u001b[0;36m_do_run\u001b[1;34m(self, handle, target_list, fetch_list, feed_dict, options, run_metadata)\u001b[0m\n\u001b[0;32m   1326\u001b[0m     \u001b[1;32mif\u001b[0m \u001b[0mhandle\u001b[0m \u001b[1;32mis\u001b[0m \u001b[1;32mNone\u001b[0m\u001b[1;33m:\u001b[0m\u001b[1;33m\u001b[0m\u001b[0m\n\u001b[0;32m   1327\u001b[0m       return self._do_call(_run_fn, feeds, fetches, targets, options,\n\u001b[1;32m-> 1328\u001b[1;33m                            run_metadata)\n\u001b[0m\u001b[0;32m   1329\u001b[0m     \u001b[1;32melse\u001b[0m\u001b[1;33m:\u001b[0m\u001b[1;33m\u001b[0m\u001b[0m\n\u001b[0;32m   1330\u001b[0m       \u001b[1;32mreturn\u001b[0m \u001b[0mself\u001b[0m\u001b[1;33m.\u001b[0m\u001b[0m_do_call\u001b[0m\u001b[1;33m(\u001b[0m\u001b[0m_prun_fn\u001b[0m\u001b[1;33m,\u001b[0m \u001b[0mhandle\u001b[0m\u001b[1;33m,\u001b[0m \u001b[0mfeeds\u001b[0m\u001b[1;33m,\u001b[0m \u001b[0mfetches\u001b[0m\u001b[1;33m)\u001b[0m\u001b[1;33m\u001b[0m\u001b[0m\n",
      "\u001b[1;32m~\\Anaconda3\\lib\\site-packages\\tensorflow\\python\\client\\session.py\u001b[0m in \u001b[0;36m_do_call\u001b[1;34m(self, fn, *args)\u001b[0m\n\u001b[0;32m   1346\u001b[0m           \u001b[1;32mpass\u001b[0m\u001b[1;33m\u001b[0m\u001b[0m\n\u001b[0;32m   1347\u001b[0m       \u001b[0mmessage\u001b[0m \u001b[1;33m=\u001b[0m \u001b[0merror_interpolation\u001b[0m\u001b[1;33m.\u001b[0m\u001b[0minterpolate\u001b[0m\u001b[1;33m(\u001b[0m\u001b[0mmessage\u001b[0m\u001b[1;33m,\u001b[0m \u001b[0mself\u001b[0m\u001b[1;33m.\u001b[0m\u001b[0m_graph\u001b[0m\u001b[1;33m)\u001b[0m\u001b[1;33m\u001b[0m\u001b[0m\n\u001b[1;32m-> 1348\u001b[1;33m       \u001b[1;32mraise\u001b[0m \u001b[0mtype\u001b[0m\u001b[1;33m(\u001b[0m\u001b[0me\u001b[0m\u001b[1;33m)\u001b[0m\u001b[1;33m(\u001b[0m\u001b[0mnode_def\u001b[0m\u001b[1;33m,\u001b[0m \u001b[0mop\u001b[0m\u001b[1;33m,\u001b[0m \u001b[0mmessage\u001b[0m\u001b[1;33m)\u001b[0m\u001b[1;33m\u001b[0m\u001b[0m\n\u001b[0m\u001b[0;32m   1349\u001b[0m \u001b[1;33m\u001b[0m\u001b[0m\n\u001b[0;32m   1350\u001b[0m   \u001b[1;32mdef\u001b[0m \u001b[0m_extend_graph\u001b[0m\u001b[1;33m(\u001b[0m\u001b[0mself\u001b[0m\u001b[1;33m)\u001b[0m\u001b[1;33m:\u001b[0m\u001b[1;33m\u001b[0m\u001b[0m\n",
      "\u001b[1;31mFailedPreconditionError\u001b[0m: Attempting to use uninitialized value m2/dense_1/bias\n\t [[node m2/dense_1/bias/read (defined at <ipython-input-58-ad51d7a85b4c>:43) ]]\n\nCaused by op 'm2/dense_1/bias/read', defined at:\n  File \"C:\\Users\\User\\Anaconda3\\lib\\runpy.py\", line 193, in _run_module_as_main\n    \"__main__\", mod_spec)\n  File \"C:\\Users\\User\\Anaconda3\\lib\\runpy.py\", line 85, in _run_code\n    exec(code, run_globals)\n  File \"C:\\Users\\User\\Anaconda3\\lib\\site-packages\\ipykernel_launcher.py\", line 16, in <module>\n    app.launch_new_instance()\n  File \"C:\\Users\\User\\Anaconda3\\lib\\site-packages\\traitlets\\config\\application.py\", line 658, in launch_instance\n    app.start()\n  File \"C:\\Users\\User\\Anaconda3\\lib\\site-packages\\ipykernel\\kernelapp.py\", line 486, in start\n    self.io_loop.start()\n  File \"C:\\Users\\User\\Anaconda3\\lib\\site-packages\\tornado\\platform\\asyncio.py\", line 127, in start\n    self.asyncio_loop.run_forever()\n  File \"C:\\Users\\User\\Anaconda3\\lib\\asyncio\\base_events.py\", line 422, in run_forever\n    self._run_once()\n  File \"C:\\Users\\User\\Anaconda3\\lib\\asyncio\\base_events.py\", line 1432, in _run_once\n    handle._run()\n  File \"C:\\Users\\User\\Anaconda3\\lib\\asyncio\\events.py\", line 145, in _run\n    self._callback(*self._args)\n  File \"C:\\Users\\User\\Anaconda3\\lib\\site-packages\\tornado\\platform\\asyncio.py\", line 117, in _handle_events\n    handler_func(fileobj, events)\n  File \"C:\\Users\\User\\Anaconda3\\lib\\site-packages\\tornado\\stack_context.py\", line 276, in null_wrapper\n    return fn(*args, **kwargs)\n  File \"C:\\Users\\User\\Anaconda3\\lib\\site-packages\\zmq\\eventloop\\zmqstream.py\", line 450, in _handle_events\n    self._handle_recv()\n  File \"C:\\Users\\User\\Anaconda3\\lib\\site-packages\\zmq\\eventloop\\zmqstream.py\", line 480, in _handle_recv\n    self._run_callback(callback, msg)\n  File \"C:\\Users\\User\\Anaconda3\\lib\\site-packages\\zmq\\eventloop\\zmqstream.py\", line 432, in _run_callback\n    callback(*args, **kwargs)\n  File \"C:\\Users\\User\\Anaconda3\\lib\\site-packages\\tornado\\stack_context.py\", line 276, in null_wrapper\n    return fn(*args, **kwargs)\n  File \"C:\\Users\\User\\Anaconda3\\lib\\site-packages\\ipykernel\\kernelbase.py\", line 283, in dispatcher\n    return self.dispatch_shell(stream, msg)\n  File \"C:\\Users\\User\\Anaconda3\\lib\\site-packages\\ipykernel\\kernelbase.py\", line 233, in dispatch_shell\n    handler(stream, idents, msg)\n  File \"C:\\Users\\User\\Anaconda3\\lib\\site-packages\\ipykernel\\kernelbase.py\", line 399, in execute_request\n    user_expressions, allow_stdin)\n  File \"C:\\Users\\User\\Anaconda3\\lib\\site-packages\\ipykernel\\ipkernel.py\", line 208, in do_execute\n    res = shell.run_cell(code, store_history=store_history, silent=silent)\n  File \"C:\\Users\\User\\Anaconda3\\lib\\site-packages\\ipykernel\\zmqshell.py\", line 537, in run_cell\n    return super(ZMQInteractiveShell, self).run_cell(*args, **kwargs)\n  File \"C:\\Users\\User\\Anaconda3\\lib\\site-packages\\IPython\\core\\interactiveshell.py\", line 2662, in run_cell\n    raw_cell, store_history, silent, shell_futures)\n  File \"C:\\Users\\User\\Anaconda3\\lib\\site-packages\\IPython\\core\\interactiveshell.py\", line 2785, in _run_cell\n    interactivity=interactivity, compiler=compiler, result=result)\n  File \"C:\\Users\\User\\Anaconda3\\lib\\site-packages\\IPython\\core\\interactiveshell.py\", line 2903, in run_ast_nodes\n    if self.run_code(code, result):\n  File \"C:\\Users\\User\\Anaconda3\\lib\\site-packages\\IPython\\core\\interactiveshell.py\", line 2963, in run_code\n    exec(code_obj, self.user_global_ns, self.user_ns)\n  File \"<ipython-input-172-ba14269a5e9e>\", line 1, in <module>\n    m2 = Model(sess, \"m2\")\n  File \"<ipython-input-58-ad51d7a85b4c>\", line 8, in __init__\n    self._build_net()\n  File \"<ipython-input-58-ad51d7a85b4c>\", line 43, in _build_net\n    self.logits = tf.layers.dense(inputs = dropout4, units = N_CLASSES)\n  File \"C:\\Users\\User\\Anaconda3\\lib\\site-packages\\tensorflow\\python\\util\\deprecation.py\", line 324, in new_func\n    return func(*args, **kwargs)\n  File \"C:\\Users\\User\\Anaconda3\\lib\\site-packages\\tensorflow\\python\\layers\\core.py\", line 188, in dense\n    return layer.apply(inputs)\n  File \"C:\\Users\\User\\Anaconda3\\lib\\site-packages\\tensorflow\\python\\keras\\engine\\base_layer.py\", line 1227, in apply\n    return self.__call__(inputs, *args, **kwargs)\n  File \"C:\\Users\\User\\Anaconda3\\lib\\site-packages\\tensorflow\\python\\layers\\base.py\", line 530, in __call__\n    outputs = super(Layer, self).__call__(inputs, *args, **kwargs)\n  File \"C:\\Users\\User\\Anaconda3\\lib\\site-packages\\tensorflow\\python\\keras\\engine\\base_layer.py\", line 538, in __call__\n    self._maybe_build(inputs)\n  File \"C:\\Users\\User\\Anaconda3\\lib\\site-packages\\tensorflow\\python\\keras\\engine\\base_layer.py\", line 1603, in _maybe_build\n    self.build(input_shapes)\n  File \"C:\\Users\\User\\Anaconda3\\lib\\site-packages\\tensorflow\\python\\keras\\layers\\core.py\", line 958, in build\n    trainable=True)\n  File \"C:\\Users\\User\\Anaconda3\\lib\\site-packages\\tensorflow\\python\\layers\\base.py\", line 435, in add_weight\n    getter=vs.get_variable)\n  File \"C:\\Users\\User\\Anaconda3\\lib\\site-packages\\tensorflow\\python\\keras\\engine\\base_layer.py\", line 349, in add_weight\n    aggregation=aggregation)\n  File \"C:\\Users\\User\\Anaconda3\\lib\\site-packages\\tensorflow\\python\\training\\checkpointable\\base.py\", line 607, in _add_variable_with_custom_getter\n    **kwargs_for_getter)\n  File \"C:\\Users\\User\\Anaconda3\\lib\\site-packages\\tensorflow\\python\\ops\\variable_scope.py\", line 1479, in get_variable\n    aggregation=aggregation)\n  File \"C:\\Users\\User\\Anaconda3\\lib\\site-packages\\tensorflow\\python\\ops\\variable_scope.py\", line 1220, in get_variable\n    aggregation=aggregation)\n  File \"C:\\Users\\User\\Anaconda3\\lib\\site-packages\\tensorflow\\python\\ops\\variable_scope.py\", line 547, in get_variable\n    aggregation=aggregation)\n  File \"C:\\Users\\User\\Anaconda3\\lib\\site-packages\\tensorflow\\python\\ops\\variable_scope.py\", line 499, in _true_getter\n    aggregation=aggregation)\n  File \"C:\\Users\\User\\Anaconda3\\lib\\site-packages\\tensorflow\\python\\ops\\variable_scope.py\", line 911, in _get_single_variable\n    aggregation=aggregation)\n  File \"C:\\Users\\User\\Anaconda3\\lib\\site-packages\\tensorflow\\python\\ops\\variables.py\", line 213, in __call__\n    return cls._variable_v1_call(*args, **kwargs)\n  File \"C:\\Users\\User\\Anaconda3\\lib\\site-packages\\tensorflow\\python\\ops\\variables.py\", line 176, in _variable_v1_call\n    aggregation=aggregation)\n  File \"C:\\Users\\User\\Anaconda3\\lib\\site-packages\\tensorflow\\python\\ops\\variables.py\", line 155, in <lambda>\n    previous_getter = lambda **kwargs: default_variable_creator(None, **kwargs)\n  File \"C:\\Users\\User\\Anaconda3\\lib\\site-packages\\tensorflow\\python\\ops\\variable_scope.py\", line 2495, in default_variable_creator\n    expected_shape=expected_shape, import_scope=import_scope)\n  File \"C:\\Users\\User\\Anaconda3\\lib\\site-packages\\tensorflow\\python\\ops\\variables.py\", line 217, in __call__\n    return super(VariableMetaclass, cls).__call__(*args, **kwargs)\n  File \"C:\\Users\\User\\Anaconda3\\lib\\site-packages\\tensorflow\\python\\ops\\variables.py\", line 1395, in __init__\n    constraint=constraint)\n  File \"C:\\Users\\User\\Anaconda3\\lib\\site-packages\\tensorflow\\python\\ops\\variables.py\", line 1557, in _init_from_args\n    self._snapshot = array_ops.identity(self._variable, name=\"read\")\n  File \"C:\\Users\\User\\Anaconda3\\lib\\site-packages\\tensorflow\\python\\util\\dispatch.py\", line 180, in wrapper\n    return target(*args, **kwargs)\n  File \"C:\\Users\\User\\Anaconda3\\lib\\site-packages\\tensorflow\\python\\ops\\array_ops.py\", line 81, in identity\n    ret = gen_array_ops.identity(input, name=name)\n  File \"C:\\Users\\User\\Anaconda3\\lib\\site-packages\\tensorflow\\python\\ops\\gen_array_ops.py\", line 3889, in identity\n    \"Identity\", input=input, name=name)\n  File \"C:\\Users\\User\\Anaconda3\\lib\\site-packages\\tensorflow\\python\\framework\\op_def_library.py\", line 788, in _apply_op_helper\n    op_def=op_def)\n  File \"C:\\Users\\User\\Anaconda3\\lib\\site-packages\\tensorflow\\python\\util\\deprecation.py\", line 507, in new_func\n    return func(*args, **kwargs)\n  File \"C:\\Users\\User\\Anaconda3\\lib\\site-packages\\tensorflow\\python\\framework\\ops.py\", line 3300, in create_op\n    op_def=op_def)\n  File \"C:\\Users\\User\\Anaconda3\\lib\\site-packages\\tensorflow\\python\\framework\\ops.py\", line 1801, in __init__\n    self._traceback = tf_stack.extract_stack()\n\nFailedPreconditionError (see above for traceback): Attempting to use uninitialized value m2/dense_1/bias\n\t [[node m2/dense_1/bias/read (defined at <ipython-input-58-ad51d7a85b4c>:43) ]]\n"
     ]
    }
   ],
   "source": [
    "print('accuracy = ', m2.get_accuracy(X_test, y_test))"
   ]
  }
 ],
 "metadata": {
  "kernelspec": {
   "display_name": "Python 3",
   "language": "python",
   "name": "python3"
  },
  "language_info": {
   "codemirror_mode": {
    "name": "ipython",
    "version": 3
   },
   "file_extension": ".py",
   "mimetype": "text/x-python",
   "name": "python",
   "nbconvert_exporter": "python",
   "pygments_lexer": "ipython3",
   "version": "3.6.5"
  }
 },
 "nbformat": 4,
 "nbformat_minor": 2
}
