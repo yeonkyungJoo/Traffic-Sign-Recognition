{
 "cells": [
  {
   "cell_type": "markdown",
   "metadata": {},
   "source": [
    "## 표지판 예측 모델 학습"
   ]
  },
  {
   "cell_type": "code",
   "execution_count": 42,
   "metadata": {},
   "outputs": [],
   "source": [
    "# 파일 열고 URL주소 뒤에 [ ?kernel_name=py374 ] <- 붙여서 실행\n",
    "# from keras.preprocessing.image import ImageDataGenerator\n",
    "# from keras.models import Model\n",
    "# from keras.layers import Input, Activation, Dropout, Flatten, Dense, GlobalAveragePooling2D, Conv2D, Conv2DTranspose, LeakyReLU, UpSampling2D\n",
    "# from keras import optimizers\n",
    "# from keras.layers.normalization import BatchNormalization as BN\n",
    "# from keras.layers import Lambda, Reshape, Add, AveragePooling2D, MaxPooling2D, Concatenate, SeparableConv2D\n",
    "# from keras.models import Model\n",
    "# from keras.losses import mse, binary_crossentropy\n",
    "# from keras.utils import plot_model\n",
    "# from keras import backend as K\n",
    "# from keras.callbacks import ModelCheckpoint\n",
    "# from keras.regularizers import l2\n",
    "# from keras.preprocessing.image import array_to_img, img_to_array, load_img\n",
    "\n",
    "\n",
    "# import tensorflow as tf\n",
    "# import matplotlib.pyplot as plt\n",
    "# %matplotlib inline\n",
    "# import seaborn as sns\n",
    "# import numpy as np \n",
    "# import pandas as pd \n",
    "# import random\n",
    "# import os\n",
    "# import cv2\n",
    "# import time"
   ]
  },
  {
   "cell_type": "code",
   "execution_count": 1,
   "metadata": {
    "scrolled": true
   },
   "outputs": [],
   "source": [
    "# GPU 사용\n",
    "# import keras\n",
    "# config = tf.ConfigProto()\n",
    "# config.gpu_options.allow_growth = True\n",
    "# config.gpu_options.per_process_gpu_memory_fraction = 0.9\n",
    "# sess  = tf.Session(config=config) \n",
    "# keras.backend.set_session(sess)"
   ]
  },
  {
   "cell_type": "code",
   "execution_count": null,
   "metadata": {},
   "outputs": [],
   "source": []
  },
  {
   "cell_type": "markdown",
   "metadata": {},
   "source": [
    "## 데이터세트 생성"
   ]
  },
  {
   "cell_type": "code",
   "execution_count": 2,
   "metadata": {},
   "outputs": [],
   "source": [
    "from sklearn.preprocessing import LabelBinarizer\n",
    "from sklearn.model_selection import train_test_split\n",
    "from sklearn.metrics import classification_report\n",
    "import numpy as np # linear algebra\n",
    "import cv2\n",
    "import os"
   ]
  },
  {
   "cell_type": "code",
   "execution_count": 13,
   "metadata": {},
   "outputs": [
    {
     "name": "stdout",
     "output_type": "stream",
     "text": [
      "dir_url : ./data/train1/\n",
      "LABELS : ['100', '30', '40', '50', '60', 'Default', 'Height', 'NO_entry', 'NO_left', 'No_overrun', 'NO_parking_stop', 'NO_right', 'No_straight', 'NO_truck', 'No_twowheel', 'NO_U-turn', 'Other_Circle', 'Weight']\n",
      "[INFO] loading images...\n",
      "100\n",
      "30\n",
      "40\n",
      "50\n",
      "60\n",
      "Default\n",
      "Height\n",
      "NO_entry\n",
      "NO_left\n",
      "No_overrun\n",
      "NO_parking_stop\n",
      "NO_right\n",
      "No_straight\n",
      "NO_truck\n",
      "No_twowheel\n",
      "NO_U-turn\n",
      "Other_Circle\n",
      "Weight\n",
      "[INFO] End loading images...\n"
     ]
    }
   ],
   "source": [
    "dir_url = './data/train1/'\n",
    "print( 'dir_url : {}'.format(dir_url) )\n",
    "\n",
    "LABELS = os.listdir(dir_url)\n",
    "print( 'LABELS : {}'.format(LABELS) )\n",
    "\n",
    "data = []\n",
    "labels = []\n",
    "\n",
    "print(\"[INFO] loading images...\")\n",
    "\n",
    "for files_list in LABELS : \n",
    "    print(files_list)\n",
    "    file = os.listdir(dir_url+files_list)\n",
    "    for image in file:\n",
    "        imagepath = dir_url + files_list + '/' + image\n",
    "\n",
    "        img = cv2.imread(imagepath)\n",
    "        img = cv2.cvtColor(img, cv2.COLOR_BGR2RGB)\n",
    "        img = cv2.resize(img,(32,32) )\n",
    "        img = img / 255.0 \n",
    "        data.append(img)\n",
    "        \n",
    "        if files_list not in LABELS:\n",
    "            continue\n",
    "            \n",
    "        labels.append(files_list)\n",
    "\n",
    "# convert the data and labels to NumPy arrays\n",
    "print(\"[INFO] End loading images...\")\n",
    "data = np.array(data)\n",
    "labels = np.array(labels)\n",
    "\n",
    "\n",
    "\n",
    "# perform one-hot encoding on the labels\n",
    "lb = LabelBinarizer()\n",
    "labels = lb.fit_transform(labels)"
   ]
  },
  {
   "cell_type": "code",
   "execution_count": 14,
   "metadata": {},
   "outputs": [
    {
     "data": {
      "text/plain": [
       "(43029, 32, 32, 3)"
      ]
     },
     "execution_count": 14,
     "metadata": {},
     "output_type": "execute_result"
    }
   ],
   "source": [
    "# 데이터 셋 크기 확인\n",
    "data.shape"
   ]
  },
  {
   "cell_type": "code",
   "execution_count": 15,
   "metadata": {},
   "outputs": [
    {
     "data": {
      "text/plain": [
       "array(['100', '30', '40', '50', '60', 'Default', 'Height', 'NO_U-turn',\n",
       "       'NO_entry', 'NO_left', 'NO_parking_stop', 'NO_right', 'NO_truck',\n",
       "       'No_overrun', 'No_straight', 'No_twowheel', 'Other_Circle',\n",
       "       'Weight'], dtype='<U15')"
      ]
     },
     "execution_count": 15,
     "metadata": {},
     "output_type": "execute_result"
    }
   ],
   "source": [
    "# 레이블 확인\n",
    "lb.classes_"
   ]
  },
  {
   "cell_type": "code",
   "execution_count": 16,
   "metadata": {
    "scrolled": true
   },
   "outputs": [
    {
     "data": {
      "text/plain": [
       "18"
      ]
     },
     "execution_count": 16,
     "metadata": {},
     "output_type": "execute_result"
    }
   ],
   "source": [
    "# 레이블 길이 확인\n",
    "len(lb.classes_) "
   ]
  },
  {
   "cell_type": "code",
   "execution_count": 17,
   "metadata": {},
   "outputs": [
    {
     "data": {
      "text/plain": [
       "(43029, 18)"
      ]
     },
     "execution_count": 17,
     "metadata": {},
     "output_type": "execute_result"
    }
   ],
   "source": [
    "labels.shape"
   ]
  },
  {
   "cell_type": "code",
   "execution_count": 18,
   "metadata": {
    "scrolled": true
   },
   "outputs": [],
   "source": [
    "# 데이터 분리 - train / test 용\n",
    "(trainX, testX, trainY, testY) = train_test_split(data, labels, test_size=0.2, stratify=labels, random_state=42)"
   ]
  },
  {
   "cell_type": "code",
   "execution_count": 19,
   "metadata": {},
   "outputs": [
    {
     "data": {
      "text/plain": [
       "((34423, 32, 32, 3), (8606, 32, 32, 3), (34423, 18), (8606, 18))"
      ]
     },
     "execution_count": 19,
     "metadata": {},
     "output_type": "execute_result"
    }
   ],
   "source": [
    "trainX.shape, testX.shape, trainY.shape, testY.shape"
   ]
  },
  {
   "cell_type": "markdown",
   "metadata": {},
   "source": [
    "## 모델 생성"
   ]
  },
  {
   "cell_type": "code",
   "execution_count": 20,
   "metadata": {},
   "outputs": [],
   "source": [
    "from tensorflow.keras.models import Sequential\n",
    "from tensorflow.keras.layers import BatchNormalization\n",
    "from tensorflow.keras.layers import Conv2D\n",
    "from tensorflow.keras.layers import MaxPooling2D\n",
    "from tensorflow.keras.layers import Activation\n",
    "from tensorflow.keras.layers import Flatten\n",
    "from tensorflow.keras.layers import Dropout\n",
    "from tensorflow.keras.layers import Dense"
   ]
  },
  {
   "cell_type": "code",
   "execution_count": 21,
   "metadata": {},
   "outputs": [],
   "source": [
    "class TrafficSignNet:\n",
    "    def build(width, height, depth, classes):\n",
    "        \n",
    "        inputShape = (height, width, depth)\n",
    "        chanDim = -1\n",
    "        # CONV => RELU => BN => POOL\n",
    "        model = Sequential()\n",
    "        model.add(Conv2D(8, (5, 5), padding=\"same\", input_shape=inputShape))\n",
    "        model.add(Activation(\"relu\"))\n",
    "        model.add(BatchNormalization(axis=chanDim))\n",
    "        model.add(MaxPooling2D(pool_size=(2, 2)))\n",
    "        \n",
    "        # first set of (CONV => RELU => CONV => RELU) * 2 => POOL\n",
    "        model.add(Conv2D(16, (3, 3), padding=\"same\"))\n",
    "        model.add(Activation(\"relu\"))\n",
    "        model.add(BatchNormalization(axis=chanDim))\n",
    "        model.add(Conv2D(16, (3, 3), padding=\"same\"))\n",
    "        model.add(Activation(\"relu\"))\n",
    "        model.add(BatchNormalization(axis=chanDim))\n",
    "        model.add(MaxPooling2D(pool_size=(2, 2)))\n",
    "\n",
    "        # second set of (CONV => RELU => CONV => RELU) * 2 => POOL\n",
    "        model.add(Conv2D(32, (3, 3), padding=\"same\"))\n",
    "        model.add(Activation(\"relu\"))\n",
    "        model.add(BatchNormalization(axis=chanDim))\n",
    "        model.add(Conv2D(32, (3, 3), padding=\"same\"))\n",
    "        model.add(Activation(\"relu\"))\n",
    "        model.add(BatchNormalization(axis=chanDim))\n",
    "        model.add(MaxPooling2D(pool_size=(2, 2)))\n",
    "\n",
    "        # first set of FC => RELU layers\n",
    "        model.add(Flatten())\n",
    "        model.add(Dense(128))\n",
    "        model.add(Activation(\"relu\"))\n",
    "        model.add(BatchNormalization())\n",
    "        #model.add(Dropout(0.5))\n",
    "\n",
    "        # second set of FC => RELU layers\n",
    "        model.add(Flatten())\n",
    "        model.add(Dense(128))\n",
    "        model.add(Activation(\"relu\"))\n",
    "        model.add(BatchNormalization())\n",
    "        #model.add(Dropout(0.5))\n",
    "\n",
    "        # softmax classifier\n",
    "        model.add(Dense(classes))\n",
    "        model.add(Activation(\"softmax\"))\n",
    "\n",
    "        # return the constructed network architecture\n",
    "        return model"
   ]
  },
  {
   "cell_type": "code",
   "execution_count": 22,
   "metadata": {},
   "outputs": [],
   "source": [
    "from tensorflow.keras.preprocessing.image import ImageDataGenerator\n",
    "from tensorflow.keras.optimizers import Adam\n",
    "from tensorflow.keras.utils import to_categorical"
   ]
  },
  {
   "cell_type": "code",
   "execution_count": 23,
   "metadata": {},
   "outputs": [],
   "source": [
    "# account for skew in the labeled data\n",
    "classTotals = trainY.sum(axis=0)\n",
    "classWeight = classTotals.max() / classTotals"
   ]
  },
  {
   "cell_type": "code",
   "execution_count": 24,
   "metadata": {},
   "outputs": [
    {
     "data": {
      "text/plain": [
       "array([   24,  1376,    18, 16741,   924,   293,   996,  1703,   186,\n",
       "        3540,  3706,  1994,  1406,   110,    52,    35,  1317,     2])"
      ]
     },
     "execution_count": 24,
     "metadata": {},
     "output_type": "execute_result"
    }
   ],
   "source": [
    "classTotals"
   ]
  },
  {
   "cell_type": "code",
   "execution_count": 25,
   "metadata": {
    "scrolled": true
   },
   "outputs": [
    {
     "data": {
      "text/plain": [
       "array([6.97541667e+02, 1.21664244e+01, 9.30055556e+02, 1.00000000e+00,\n",
       "       1.81179654e+01, 5.71365188e+01, 1.68082329e+01, 9.83029947e+00,\n",
       "       9.00053763e+01, 4.72909605e+00, 4.51726929e+00, 8.39568706e+00,\n",
       "       1.19068279e+01, 1.52190909e+02, 3.21942308e+02, 4.78314286e+02,\n",
       "       1.27114655e+01, 8.37050000e+03])"
      ]
     },
     "execution_count": 25,
     "metadata": {},
     "output_type": "execute_result"
    }
   ],
   "source": [
    "classWeight"
   ]
  },
  {
   "cell_type": "code",
   "execution_count": 26,
   "metadata": {},
   "outputs": [],
   "source": [
    "NUM_EPOCHS = 30\n",
    "INIT_LR = 1e-3\n",
    "BS = 64"
   ]
  },
  {
   "cell_type": "code",
   "execution_count": 27,
   "metadata": {},
   "outputs": [],
   "source": [
    "# 이미지 어그멘테이션 ( 데이터 부풀리기 )\n",
    "aug = ImageDataGenerator(\n",
    "    rotation_range=10,\n",
    "    zoom_range=0.15,\n",
    "    width_shift_range=0.1,\n",
    "    height_shift_range=0.1,\n",
    "    shear_range=0.15,\n",
    "    horizontal_flip=False,\n",
    "    vertical_flip=False,\n",
    "    fill_mode=\"nearest\")"
   ]
  },
  {
   "cell_type": "code",
   "execution_count": null,
   "metadata": {},
   "outputs": [],
   "source": []
  },
  {
   "cell_type": "markdown",
   "metadata": {},
   "source": [
    "#### 모델 컴파일\n",
    "- [손실함수] \n",
    "-  클래스가 2개 이상이므로 categorical_crossentropy 를 사용\n",
    "\n",
    "- [최적화 함수]\n",
    "- 1. 아담 \n",
    "    -> opt = Adam(lr=1e-3, decay=1e-3 / Batch_size)\n",
    "- 2. SGD \n",
    "    -> opt = SGD(lr=1e-4, momentum=0.9, decay=1e-4 / args[\"epochs\"])\n",
    "- 3. rmsprop"
   ]
  },
  {
   "cell_type": "code",
   "execution_count": 28,
   "metadata": {},
   "outputs": [
    {
     "name": "stdout",
     "output_type": "stream",
     "text": [
      "[INFO] compiling model...\n"
     ]
    }
   ],
   "source": [
    "# initialize the optimizer and compile the model\n",
    "print(\"[INFO] compiling model...\")\n",
    "opt = Adam(lr=INIT_LR, decay=INIT_LR / (NUM_EPOCHS * 0.5))\n",
    "model = TrafficSignNet.build(width=32, height=32, depth=3, classes=len(lb.classes_))\n",
    "model.compile(loss=\"categorical_crossentropy\", optimizer=opt, metrics=[\"accuracy\"])"
   ]
  },
  {
   "cell_type": "code",
   "execution_count": 29,
   "metadata": {},
   "outputs": [
    {
     "name": "stdout",
     "output_type": "stream",
     "text": [
      "Model: \"sequential\"\n",
      "_________________________________________________________________\n",
      "Layer (type)                 Output Shape              Param #   \n",
      "=================================================================\n",
      "conv2d (Conv2D)              (None, 32, 32, 8)         608       \n",
      "_________________________________________________________________\n",
      "activation (Activation)      (None, 32, 32, 8)         0         \n",
      "_________________________________________________________________\n",
      "batch_normalization (BatchNo (None, 32, 32, 8)         32        \n",
      "_________________________________________________________________\n",
      "max_pooling2d (MaxPooling2D) (None, 16, 16, 8)         0         \n",
      "_________________________________________________________________\n",
      "conv2d_1 (Conv2D)            (None, 16, 16, 16)        1168      \n",
      "_________________________________________________________________\n",
      "activation_1 (Activation)    (None, 16, 16, 16)        0         \n",
      "_________________________________________________________________\n",
      "batch_normalization_1 (Batch (None, 16, 16, 16)        64        \n",
      "_________________________________________________________________\n",
      "conv2d_2 (Conv2D)            (None, 16, 16, 16)        2320      \n",
      "_________________________________________________________________\n",
      "activation_2 (Activation)    (None, 16, 16, 16)        0         \n",
      "_________________________________________________________________\n",
      "batch_normalization_2 (Batch (None, 16, 16, 16)        64        \n",
      "_________________________________________________________________\n",
      "max_pooling2d_1 (MaxPooling2 (None, 8, 8, 16)          0         \n",
      "_________________________________________________________________\n",
      "conv2d_3 (Conv2D)            (None, 8, 8, 32)          4640      \n",
      "_________________________________________________________________\n",
      "activation_3 (Activation)    (None, 8, 8, 32)          0         \n",
      "_________________________________________________________________\n",
      "batch_normalization_3 (Batch (None, 8, 8, 32)          128       \n",
      "_________________________________________________________________\n",
      "conv2d_4 (Conv2D)            (None, 8, 8, 32)          9248      \n",
      "_________________________________________________________________\n",
      "activation_4 (Activation)    (None, 8, 8, 32)          0         \n",
      "_________________________________________________________________\n",
      "batch_normalization_4 (Batch (None, 8, 8, 32)          128       \n",
      "_________________________________________________________________\n",
      "max_pooling2d_2 (MaxPooling2 (None, 4, 4, 32)          0         \n",
      "_________________________________________________________________\n",
      "flatten (Flatten)            (None, 512)               0         \n",
      "_________________________________________________________________\n",
      "dense (Dense)                (None, 128)               65664     \n",
      "_________________________________________________________________\n",
      "activation_5 (Activation)    (None, 128)               0         \n",
      "_________________________________________________________________\n",
      "batch_normalization_5 (Batch (None, 128)               512       \n",
      "_________________________________________________________________\n",
      "dropout (Dropout)            (None, 128)               0         \n",
      "_________________________________________________________________\n",
      "flatten_1 (Flatten)          (None, 128)               0         \n",
      "_________________________________________________________________\n",
      "dense_1 (Dense)              (None, 128)               16512     \n",
      "_________________________________________________________________\n",
      "activation_6 (Activation)    (None, 128)               0         \n",
      "_________________________________________________________________\n",
      "batch_normalization_6 (Batch (None, 128)               512       \n",
      "_________________________________________________________________\n",
      "dropout_1 (Dropout)          (None, 128)               0         \n",
      "_________________________________________________________________\n",
      "dense_2 (Dense)              (None, 18)                2322      \n",
      "_________________________________________________________________\n",
      "activation_7 (Activation)    (None, 18)                0         \n",
      "=================================================================\n",
      "Total params: 103,922\n",
      "Trainable params: 103,202\n",
      "Non-trainable params: 720\n",
      "_________________________________________________________________\n"
     ]
    }
   ],
   "source": [
    "# 모델 구성 확인\n",
    "model.summary()"
   ]
  },
  {
   "cell_type": "code",
   "execution_count": 33,
   "metadata": {},
   "outputs": [],
   "source": [
    "import time\n",
    "import tensorflow as tf"
   ]
  },
  {
   "cell_type": "code",
   "execution_count": 36,
   "metadata": {},
   "outputs": [
    {
     "name": "stdout",
     "output_type": "stream",
     "text": [
      "[INFO] training network...\n",
      "Epoch 1/30\n",
      "537/537 [==============================] - 126s 234ms/step - loss: 1.1306 - accuracy: 0.7044 - val_loss: 0.3730 - val_accuracy: 0.8941\n",
      "Epoch 2/30\n",
      "537/537 [==============================] - 114s 212ms/step - loss: 0.4281 - accuracy: 0.8777 - val_loss: 0.3349 - val_accuracy: 0.9067\n",
      "Epoch 3/30\n",
      "537/537 [==============================] - 110s 205ms/step - loss: 0.2937 - accuracy: 0.9160 - val_loss: 0.1772 - val_accuracy: 0.9502\n",
      "Epoch 4/30\n",
      "537/537 [==============================] - 113s 210ms/step - loss: 0.2335 - accuracy: 0.9324 - val_loss: 0.3476 - val_accuracy: 0.8905\n",
      "Epoch 5/30\n",
      "537/537 [==============================] - 125s 233ms/step - loss: 0.1866 - accuracy: 0.9477 - val_loss: 0.1362 - val_accuracy: 0.9612\n",
      "Epoch 6/30\n",
      "537/537 [==============================] - 118s 221ms/step - loss: 0.1577 - accuracy: 0.9568 - val_loss: 0.0870 - val_accuracy: 0.9749\n",
      "Epoch 7/30\n",
      "537/537 [==============================] - 115s 213ms/step - loss: 0.1332 - accuracy: 0.9631 - val_loss: 0.0782 - val_accuracy: 0.9784\n",
      "Epoch 8/30\n",
      "537/537 [==============================] - 111s 206ms/step - loss: 0.1199 - accuracy: 0.9685 - val_loss: 0.0846 - val_accuracy: 0.9761\n",
      "Epoch 9/30\n",
      "537/537 [==============================] - 114s 213ms/step - loss: 0.1117 - accuracy: 0.9708 - val_loss: 0.0879 - val_accuracy: 0.9733\n",
      "Epoch 10/30\n",
      "537/537 [==============================] - 120s 224ms/step - loss: 0.0983 - accuracy: 0.9737 - val_loss: 0.0590 - val_accuracy: 0.9822\n",
      "Epoch 11/30\n",
      "537/537 [==============================] - 113s 210ms/step - loss: 0.0957 - accuracy: 0.9745 - val_loss: 0.0595 - val_accuracy: 0.9820\n",
      "Epoch 12/30\n",
      "537/537 [==============================] - 110s 204ms/step - loss: 0.0870 - accuracy: 0.9770 - val_loss: 0.0525 - val_accuracy: 0.9844\n",
      "Epoch 13/30\n",
      "537/537 [==============================] - 110s 205ms/step - loss: 0.0851 - accuracy: 0.9767 - val_loss: 0.0534 - val_accuracy: 0.9835\n",
      "Epoch 14/30\n",
      "537/537 [==============================] - 108s 201ms/step - loss: 0.0725 - accuracy: 0.9801 - val_loss: 0.0574 - val_accuracy: 0.9818\n",
      "Epoch 15/30\n",
      "537/537 [==============================] - 126s 234ms/step - loss: 0.0706 - accuracy: 0.9805 - val_loss: 0.0365 - val_accuracy: 0.9873\n",
      "Epoch 16/30\n",
      "537/537 [==============================] - 137s 255ms/step - loss: 0.0641 - accuracy: 0.9826 - val_loss: 0.0476 - val_accuracy: 0.9847\n",
      "Epoch 17/30\n",
      "537/537 [==============================] - 133s 248ms/step - loss: 0.0644 - accuracy: 0.9815 - val_loss: 0.0303 - val_accuracy: 0.9893\n",
      "Epoch 18/30\n",
      "537/537 [==============================] - 119s 221ms/step - loss: 0.0595 - accuracy: 0.9827 - val_loss: 0.0326 - val_accuracy: 0.9884\n",
      "Epoch 19/30\n",
      "537/537 [==============================] - 114s 212ms/step - loss: 0.0749 - accuracy: 0.9788 - val_loss: 0.0306 - val_accuracy: 0.9894\n",
      "Epoch 20/30\n",
      "537/537 [==============================] - 110s 205ms/step - loss: 0.0568 - accuracy: 0.9838 - val_loss: 0.0322 - val_accuracy: 0.9893\n",
      "Epoch 21/30\n",
      "537/537 [==============================] - 104s 194ms/step - loss: 0.0509 - accuracy: 0.9857 - val_loss: 0.0422 - val_accuracy: 0.9858\n",
      "Epoch 22/30\n",
      "537/537 [==============================] - 109s 202ms/step - loss: 0.0514 - accuracy: 0.9851 - val_loss: 0.0259 - val_accuracy: 0.9917\n",
      "Epoch 23/30\n",
      "537/537 [==============================] - 114s 212ms/step - loss: 0.0489 - accuracy: 0.9867 - val_loss: 0.0547 - val_accuracy: 0.9851\n",
      "Epoch 24/30\n",
      "537/537 [==============================] - 104s 193ms/step - loss: 0.0474 - accuracy: 0.9856 - val_loss: 0.0237 - val_accuracy: 0.9920\n",
      "Epoch 25/30\n",
      "537/537 [==============================] - 105s 195ms/step - loss: 0.0476 - accuracy: 0.9867 - val_loss: 0.0371 - val_accuracy: 0.9898\n",
      "Epoch 26/30\n",
      "537/537 [==============================] - 110s 206ms/step - loss: 0.0440 - accuracy: 0.9874 - val_loss: 0.0196 - val_accuracy: 0.9954\n",
      "Epoch 27/30\n",
      "537/537 [==============================] - 113s 211ms/step - loss: 0.0476 - accuracy: 0.9857 - val_loss: 0.0326 - val_accuracy: 0.9897\n",
      "Epoch 28/30\n",
      "537/537 [==============================] - 110s 205ms/step - loss: 0.0376 - accuracy: 0.9896 - val_loss: 0.0551 - val_accuracy: 0.9856\n",
      "Epoch 29/30\n",
      "537/537 [==============================] - 118s 219ms/step - loss: 0.0389 - accuracy: 0.9891 - val_loss: 0.0291 - val_accuracy: 0.9906\n",
      "Epoch 30/30\n",
      "537/537 [==============================] - 109s 203ms/step - loss: 0.0337 - accuracy: 0.9904 - val_loss: 0.0273 - val_accuracy: 0.9921\n",
      "elapsed_time:3441.7986550331116[sec]\n"
     ]
    }
   ],
   "source": [
    "# train the network\n",
    "start = time.time()\n",
    "\n",
    "print(\"[INFO] training network...\")\n",
    "# GPU 로 돌리기 (with 포함시킬것)\n",
    "# with tf.device('/device:GPU:0'):\n",
    "H = model.fit_generator(\n",
    "    aug.flow(trainX, trainY, batch_size=BS),\n",
    "    validation_data=(testX, testY),\n",
    "    steps_per_epoch=trainX.shape[0] // BS,\n",
    "    epochs=NUM_EPOCHS,\n",
    "    class_weight=classWeight,\n",
    "    verbose=1)\n",
    "\n",
    "elapsed_time = time.time() - start\n",
    "print (\"elapsed_time:{}\".format(elapsed_time) + \"[sec]\")"
   ]
  },
  {
   "cell_type": "code",
   "execution_count": 39,
   "metadata": {},
   "outputs": [
    {
     "name": "stdout",
     "output_type": "stream",
     "text": [
      "[INFO] evaluating network...\n",
      "                 precision    recall  f1-score   support\n",
      "\n",
      "            100       1.00      1.00      1.00         6\n",
      "             30       0.99      1.00      1.00       344\n",
      "             40       1.00      1.00      1.00         4\n",
      "             50       0.99      1.00      0.99      4185\n",
      "             60       1.00      0.99      1.00       231\n",
      "        Default       0.89      0.99      0.94        73\n",
      "         Height       1.00      0.84      0.91       249\n",
      "      NO_U-turn       1.00      1.00      1.00       426\n",
      "       NO_entry       1.00      1.00      1.00        46\n",
      "        NO_left       1.00      1.00      1.00       885\n",
      "NO_parking_stop       1.00      1.00      1.00       926\n",
      "       NO_right       0.99      1.00      1.00       499\n",
      "       NO_truck       1.00      1.00      1.00       352\n",
      "     No_overrun       0.93      0.96      0.95        28\n",
      "    No_straight       1.00      0.85      0.92        13\n",
      "    No_twowheel       1.00      0.89      0.94         9\n",
      "   Other_Circle       0.99      0.95      0.97       329\n",
      "         Weight       0.00      0.00      0.00         1\n",
      "\n",
      "      micro avg       0.99      0.99      0.99      8606\n",
      "      macro avg       0.93      0.91      0.92      8606\n",
      "   weighted avg       0.99      0.99      0.99      8606\n",
      "\n"
     ]
    },
    {
     "name": "stderr",
     "output_type": "stream",
     "text": [
      "C:\\Users\\yun ju young\\Anaconda3\\lib\\site-packages\\sklearn\\metrics\\classification.py:1143: UndefinedMetricWarning: Precision and F-score are ill-defined and being set to 0.0 in labels with no predicted samples.\n",
      "  'precision', 'predicted', average, warn_for)\n"
     ]
    }
   ],
   "source": [
    "# 모델 평가\n",
    "print(\"[INFO] evaluating network...\")\n",
    "predictions = model.predict(testX, batch_size=BS)\n",
    "print(classification_report( testY.argmax(axis=1),\n",
    "                                       predictions.argmax(axis=1), \n",
    "                                       target_names=lb.classes_)  ) "
   ]
  },
  {
   "cell_type": "markdown",
   "metadata": {},
   "source": [
    "#### 모델 성능 시각화"
   ]
  },
  {
   "cell_type": "code",
   "execution_count": 40,
   "metadata": {},
   "outputs": [],
   "source": [
    "import matplotlib.pyplot as plt\n",
    "%matplotlib inline"
   ]
  },
  {
   "cell_type": "code",
   "execution_count": 41,
   "metadata": {},
   "outputs": [
    {
     "data": {
      "image/png": "[encoded data removed]",
      "text/plain": [
       "<Figure size 432x288 with 1 Axes>"
      ]
     },
     "metadata": {},
     "output_type": "display_data"
    }
   ],
   "source": [
    "# plot the training loss and accuracy\n",
    "N = np.arange(0, NUM_EPOCHS)\n",
    "plt.style.use(\"ggplot\")\n",
    "plt.figure()\n",
    "plt.plot(N, H.history[\"loss\"], label=\"train_loss\")\n",
    "plt.plot(N, H.history[\"val_loss\"], label=\"val_loss\")\n",
    "plt.plot(N, H.history[\"accuracy\"], label=\"train_acc\")\n",
    "plt.plot(N, H.history[\"val_accuracy\"], label=\"val_acc\")\n",
    "plt.title(\"Training Loss and Accuracy on Dataset\")\n",
    "plt.xlabel(\"Epoch #\")\n",
    "plt.ylabel(\"Loss/Accuracy\")\n",
    "plt.legend(loc=\"lower left\")\n",
    "model_figure_path = './output/model_figure.png'\n",
    "plt.savefig(model_figure_path, dpi=200)"
   ]
  },
  {
   "cell_type": "code",
   "execution_count": null,
   "metadata": {},
   "outputs": [],
   "source": []
  },
  {
   "cell_type": "markdown",
   "metadata": {},
   "source": [
    "#### 모델 & 레이블 저장"
   ]
  },
  {
   "cell_type": "code",
   "execution_count": 44,
   "metadata": {},
   "outputs": [],
   "source": [
    "# 모델 가중치 파일 저장\n",
    "h5_path = './model/last_tflite.h5'"
   ]
  },
  {
   "cell_type": "code",
   "execution_count": 45,
   "metadata": {},
   "outputs": [],
   "source": [
    "model.save(h5_path)"
   ]
  },
  {
   "cell_type": "code",
   "execution_count": null,
   "metadata": {},
   "outputs": [],
   "source": [
    "# 안드로이드에 적합한 tflite 모델로 변환 후 저장"
   ]
  },
  {
   "cell_type": "code",
   "execution_count": 58,
   "metadata": {
    "scrolled": true
   },
   "outputs": [],
   "source": [
    "converter = tf.lite.TFLiteConverter.from_keras_model_file(h5_path)\n",
    "flat_data = converter.convert()"
   ]
  },
  {
   "cell_type": "code",
   "execution_count": 99,
   "metadata": {},
   "outputs": [],
   "source": [
    "with open('./model/tflite/first_tflite.tflite','wb') as f:\n",
    "    f.write(flat_data)"
   ]
  },
  {
   "cell_type": "code",
   "execution_count": 42,
   "metadata": {},
   "outputs": [],
   "source": [
    "# 레이블 파일 저장\n",
    "import pickle"
   ]
  },
  {
   "cell_type": "code",
   "execution_count": 43,
   "metadata": {},
   "outputs": [],
   "source": [
    "# serialize the label binarizer to disk\n",
    "label_file_path ='./model/lb.pickle'\n",
    "f = open(label_file_path, \"wb\")\n",
    "f.write(pickle.dumps(lb))\n",
    "f.close()"
   ]
  },
  {
   "cell_type": "code",
   "execution_count": null,
   "metadata": {},
   "outputs": [],
   "source": []
  },
  {
   "cell_type": "code",
   "execution_count": null,
   "metadata": {},
   "outputs": [],
   "source": []
  },
  {
   "cell_type": "markdown",
   "metadata": {},
   "source": [
    "## 학습된 모델을 사용하여 ROI영역 레이블 예측 및 그리기"
   ]
  },
  {
   "cell_type": "code",
   "execution_count": 46,
   "metadata": {},
   "outputs": [
    {
     "name": "stderr",
     "output_type": "stream",
     "text": [
      "Using TensorFlow backend.\n"
     ]
    }
   ],
   "source": [
    "# import the necessary packages\n",
    "from keras.models import load_model\n",
    "from collections import deque\n",
    "import numpy as np\n",
    "import argparse\n",
    "import pickle\n",
    "import cv2"
   ]
  },
  {
   "cell_type": "code",
   "execution_count": 51,
   "metadata": {},
   "outputs": [],
   "source": [
    "# 표지판 검출 함수화\n",
    "def captureVideo(video_path) :\n",
    "    ############################################################################################################\n",
    "        # 마지막 코드 #\n",
    "    ############################################################################################################\n",
    "    # 영상 경로 설정\n",
    "    cap = cv2.VideoCapture(video_path)\n",
    "\n",
    "    # 영상 이름\n",
    "    video_file = video_path.split('/')[-1]\n",
    "    video_name = video_file.split('.')[0]\n",
    "\n",
    "\n",
    "    # 필터 커널 세팅\n",
    "    kernel = np.ones((2, 2), np.uint8)\n",
    "    kernel2 = np.ones((4, 4), np.uint8)\n",
    "\n",
    "    cnt = 0\n",
    "    \n",
    "    writer = None\n",
    "    (W, H) = (None, None)\n",
    "    \n",
    "    # 영상 프레임 수 설정\n",
    "    #frame_move = int(cap.get(cv2.CAP_PROP_FRAME_COUNT) *1/2)\n",
    "    #cap.set(cv2.CAP_PROP_POS_FRAMES, frame_move)\n",
    "    \n",
    "    ###################################################################################################################\n",
    "    while cap.isOpened() :\n",
    "\n",
    "        # 영상 읽기\n",
    "        ret, img = cap.read()\n",
    "\n",
    "        # 마지막 프레임 확인\n",
    "        if ret is False:\n",
    "            break\n",
    "            \n",
    "        if W is None or H is None:\n",
    "            (H, W) = img.shape[:2]\n",
    "\n",
    "        # 이미지 크기 변경\n",
    "        img = cv2.resize(img, (img.shape[1] //2, img.shape[0]//2),  interpolation=cv2.INTER_AREA)\n",
    "\n",
    "        # ROI 영역 추출\n",
    "        # 표지판 ROI\n",
    "        new_img = np.zeros(img.shape, img.dtype)\n",
    "        new_img[0 : img.shape[0]*14//20, : ] = img[0 : img.shape[0]*14//20 ,  : ]\n",
    " \n",
    "\n",
    "    ###########################################################################    \n",
    "        # 1. 색 공간 변환 ( BGR -> YUV)\n",
    "        yuv = cv2.cvtColor(new_img, cv2.COLOR_BGR2YUV)\n",
    "        yuv[yuv[:, :, 2]<135] = 0\n",
    "        yuv[yuv[:, :, 1]<110] = 0\n",
    "        yuv[yuv[:, :, 0]>225] = 0\n",
    "        img2 = yuv[ : , : , 2]\n",
    "\n",
    "        # 스레드숄드 / 침식 / 팽창 적용 \n",
    "        thr, yuv_red = cv2.threshold(img2, 140, 255, cv2.THRESH_BINARY)\n",
    "        erosion_mask = cv2.erode(yuv_red, kernel, iterations=1)\n",
    "        dilation_mask = cv2.dilate(erosion_mask, kernel2, iterations=1) \n",
    "    ###########################################################################\n",
    "        # 2. 캐니 엣지 \n",
    "        edges = cv2.Canny(new_img, 100,200)\n",
    "\n",
    "        # 침식 /팽창 적용\n",
    "        dilation_mask2 = cv2.dilate(edges, kernel, iterations=1) \n",
    "        erosion_mask2 = cv2.erode(dilation_mask2, kernel, iterations=1)\n",
    "\n",
    "    ###########################################################################\n",
    "        #색 검출 & 엣지 검출 이미지 bitwise_and 연산\n",
    "        res_red2 = cv2.bitwise_and(dilation_mask, dilation_mask, mask =erosion_mask2)\n",
    "\n",
    "    ###########################################################################\n",
    "        ## 3. 근사 컨투어 / 허프 원 추출 \n",
    "        # RETR_EXTERNAL(가장 외각) / RETR_TREE(계층구조) / RETR_LIST / RETR_CCOMP\n",
    "        contours, hierarchy = cv2.findContours(res_red2, cv2.RETR_EXTERNAL, cv2.CHAIN_APPROX_SIMPLE)\n",
    "\n",
    "        mask_internal1 = np.zeros(res_red2.shape, res_red2.dtype)\n",
    "        mask_internal2 = np.zeros(res_red2.shape, res_red2.dtype)\n",
    "\n",
    "        for contour in contours:\n",
    "            #  근사 컨투어 ( 원은 기존 컨투어가 좋고, 삼각형은 근사 컨투어가 유리 )\n",
    "            # epsilon : 근사값 정확도, 오차범위 = 0.005\n",
    "            epsilon = 0.005 * cv2.arcLength(contour, True)\n",
    "            # contour : 대상 컨투어 좌표\n",
    "            approx = cv2.approxPolyDP(contour, epsilon, closed=True)\n",
    "\n",
    "            # 근사 컨투어 그리기            \n",
    "            cv2.drawContours(mask_internal1, [approx], -1, 255, 2)\n",
    "            # 일반 컨투어 \n",
    "            #cv2.drawContours(mask_internal2, contour, -1 , 255, 2)\n",
    "\n",
    "        # 현재는 근사 컨투어 사용\n",
    "        _, _, stats_i, centroids_i = cv2.connectedComponentsWithStats(mask_internal1)\n",
    "\n",
    "        ########################################################################\n",
    "        for idx, centroid_i in enumerate(centroids_i) :\n",
    "            if stats_i[idx][0] == 0 and stats_i[idx][1] == 0 :\n",
    "                continue\n",
    "            if np.any(np.isnan(centroid_i)) :\n",
    "                continue       \n",
    "\n",
    "            x, y, w, h, area = stats_i[idx]\n",
    "            centerX, centerY = int(centroid_i[0]), int(centroid_i[1])\n",
    "      \n",
    "            if area < 1700  and area > 100 and abs(w-h) < 5 :\n",
    "                try : \n",
    "                    detected_img = img[y-5 : y+h+5,  x-5 : x+w+5]\n",
    "                    gray_detected_img = cv2.cvtColor(detected_img, cv2.COLOR_BGR2GRAY)\n",
    "                    # 허프 원 추출\n",
    "                    circles = cv2.HoughCircles(gray_detected_img,\n",
    "                                                           cv2.HOUGH_GRADIENT,\n",
    "                                                           1, 100, \n",
    "                                                           param1=200, param2=40, \n",
    "                                                           minRadius=3, maxRadius=38)\n",
    "                    \n",
    "                    if circles is not None :\n",
    "                        circles = np.uint16(np.around(circles))\n",
    "                        \n",
    "                        for i in circles[0, :] :                      \n",
    "                            frame = img[y-5 : y+h+5,  x-5 : x+w+5]\n",
    "                            \n",
    "                            # bgr -> rgb 로 배열순서 변경\n",
    "                            frame = cv2.cvtColor(frame, cv2.COLOR_BGR2RGB)\n",
    "                            \n",
    "                            # 리사이즈 : 64 * 64\n",
    "                            frame = cv2.resize(frame, (32, 32) )\n",
    "                            \n",
    "                            ###############################################\n",
    "                            # 예측\n",
    "                            preds = model.predict(np.expand_dims(frame, axis=0))[0]\n",
    "                            #  레이블 확인\n",
    "                            label = lb.classes_[np.argmax(preds)]\n",
    "                            text = \"{}\".format(label)\n",
    "                            #print(text)\n",
    "                            ###############################################\n",
    "                            # 데이터 추출\n",
    "                            #sign_img_name = './save_data/{}_{}_{}.jpg'.format( video_name, label, cnt )\n",
    "                            #cv2.imwrite(sign_img_name,  img[y-5 : y+h+5,  x-5 : x+w+5])\n",
    "                            #cnt += 1\n",
    "                            \n",
    "                            # 예측 후 최종 인식 -> 레이블/네모 그리기 \n",
    "                            if text == \"Other_Circle\" :\n",
    "                                continue\n",
    "                            elif text == \"Default\":\n",
    "                                continue\n",
    "                            else:\n",
    "                                cv2.putText( img, text, ( x ,  y+100 ), cv2.FONT_HERSHEY_SIMPLEX, 1.0, ( 0, 255, 0 ), 5)\n",
    "                                cv2.rectangle(img, (x-5, y-5), (x+w+5, y+h+5), (0, 255, 0), 2)\n",
    "                                \n",
    "                except :\n",
    "                    continue\n",
    "\n",
    "                    \n",
    "#         # 비디오 초기화\n",
    "#         if writer is None:\n",
    "#             fourcc = cv2.VideoWriter_fourcc(*\"MJPG\")\n",
    "#             writer = cv2.VideoWriter('./result_video/opencv_video.avi', fourcc, 30, (W, H), True)\n",
    "\n",
    "#         # 영상 write\n",
    "#         writer.write(img)            \n",
    "                    \n",
    "        cv2.imshow(video_file, img)\n",
    "\n",
    "        # 키 press 정지\n",
    "        if cv2.waitKey(1) == 27 :\n",
    "            cap.release()\n",
    "            cv2.destroyAllWindows()\n",
    "\n",
    "    cap.release() \n",
    "    cv2.destroyAllWindows()"
   ]
  },
  {
   "cell_type": "code",
   "execution_count": 52,
   "metadata": {},
   "outputs": [],
   "source": [
    "import glob\n",
    "# 함수 호출\n",
    "for file in glob.glob('./video1.mp4') :\n",
    "    captureVideo(file)"
   ]
  },
  {
   "cell_type": "code",
   "execution_count": null,
   "metadata": {},
   "outputs": [],
   "source": []
  }
 ],
 "metadata": {
  "kernelspec": {
   "display_name": "Python 3",
   "language": "python",
   "name": "python3"
  },
  "language_info": {
   "codemirror_mode": {
    "name": "ipython",
    "version": 3
   },
   "file_extension": ".py",
   "mimetype": "text/x-python",
   "name": "python",
   "nbconvert_exporter": "python",
   "pygments_lexer": "ipython3",
   "version": "3.7.4"
  }
 },
 "nbformat": 4,
 "nbformat_minor": 2
}
