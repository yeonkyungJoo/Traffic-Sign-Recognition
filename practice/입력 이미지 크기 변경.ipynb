{
 "cells": [
  {
   "cell_type": "code",
   "execution_count": null,
   "metadata": {},
   "outputs": [],
   "source": [
    "# ImgIn shape = (?, 64, 64, 1)\n",
    "\n",
    "def build_model(X) :\n",
    "    \n",
    "    # Layer1 / ImgIn shape = (?, 64, 64, 1)\n",
    "    # kernel_size = [3, 3], filters = 32\n",
    "    W1 = tf.Variable(tf.random_normal([3, 3, 1, 32], stddev = 0.01))\n",
    "    L1 = tf.nn.conv2d(X, W1, strides = [1, 1, 1, 1], padding = 'SAME')\n",
    "    #    Conv     -> (?, 64, 64, 32)\n",
    "    L1 = tf.nn.relu(L1)\n",
    "    L1 = tf.nn.max_pool(L1, ksize = [1, 2, 2, 1], strides = [1, 2, 2, 1], padding = 'SAME')\n",
    "    #    Pool     -> (?, 32, 32, 32)\n",
    "    L1 = tf.nn.dropout(L1, keep_prob = keep_prob)\n",
    "    \n",
    "    # Layer2 / ImgIn shape = (?, 32, 32, 32)\n",
    "    # kernel_size = [3, 3], filters = 64 \n",
    "    W2 = tf.Variable(tf.random_normal([3, 3, 32, 64], stddev = 0.01))\n",
    "    L2 = tf.nn.conv2d(L1, W2, strides = [1, 1, 1, 1], padding = 'SAME')\n",
    "    #    Conv     -> (?, 32, 32, 64)\n",
    "    L2 = tf.nn.relu(L2)\n",
    "    L2 = tf.nn.max_pool(L2, ksize = [1, 2, 2, 1], strides = [1, 2, 2, 1], padding = 'SAME')\n",
    "    #    Pool     -> (?, 16, 16, 64)\n",
    "    L2 = tf.nn.dropout(L2, keep_prob = keep_prob)\n",
    "    \n",
    "    # Layer3 / ImgIn shape = (?, 16, 16, 64)\n",
    "    W3 = tf.Variable(tf.random_normal([3, 3, 64, 128], stddev = 0.01))\n",
    "    L3 = tf.nn.conv2d(L2, W3, strides = [1, 1, 1, 1], padding = 'SAME')\n",
    "    #    Conv     -> (?, 16, 16, 128)\n",
    "    L3 = tf.nn.relu(L3)\n",
    "    L3 = tf.nn.max_pool(L3, ksize = [1, 2, 2, 1], strides = [1, 2, 2, 1], padding = 'SAME')\n",
    "    #    Pool     -> (?, 8, 8, 128)\n",
    "    L3 = tf.nn.dropout(L3, keep_prob = keep_prob)\n",
    "    L3_flat = tf.reshape(L3, [-1, 128 * 8 * 8])\n",
    "    \n",
    "    # Layer4 / FC 8x8x128 inputs -> 625 outputs\n",
    "    W4 = tf.get_variable(\"W4\", shape = [128 * 8 * 8, 625], initializer=tf.contrib.layers.xavier_initializer())\n",
    "    b4 = tf.Variable(tf.random_normal([625]))\n",
    "    L4 = tf.nn.relu(tf.matmul(L3_flat, W4) + b4)\n",
    "    L4 = tf.nn.dropout(L4, keep_prob = keep_prob)\n",
    "    \n",
    "    # Layer5 / Final FC 625 inputs -> (N_CLASSES) outputs\n",
    "    W5 = tf.get_variable(\"W5\", shape = [625, N_CLASSES], initializer=tf.contrib.layers.xavier_initializer())\n",
    "    b5 = tf.Variable(tf.random_normal([N_CLASSES]))\n",
    "    logits = tf.matmul(L4, W5) + b5\n",
    "    y_pred = tf.nn.softmax(logits)\n",
    "    \n",
    "    return y_pred, logits"
   ]
  }
 ],
 "metadata": {
  "kernelspec": {
   "display_name": "Python 3",
   "language": "python",
   "name": "python3"
  },
  "language_info": {
   "codemirror_mode": {
    "name": "ipython",
    "version": 3
   },
   "file_extension": ".py",
   "mimetype": "text/x-python",
   "name": "python",
   "nbconvert_exporter": "python",
   "pygments_lexer": "ipython3",
   "version": "3.6.5"
  }
 },
 "nbformat": 4,
 "nbformat_minor": 2
}
