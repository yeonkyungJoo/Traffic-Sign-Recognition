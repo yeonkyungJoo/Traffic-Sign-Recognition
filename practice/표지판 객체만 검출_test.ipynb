{
 "cells": [
  {
   "cell_type": "code",
   "execution_count": null,
   "metadata": {},
   "outputs": [],
   "source": []
  },
  {
   "cell_type": "code",
   "execution_count": null,
   "metadata": {},
   "outputs": [],
   "source": []
  },
  {
   "cell_type": "code",
   "execution_count": 30,
   "metadata": {},
   "outputs": [],
   "source": [
    "import cv2\n",
    "import numpy as np\n",
    "import matplotlib.pyplot as plt"
   ]
  },
  {
   "cell_type": "code",
   "execution_count": null,
   "metadata": {},
   "outputs": [],
   "source": [
    "# 필터 커널 세팅\n",
    "kernel = np.ones((3, 3), np.uint8)\n",
    "kernel2 = np.ones((5, 5), np.uint8)\n",
    "\n",
    "# 필터 \n",
    "red1 = np.array([0, 30, 0]) # 밝은 빨강(주황계열)\n",
    "red2 = np.array([5, 250, 240])\n",
    "\n",
    "red3 = np.array([155, 50, 0]) # 어두운 빨강(갈색계열)\n",
    "red4 = np.array([180, 250, 240])"
   ]
  },
  {
   "cell_type": "code",
   "execution_count": 46,
   "metadata": {},
   "outputs": [],
   "source": [
    "img = cv2.imread('./sample6_68.jpg', 0)\n",
    "\n",
    "img = cv2.resize(img, (img.shape[1]//2, img.shape[0]//2))\n",
    "# img1 = img.copy()\n",
    "cv2.imshow('img', img)\n",
    "\n",
    "contours, hierarchy = cv2.findContours(img, cv2.RETR_CCOMP, cv2.CHAIN_APPROX_SIMPLE)\n",
    "\n",
    "img_external = np.zeros(img.shape, img.dtype)\n",
    "for i in range(len(contours)) :\n",
    "    if hierarchy[0][i][3] == -1 :\n",
    "        cv2.drawContours(img_external, contours, i, 255, -1)\n",
    "\n",
    "img_internal = np.zeros(img.shape, img.dtype)\n",
    "for i in range(len(contours)) :\n",
    "    if hierarchy[0][i][3] != -1 :\n",
    "        cv2.drawContours(img_internal, contours, i, 255, -1)\n",
    "        \n",
    "cv2.imshow('img_external', img_external)\n",
    "cv2.imshow('img_internal', img_internal)\n",
    "cv2.waitKey()\n",
    "cv2.destroyAllWindows()        "
   ]
  },
  {
   "cell_type": "code",
   "execution_count": 42,
   "metadata": {},
   "outputs": [],
   "source": [
    "# 필터 커널 세팅\n",
    "kernel = np.ones((3, 3), np.uint8)\n",
    "kernel2 = np.ones((5, 5), np.uint8)\n",
    "\n",
    "# 필터 \n",
    "red1 = np.array([0, 30, 0]) # 밝은 빨강(주황계열)\n",
    "red2 = np.array([5, 250, 240])\n",
    "\n",
    "red3 = np.array([155, 50, 0]) # 어두운 빨강(갈색계열)\n",
    "red4 = np.array([180, 250, 240])\n",
    "\n",
    "\n",
    "img = cv2.imread('./sample6_68.jpg')\n",
    "img = cv2.resize(img, (img.shape[1]//2, img.shape[0]//2))\n",
    "# img = cv2.GaussianBlur( img, (3,3), 0 )\n",
    "img1 = img.copy()\n",
    "\n",
    "blur = cv2.GaussianBlur( img, (3,3), 0 )    \n",
    "# HSV 영상으로 변환  \n",
    "hsv = cv2.cvtColor( blur, cv2.COLOR_BGR2HSV ) \n",
    "\n",
    "# 색상에 따른 마스크 생성\n",
    "mask_red1 = cv2.inRange(hsv, red1, red2)\n",
    "mask_red2 = cv2.inRange(hsv, red3, red4)\n",
    "\n",
    "# 마스크 결합\n",
    "mask_red = mask_red1 + mask_red2\n",
    "\n",
    "# 비트 and 연산\n",
    "res_red2 = cv2.bitwise_and(img, img, mask = mask_red)\n",
    "\n",
    "# 침식 (노이즈제거) -> 팽창(픽셀 살리기) \n",
    "erosion_image = cv2.erode(mask_red, kernel, iterations=1)  \n",
    "dilation_image = cv2.dilate(erosion_image, kernel, iterations=1) \n",
    "img = dilation_image\n",
    "# cv2.imshow('erosion_image', erosion_image)\n",
    "# cv2.imshow('dilation_image', dilation_image)\n",
    "contours, hierarchy = cv2.findContours(img, cv2.RETR_CCOMP, cv2.CHAIN_APPROX_NONE)\n",
    "# print(contours)\n",
    "# print(hierarchy)\n",
    "\n",
    "img_external = np.zeros(img.shape, img.dtype)\n",
    "for i in range(len(contours)) :\n",
    "    if hierarchy[0][i][3] == -1 :\n",
    "        cv2.drawContours(img_external, contours, i, 255, -1)\n",
    "erosion_img_external = cv2.erode(img_external, kernel, iterations=1)  \n",
    "dilation_img_external = cv2.dilate(erosion_img_external, kernel2, iterations=1) \n",
    "e = cv2.moments(dilation_img_external)\n",
    "# print(e['m10'] / e['m00'])\n",
    "# print(e['m01'] / e['m00'])        \n",
    "# cv2.circle(img_external, ( int(e['m10'] / e['m00']), int(e['m01'] / e['m00']) ), 2, (0, 255, 0), 2)\n",
    "\n",
    "##########################################################################################\n",
    "img_internal = np.zeros(img.shape, img.dtype)\n",
    "cv2.imshow('img_internal1', img_internal)\n",
    "for i in range(len(contours)) :\n",
    "    if hierarchy[0][i][3] != -1 :\n",
    "        cv2.drawContours(img_internal, contours, i, 255, -1)\n",
    "cv2.imshow('img_internal2', img_internal)\n",
    "\n",
    "erosion_img_internal = cv2.erode(img_internal, kernel, iterations=1)\n",
    "cv2.imshow('erosion_img_internal', erosion_img_internal)\n",
    "\n",
    "\n",
    "dilation_img_internal = cv2.dilate(erosion_img_internal, kernel2, iterations=1) \n",
    "cv2.imshow('dilation_img_internal', dilation_img_internal)\n",
    "\n",
    "i = cv2.moments(dilation_img_internal)        \n",
    "# print(i['m10'] / i['m00'])\n",
    "# print(i['m01'] / i['m00'])    \n",
    "cv2.circle(img_internal, ( int(i['m10'] / i['m00']), int(i['m01'] / i['m00']) ), 2, (0, 255, 0), 2)\n",
    "\n",
    "\n",
    "########################################  객체 분리  ######################################\n",
    "numOfLabels, img_label, stats, centroids = cv2.connectedComponentsWithStats(dilation_img_internal)\n",
    "\n",
    "for idx, centroid in enumerate(centroids) :\n",
    "#     if stats[idx][0] == 0 and stats[idx][1] == 0 :\n",
    "#         continue\n",
    "#     if np.any(np.isnan(centroid)) :\n",
    "#         continue\n",
    "\n",
    "    x, y, w, h, area = stats[idx]\n",
    "    centerX, centerY = int(centroid[0]), int(centroid[1])\n",
    "    # cv2.rectangle(img1, (x-5, y-5), (x+w+5, y+h+5), (255, 0, 0), 1)\n",
    "    # cv2.circle(img1, ( centerX, centerY ), 2, (0, 255, 0), 2)\n",
    "    if y < 500 and area < 4500 and area > 80 and abs(w-h) < 5 : # if area > 120 and abs(w-h) < 5 : # abs : 정사각형에 가까운 네모\n",
    "        print(x, y, w, h, area)\n",
    "        cv2.rectangle(img1, (x-5, y-5), (x+w+5, y+h+5), (255, 0, 0), 1)\n",
    "\n",
    "        cv2.circle(img1, ( centerX, centerY ), 2, (0, 255, 0), 2)\n",
    "        # 원 검출 영역\n",
    "        detected_img = img[y : y+h,  x : x+w]\n",
    "        # cv2.imshow('detected_img', detected_img)\n",
    "\n",
    "        # gray_detected_img = cv2.cvtColor(detected_img, cv2.COLOR_BGR2GRAY)                 \n",
    "        # 원 검출\n",
    "        circles = cv2.HoughCircles(detected_img,\n",
    "                                   cv2.HOUGH_GRADIENT,\n",
    "                                   1, \n",
    "                                   100,\n",
    "                                   param1=200,\n",
    "                                   param2=30, \n",
    "                                   minRadius=5, \n",
    "                                   maxRadius=40)\n",
    "        print(circles)\n",
    "\n",
    "        if circles is not None :\n",
    "            circles = np.uint16(np.around(circles))\n",
    "\n",
    "            for i in circles[0, :] :\n",
    "                cv2.circle(img1, ( centerX, centerY ), 2, (0, 255, 0), 2)\n",
    "                cv2.rectangle(img1, (x-5, y-5), (x+w+5, y+h+5), (0, 255, 0), 1)\n",
    "\n",
    "# cv2.circle(img1, ( int(e['m10'] / e['m00']), int(e['m01'] / e['m00']) ), 2, (0, 255, 0), 2)\n",
    "# cv2.imshow('img', img)\n",
    "cv2.imshow('img1', img1)\n",
    "cv2.imshow('img_external', img_external)\n",
    "# cv2.imshow('img_internal', img_internal)\n",
    "cv2.waitKey()\n",
    "cv2.destroyAllWindows()"
   ]
  },
  {
   "cell_type": "code",
   "execution_count": null,
   "metadata": {},
   "outputs": [],
   "source": []
  },
  {
   "cell_type": "markdown",
   "metadata": {},
   "source": [
    "### 이미지 모멘트 계산"
   ]
  },
  {
   "cell_type": "code",
   "execution_count": null,
   "metadata": {},
   "outputs": [],
   "source": [
    "# 이진 및 그레이스케일 이미지에서 모멘트를 계산하는 방법"
   ]
  },
  {
   "cell_type": "code",
   "execution_count": 33,
   "metadata": {},
   "outputs": [],
   "source": [
    "import cv2\n",
    "import numpy as np\n",
    "import matplotlib.pyplot as plt"
   ]
  },
  {
   "cell_type": "code",
   "execution_count": 34,
   "metadata": {},
   "outputs": [],
   "source": [
    "image = np.zeros((480, 640), np.uint8)\n",
    "cv2.ellipse(image, (320, 240), (200, 100), 0, 0, 360, 255, -1)\n",
    "\n",
    "cv2.imshow('image', image)\n",
    "cv2.waitKey()\n",
    "cv2.destroyAllWindows()"
   ]
  },
  {
   "cell_type": "code",
   "execution_count": 35,
   "metadata": {},
   "outputs": [
    {
     "name": "stdout",
     "output_type": "stream",
     "text": [
      "m00 /t 16119315.0\n",
      "m10 /t 5158101240.0\n",
      "m01 /t 3868620810.0\n",
      "m20 /t 1812142855350.0\n",
      "m11 /t 1237939564800.0\n",
      "m02 /t 969157708320.0\n",
      "m30 /t 683285449618080.0\n",
      "m21 /t 434912202354750.0\n",
      "m12 /t 310125260718570.0\n",
      "m03 /t 252129278267070.0\n",
      "mu20 /t 161575917357.3161\n",
      "mu11 /t -72.99898365715876\n",
      "mu02 /t 40692263506.429634\n",
      "mu30 /t 1687957749.1273296\n",
      "mu21 /t -420182048.74010897\n",
      "mu12 /t -422443285.191627\n",
      "mu03 /t 105694127.70601428\n",
      "nu20 /t 0.0006218468887998856\n",
      "nu11 /t -2.809465148965929e-13\n",
      "nu02 /t 0.00015660970937729057\n",
      "nu30 /t 1.6180618413372907e-09\n",
      "nu21 /t -4.027829131581005e-10\n",
      "nu12 /t -4.049505150535472e-10\n",
      "nu03 /t 1.0131748557269813e-10\n"
     ]
    }
   ],
   "source": [
    "m = cv2.moments(image)\n",
    "for name, val in m.items() :\n",
    "    print(name, '/t', val)"
   ]
  },
  {
   "cell_type": "code",
   "execution_count": 37,
   "metadata": {},
   "outputs": [
    {
     "name": "stdout",
     "output_type": "stream",
     "text": [
      "319.9950643063927\n",
      "239.999082467214\n"
     ]
    }
   ],
   "source": [
    "print(m['m10'] / m['m00'])\n",
    "print(m['m01'] / m['m00'])"
   ]
  }
 ],
 "metadata": {
  "kernelspec": {
   "display_name": "Python 3",
   "language": "python",
   "name": "python3"
  },
  "language_info": {
   "codemirror_mode": {
    "name": "ipython",
    "version": 3
   },
   "file_extension": ".py",
   "mimetype": "text/x-python",
   "name": "python",
   "nbconvert_exporter": "python",
   "pygments_lexer": "ipython3",
   "version": "3.6.5"
  }
 },
 "nbformat": 4,
 "nbformat_minor": 2
}
