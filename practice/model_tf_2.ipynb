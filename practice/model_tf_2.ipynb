{
 "cells": [
  {
   "cell_type": "code",
   "execution_count": 75,
   "metadata": {},
   "outputs": [],
   "source": [
    "# ?kernel_name=py374"
   ]
  },
  {
   "cell_type": "code",
   "execution_count": 76,
   "metadata": {},
   "outputs": [],
   "source": [
    "import matplotlib.pyplot as plt\n",
    "import glob\n",
    "from skimage.color import rgb2lab\n",
    "from skimage.transform import resize\n",
    "from collections import namedtuple\n",
    "import numpy as np\n",
    "import tensorflow as tf\n",
    "from tensorflow.compat.v1 import ConfigProto\n",
    "from tensorflow.compat.v1 import InteractiveSession\n",
    "import cv2\n",
    "\n",
    "np.random.seed(101)\n",
    "%matplotlib inline"
   ]
  },
  {
   "cell_type": "markdown",
   "metadata": {},
   "source": [
    "### 1. 이미지 전처리"
   ]
  },
  {
   "cell_type": "code",
   "execution_count": 77,
   "metadata": {},
   "outputs": [],
   "source": [
    "labels = []\n",
    "for folder in glob.glob('./data/*') :\n",
    "    label = folder.split('/')[-1]\n",
    "    # print(label)\n",
    "    labels.append(label)"
   ]
  },
  {
   "cell_type": "code",
   "execution_count": 78,
   "metadata": {},
   "outputs": [
    {
     "data": {
      "text/plain": [
       "array(['70', 'no_parking', 'no_parking_stop', '50', '60', '30'],\n",
       "      dtype='<U15')"
      ]
     },
     "execution_count": 78,
     "metadata": {},
     "output_type": "execute_result"
    }
   ],
   "source": [
    "np.array(labels)"
   ]
  },
  {
   "cell_type": "code",
   "execution_count": 79,
   "metadata": {},
   "outputs": [
    {
     "data": {
      "text/plain": [
       "6"
      ]
     },
     "execution_count": 79,
     "metadata": {},
     "output_type": "execute_result"
    }
   ],
   "source": [
    "len(labels)"
   ]
  },
  {
   "cell_type": "code",
   "execution_count": 80,
   "metadata": {},
   "outputs": [],
   "source": [
    "N_CLASSES = len(labels)\n",
    "RESIZED_IMAGE = (28, 28)"
   ]
  },
  {
   "cell_type": "code",
   "execution_count": 81,
   "metadata": {},
   "outputs": [],
   "source": [
    "# 클래스별 이미지 개수\n",
    "img_cnt = []\n",
    "dir_url = './data/'\n",
    "for label in labels :\n",
    "    # print(dir_url + label + '/*.jpg')\n",
    "    # print(glob.glob(dir_url + label + '/*.jpg'))\n",
    "    cnt = 0\n",
    "    for file in glob.glob(dir_url + label + '/*.jpg') :\n",
    "        # print(file)\n",
    "        cnt += 1\n",
    "    img_cnt.append(cnt)"
   ]
  },
  {
   "cell_type": "code",
   "execution_count": 82,
   "metadata": {},
   "outputs": [
    {
     "data": {
      "text/plain": [
       "array([660, 189, 304, 750, 480, 730])"
      ]
     },
     "execution_count": 82,
     "metadata": {},
     "output_type": "execute_result"
    }
   ],
   "source": [
    "np.array(img_cnt)"
   ]
  },
  {
   "cell_type": "code",
   "execution_count": 83,
   "metadata": {},
   "outputs": [],
   "source": [
    "labels_cnt = {}\n",
    "for label, cnt in zip(labels, img_cnt) :\n",
    "    # print(label, cnt)\n",
    "    labels_cnt[label] = cnt"
   ]
  },
  {
   "cell_type": "code",
   "execution_count": 84,
   "metadata": {},
   "outputs": [
    {
     "data": {
      "text/plain": [
       "{'70': 660,\n",
       " 'no_parking': 189,\n",
       " 'no_parking_stop': 304,\n",
       " '50': 750,\n",
       " '60': 480,\n",
       " '30': 730}"
      ]
     },
     "execution_count": 84,
     "metadata": {},
     "output_type": "execute_result"
    }
   ],
   "source": [
    "labels_cnt"
   ]
  },
  {
   "cell_type": "code",
   "execution_count": 85,
   "metadata": {},
   "outputs": [],
   "source": [
    "LABELS = {}\n",
    "for label, i in zip(labels, range(0, N_CLASSES)) :\n",
    "    # print(i, label)\n",
    "    LABELS[label] = i"
   ]
  },
  {
   "cell_type": "code",
   "execution_count": 86,
   "metadata": {},
   "outputs": [
    {
     "name": "stdout",
     "output_type": "stream",
     "text": [
      "<class '__main__.Dataset'>\n"
     ]
    }
   ],
   "source": [
    "Dataset = namedtuple('Dataset', ['X', 'y'])\n",
    "print(Dataset)"
   ]
  },
  {
   "cell_type": "code",
   "execution_count": 87,
   "metadata": {},
   "outputs": [],
   "source": [
    "# 텐서플로우에 맞는 이미지 텐서 포맷\n",
    "# 차원 확장\n",
    "def to_tf_format(imgs) :\n",
    "    return np.stack([img[:, :, np.newaxis] for img in imgs], axis = 0).astype(np.float32)"
   ]
  },
  {
   "cell_type": "code",
   "execution_count": 88,
   "metadata": {},
   "outputs": [],
   "source": [
    "# 한 경로에 주어진 모든 이미지를 읽어서\n",
    "# 그 이미지를 미리 정의한 형상으로 크기 재조정\n",
    "# 회색조로 변환\n",
    "# 레이블을 원 핫 인코딩\n",
    "\n",
    "def read_dataset(root_path, labels_arr, resize_to) :\n",
    "    images = []\n",
    "    labels = []\n",
    "    \n",
    "    for label_name in labels_arr :\n",
    "        # 'data/no_twowheel/''\n",
    "        full_path = root_path + '/' + label_name + '/'\n",
    "        \n",
    "        for img in glob.glob(full_path + '*.jpg') :\n",
    "            # print(img)\n",
    "            image = cv2.imread(img).astype(np.float32)\n",
    "            # 회색조로 변환\n",
    "            image = cv2.cvtColor(image, cv2.IMREAD_GRAYSCALE)[:, :, 0]\n",
    "            \n",
    "            # 크기 조정\n",
    "            if resize_to :\n",
    "                image = cv2.resize(image, resize_to)\n",
    "            \n",
    "            # 라벨\n",
    "            label = np.zeros((N_CLASSES, ), dtype = np.float32)\n",
    "            label[LABELS[label_name]] = 1.0\n",
    "            \n",
    "            images.append(image.astype(np.float32))\n",
    "            labels.append(label)\n",
    "            \n",
    "    return Dataset(X = to_tf_format(images).astype(np.float32), y = np.matrix(labels).astype(np.float32))"
   ]
  },
  {
   "cell_type": "code",
   "execution_count": null,
   "metadata": {},
   "outputs": [],
   "source": []
  },
  {
   "cell_type": "code",
   "execution_count": 89,
   "metadata": {},
   "outputs": [
    {
     "name": "stdout",
     "output_type": "stream",
     "text": [
      "(3113, 28, 28, 1)\n",
      "(3113, 6)\n"
     ]
    }
   ],
   "source": [
    "dataset = read_dataset('data', labels, RESIZED_IMAGE)\n",
    "print(dataset.X.shape)\n",
    "print(dataset.y.shape)"
   ]
  },
  {
   "cell_type": "code",
   "execution_count": 90,
   "metadata": {},
   "outputs": [
    {
     "name": "stdout",
     "output_type": "stream",
     "text": [
      "(3113, 28, 28, 1) (28, 28, 1)\n"
     ]
    }
   ],
   "source": [
    "print(dataset.X.shape, dataset.X[0, :, :, :].shape)"
   ]
  },
  {
   "cell_type": "code",
   "execution_count": 91,
   "metadata": {},
   "outputs": [
    {
     "name": "stdout",
     "output_type": "stream",
     "text": [
      "(28, 28)\n"
     ]
    }
   ],
   "source": [
    "print((dataset.X[0, :, :, :].reshape(RESIZED_IMAGE)).shape)"
   ]
  },
  {
   "cell_type": "code",
   "execution_count": 92,
   "metadata": {},
   "outputs": [
    {
     "name": "stdout",
     "output_type": "stream",
     "text": [
      "[[1. 0. 0. 0. 0. 0.]]\n"
     ]
    },
    {
     "data": {
      "image/png": "[encoded data removed]",
      "text/plain": [
       "<Figure size 432x288 with 1 Axes>"
      ]
     },
     "metadata": {
      "needs_background": "light"
     },
     "output_type": "display_data"
    }
   ],
   "source": [
    "# 첫번째 표본\n",
    "plt.imshow(dataset.X[0, :, :, :].reshape(RESIZED_IMAGE))\n",
    "# 레이블\n",
    "print(dataset.y[0, :])"
   ]
  },
  {
   "cell_type": "code",
   "execution_count": 93,
   "metadata": {},
   "outputs": [
    {
     "name": "stdout",
     "output_type": "stream",
     "text": [
      "[[0. 0. 0. 0. 0. 1.]]\n"
     ]
    },
    {
     "data": {
      "image/png": "[encoded data removed]",
      "text/plain": [
       "<Figure size 432x288 with 1 Axes>"
      ]
     },
     "metadata": {
      "needs_background": "light"
     },
     "output_type": "display_data"
    }
   ],
   "source": [
    "# 마지막 표본\n",
    "plt.imshow(dataset.X[-1, :, :, :].reshape(RESIZED_IMAGE))\n",
    "# 레이블\n",
    "print(dataset.y[-1, :])"
   ]
  },
  {
   "cell_type": "code",
   "execution_count": 94,
   "metadata": {},
   "outputs": [],
   "source": [
    "from sklearn.model_selection import train_test_split\n",
    "\n",
    "# range(dataset.X.shape[0])\n",
    "# range(0, 39209)\n",
    "\n",
    "idx_train, idx_test = train_test_split( range(dataset.X.shape[0]), test_size = 0.25, random_state = 101 )"
   ]
  },
  {
   "cell_type": "code",
   "execution_count": 95,
   "metadata": {},
   "outputs": [
    {
     "data": {
      "text/plain": [
       "(2334, 779)"
      ]
     },
     "execution_count": 95,
     "metadata": {},
     "output_type": "execute_result"
    }
   ],
   "source": [
    "len(idx_train), len(idx_test)"
   ]
  },
  {
   "cell_type": "code",
   "execution_count": 96,
   "metadata": {},
   "outputs": [],
   "source": [
    "X_train = dataset.X[idx_train, :, :, :]\n",
    "X_test = dataset.X[idx_test, :, :, :]\n",
    "y_train = dataset.y[idx_train, :]\n",
    "y_test = dataset.y[idx_test, :]"
   ]
  },
  {
   "cell_type": "code",
   "execution_count": 97,
   "metadata": {},
   "outputs": [
    {
     "name": "stdout",
     "output_type": "stream",
     "text": [
      "(2334, 28, 28, 1)\n",
      "(779, 28, 28, 1)\n",
      "(2334, 6)\n",
      "(779, 6)\n"
     ]
    }
   ],
   "source": [
    "print(X_train.shape)\n",
    "print(X_test.shape)\n",
    "print(y_train.shape)\n",
    "print(y_test.shape)"
   ]
  },
  {
   "cell_type": "code",
   "execution_count": 98,
   "metadata": {},
   "outputs": [],
   "source": [
    "# 훈련 데이터의 미니배치 생성\n",
    "\n",
    "def minibatcher(X, y, batch_size, shuffle) :\n",
    "    assert X.shape[0] == y.shape[0]\n",
    "    n_samples = X.shape[0]\n",
    "    \n",
    "    if shuffle :\n",
    "        idx = np.random.permutation(n_samples)\n",
    "    else :\n",
    "        idx = list(range(n_samples))\n",
    "        \n",
    "    for k in range(int(np.ceil(n_samples/batch_size))) :\n",
    "        from_idx = k * batch_size\n",
    "        to_idx = (k+1) * batch_size\n",
    "        yield X[idx[from_idx:to_idx], :, :, :], y[idx[from_idx:to_idx], :]"
   ]
  },
  {
   "cell_type": "code",
   "execution_count": 99,
   "metadata": {},
   "outputs": [
    {
     "name": "stdout",
     "output_type": "stream",
     "text": [
      "(1000, 28, 28, 1) (1000, 6)\n",
      "(1000, 28, 28, 1) (1000, 6)\n",
      "(334, 28, 28, 1) (334, 6)\n"
     ]
    }
   ],
   "source": [
    "for mb in minibatcher(X_train, y_train, 1000, True) :\n",
    "    print(mb[0].shape, mb[1].shape)"
   ]
  },
  {
   "cell_type": "code",
   "execution_count": null,
   "metadata": {},
   "outputs": [],
   "source": []
  },
  {
   "cell_type": "markdown",
   "metadata": {},
   "source": [
    "### 2. 모델 구성"
   ]
  },
  {
   "cell_type": "code",
   "execution_count": 100,
   "metadata": {},
   "outputs": [],
   "source": [
    "# 활성화 함수 없이 다양한 개수(인수로 제공)의 유닛을 가지고 전결합(fully connected) 계층을 만드는 것으로 시작\n",
    "\n",
    "# in_tensors : 입력 텐서(데이터)\n",
    "def fc_no_activation_layer(in_tensors, n_units) :\n",
    "\n",
    "    # tf.get_variable(<name>, <shape>, <initializer>) : 입력된 이름의 변수를 생성하거나 반환\n",
    "    # tf.get_variable()함수는 tf.Variable을 직접호출 대신 변수를 가져오거나 생성하는 데 사용\n",
    "    # tf.Variable처럼 직접 값을 전달하는 대신 initializer 사용\n",
    "    \n",
    "    # 계층이 적절하게 중심을 잡고 분포되도록 만들기 위해\n",
    "    # 계수(가중치)로는 'Xavier 초기화'\n",
    "    # tf.contrib.layers.xavier_initializer()\n",
    "    w = tf.get_variable('fc_W', [in_tensors.get_shape()[1], n_units], tf.float32, tf.contrib.layers.xavier_initializer())\n",
    "    \n",
    "    # 편향값(bias)으로는 0-초기화\n",
    "    # tf.constant_initializer(value) : 제공된 값으로 모든 것을 초기화\n",
    "    b = tf.get_variable('fc_B', [n_units, ], tf.float32, tf.constant_initializer(0.0))\n",
    "    \n",
    "    # 결과 : 입력 텐서에 가중치를 곱해서 편향값을 더한 값\n",
    "    return tf.matmul(in_tensors, w) + b"
   ]
  },
  {
   "cell_type": "code",
   "execution_count": 101,
   "metadata": {},
   "outputs": [],
   "source": [
    "# 활성화 함수를 사용하여 전결합 계층 만들기\n",
    "\n",
    "def fc_layer(in_tensors, n_units) :\n",
    "    return tf.nn.leaky_relu(fc_no_activation_layer(in_tensors, n_units))"
   ]
  },
  {
   "cell_type": "code",
   "execution_count": 102,
   "metadata": {},
   "outputs": [],
   "source": [
    "# 입력 데이터, 커널 크기, 필터(또는 유닛) 개수를 인수로 취하는 컨볼루션 계층\n",
    "# 전결합 계층에서 사용했던 것과 동일한 활성화 함수 사용\n",
    "# 이 경우 출력은 leaky ReLU 활성화 함수 통과\n",
    "\n",
    "# in_tensors : 입력 데이터\n",
    "# kernel_size : 커널 크기\n",
    "# n_units : 필터(유닛) 개수\n",
    "def conv_layer(in_tensors, kernel_size, n_units) :\n",
    "    \n",
    "    w = tf.get_variable('conv_W', [kernel_size, kernel_size, in_tensors.get_shape()[3], n_units], tf.float32, tf.contrib.layers.xavier_initializer())\n",
    "    b = tf.get_variable('conv_B', [n_units, ], tf.float32, tf.constant_initializer(0.0))\n",
    "        \n",
    "    return tf.nn.leaky_relu(tf.nn.conv2d(in_tensors, w, [1, 1, 1, 1], 'SAME') + b) "
   ]
  },
  {
   "cell_type": "code",
   "execution_count": 103,
   "metadata": {},
   "outputs": [],
   "source": [
    "# maxpool_layer\n",
    "# 여기서 윈도우 크기와 스트라이드는 모두 정사각형\n",
    "\n",
    "def maxpool_layer(in_tensors, sampling) :\n",
    "    return tf.nn.max_pool(in_tensors, [1, sampling, sampling, 1], [1, sampling, sampling, 1], 'SAME')"
   ]
  },
  {
   "cell_type": "code",
   "execution_count": 104,
   "metadata": {},
   "outputs": [],
   "source": [
    "# 네트워크를 정규화하는 데 사용될 드롭아웃(dropout) 정의\n",
    "# 결과를 예측할 때 사용해서는 안 되고, 네트워크를 훈련시킬 때만 사용\n",
    "\n",
    "def dropout(in_tensors, keep_proba, is_training) :\n",
    "    return tf.cond(is_training, lambda : tf.nn.dropout(in_tensors, keep_proba), lambda : in_tensors)"
   ]
  },
  {
   "cell_type": "code",
   "execution_count": null,
   "metadata": {},
   "outputs": [],
   "source": []
  },
  {
   "cell_type": "code",
   "execution_count": 105,
   "metadata": {},
   "outputs": [],
   "source": [
    "# 모델 만들기\n",
    "\n",
    "def model(in_tensors, is_training) :\n",
    "    \n",
    "    # 첫 번째 계층 : 5x5 2차원 컨볼루션, 32개의 필터, 2x 맥스풀, 20% 드롭아웃\n",
    "    with tf.variable_scope('l1') :\n",
    "        l1 = maxpool_layer(conv_layer(in_tensors, 5, 32), 2)\n",
    "        l1_out = dropout(l1, 0.8, is_training)\n",
    "    \n",
    "    # 두 번째 계층 : 5x5 2차원 컨볼루션, 64개의 필터, 2x 맥스풀, 20% 드롭아웃\n",
    "    with tf.variable_scope('l2') :\n",
    "        l2 = maxpool_layer(conv_layer(l1_out, 5, 64), 2)\n",
    "        l2_out = dropout(l2, 0.8, is_training)\n",
    "        \n",
    "    # 평면화 계층\n",
    "    with tf.variable_scope('flatten') :\n",
    "        l2_out_flat = tf.layers.flatten(l2_out)\n",
    "    \n",
    "    # 전결합 계층\n",
    "    with tf.variable_scope('l3') :\n",
    "        l3 = fc_layer(l2_out_flat, 1024)\n",
    "        # l3 = fc_layer(l2_out_flat, 256)\n",
    "        l3_out = dropout(l3, 0.6, is_training)\n",
    "    \n",
    "    # 결과\n",
    "    with tf.variable_scope('out') :\n",
    "        out_tensors = fc_no_activation_layer(l3_out, N_CLASSES)\n",
    "        \n",
    "    return out_tensors"
   ]
  },
  {
   "cell_type": "code",
   "execution_count": null,
   "metadata": {},
   "outputs": [],
   "source": []
  },
  {
   "cell_type": "code",
   "execution_count": 106,
   "metadata": {},
   "outputs": [],
   "source": [
    "# # 훈련 집합으로 모델을 훈련시키고 \n",
    "# # 테스트 집합으로 모델 성능을 테스트하는 함수\n",
    "\n",
    "# from sklearn.metrics import classification_report, confusion_matrix\n",
    "\n",
    "# # learning_rate : 학습 속도\n",
    "# # max_epochs : 세대 수\n",
    "# # batch_size : 배치 크기(즉, 훈련 배치당 이미지 개수)\n",
    "# def train_model(X_train, y_train, X_test, y_test, learning_rate, max_epochs, batch_size) :\n",
    "    \n",
    "#     # 일부 placeholder 정의\n",
    "#     # 이미지의 미니배치\n",
    "#     in_X_tensors_batch = tf.placeholder(tf.float32, shape = (None, RESIZED_IMAGE[0], RESIZED_IMAGE[1], 1))\n",
    "#     # 레이블의 미니배치\n",
    "#     in_y_tensors_batch = tf.placeholder(tf.float32, shape = (None, N_CLASSES))\n",
    "#     # 훈련을 위한 실행인지 여부를 선택(주로 드롭아웃 계층에서 사용)하는 플레이스홀더\n",
    "#     is_training = tf.placeholder(tf.bool)\n",
    "    \n",
    "#     logits = model(in_X_tensors_batch, is_training)\n",
    "#     out_y_pred = tf.nn.softmax(logits)\n",
    "#     loss_score = tf.nn.softmax_cross_entropy_with_logits(logits = logits, labels = in_y_tensors_batch)\n",
    "#     loss = tf.reduce_mean(loss_score)\n",
    "#     optimizer = tf.train.AdamOptimizer(learning_rate).minimize(loss)\n",
    "    \n",
    "#     # 미니배치를 사용해 모델 훈련\n",
    "#     with tf.Session() as session :\n",
    "#         session.run(tf.global_variables_initializer())\n",
    "        \n",
    "#         for epoch in range(max_epochs) :\n",
    "#             print(\"Epoch = \", epoch)\n",
    "#             tf_score = []\n",
    "            \n",
    "#             for mb in minibatcher(X_train, y_train, batch_size, shuffle=True) :\n",
    "#                 tf_output = session.run([optimizer, loss], feed_dict = { in_X_tensors_batch : mb[0], in_y_tensors_batch : mb[1], is_training : True })\n",
    "                \n",
    "#                 tf_score.append(tf_output[1])\n",
    "#             print(\"train_loss_score = \", np.mean(tf_score))\n",
    "            \n",
    "#         # 훈련 후, 테스트 집합으로 모델 테스트\n",
    "#         # is_training = False\n",
    "#         print(\"TEST SET PERFORMANCE\")\n",
    "#         y_test_pred, test_loss = session.run([out_y_pred, loss], feed_dict = { in_X_tensors_batch : X_test, in_y_tensors_batch : y_test, is_training : False })\n",
    "        \n",
    "        \n",
    "#         # 분류 보고서 출력\n",
    "#         # 잘못 분류한 내용을 확인하기 위해 혼동 행렬 확인\n",
    "#         print(\"test_loss_score = \", test_loss)\n",
    "#         y_test_pred_classified = np.argmax(y_test_pred, axis = 1).astype(np.int32)\n",
    "#         y_test_true_classified = np.argmax(y_test, axis = 1).astype(np.int32)\n",
    "#         print(classification_report(y_test_true_classified, y_test_pred_classified))\n",
    "        \n",
    "#         cm = confusion_matrix(y_test_true_classified, y_test_pred_classified)\n",
    "        \n",
    "#         plt.imshow(cm, interpolation='nearest', cmap = plt.cm.Blues)\n",
    "#         plt.colorbar()\n",
    "#         plt.tight_layout()\n",
    "#         plt.show()        \n",
    "        \n",
    "#         # 잘못 분류한 내용을 강조하기 위해 log2 버전 확인\n",
    "#         # plt.imshow(np.log2(cm+1), interpolation='nearest', cmap = plt.get_cmap('tab20'))\n",
    "#         # plt.colorbar()\n",
    "#         # plt.tight_layout()\n",
    "#         # plt.show()"
   ]
  },
  {
   "cell_type": "code",
   "execution_count": 107,
   "metadata": {},
   "outputs": [],
   "source": [
    "from sklearn.metrics import classification_report, confusion_matrix\n",
    "\n",
    "def train_model(X_train, y_train, X_test, y_test, learning_rate, max_epochs, batch_size):\n",
    "    in_X_tensors_batch = tf.placeholder(tf.float32, shape = (None, RESIZED_IMAGE[0], RESIZED_IMAGE[1], 1))\n",
    "    in_y_tensors_batch = tf.placeholder(tf.float32, shape = (None, N_CLASSES))\n",
    "    is_training = tf.placeholder(tf.bool)\n",
    "\n",
    "    logits = model(in_X_tensors_batch, is_training)\n",
    "    out_y_pred = tf.nn.softmax(logits)\n",
    "    loss_score = tf.nn.softmax_cross_entropy_with_logits_v2(logits=logits, labels=in_y_tensors_batch)\n",
    "    loss = tf.reduce_mean(loss_score)\n",
    "    optimizer = tf.train.AdamOptimizer(learning_rate).minimize(loss)\n",
    "    \n",
    "    config = ConfigProto()\n",
    "    config.gpu_options.allow_growth = True\n",
    "    # session  = tf.Session(config=config) \n",
    "\n",
    "    with tf.Session(config=config) as session:\n",
    "        session.run(tf.global_variables_initializer())\n",
    "\n",
    "        for epoch in range(max_epochs):\n",
    "            print(\"Epoch=\", epoch)\n",
    "            tf_score = []\n",
    "            \n",
    "            for mb in minibatcher(X_train, y_train, batch_size, True) :\n",
    "                # print(mb)\n",
    "                tf_output = session.run([optimizer, loss], \n",
    "                                                    feed_dict = {in_X_tensors_batch : mb[0], \n",
    "                                                                      in_y_tensors_batch : mb[1],\n",
    "                                                                      is_training : True})\n",
    "\n",
    "                tf_score.append(tf_output[1])\n",
    "            print(\" train_loss_score=\", np.mean(tf_score))\n",
    "\n",
    "        # after the training is done, time to test it on the test set\n",
    "        print(\"TEST SET PERFORMANCE\")\n",
    "        y_test_pred, test_loss  = session.run([out_y_pred, loss], \n",
    "                                                  feed_dict = {in_X_tensors_batch : X_test, \n",
    "                                                               in_y_tensors_batch : y_test,\n",
    "                                                               is_training : False})\n",
    "        print(\" test_loss_score=\", test_loss)\n",
    "        y_test_pred_classified = np.argmax(y_test_pred, axis=1).astype(np.int32)\n",
    "        y_test_true_classified = np.argmax(y_test, axis=1).astype(np.int32)\n",
    "        print(classification_report(y_test_true_classified, y_test_pred_classified))\n",
    "\n",
    "        cm = confusion_matrix(y_test_true_classified, y_test_pred_classified)\n",
    "\n",
    "        plt.imshow(cm, interpolation='nearest', cmap=plt.cm.Blues)\n",
    "        plt.colorbar()\n",
    "        plt.tight_layout()\n",
    "        plt.show()\n",
    "\n",
    "#     # And the log2 version, to enphasize the misclassifications\n",
    "#     plt.imshow(np.log2(cm + 1), interpolation='nearest', cmap=plt.get_cmap(\"tab20\"))\n",
    "#     plt.colorbar()\n",
    "#     plt.tight_layout()\n",
    "#     plt.show()"
   ]
  },
  {
   "cell_type": "code",
   "execution_count": 108,
   "metadata": {},
   "outputs": [],
   "source": [
    "tf.reset_default_graph()"
   ]
  },
  {
   "cell_type": "code",
   "execution_count": 109,
   "metadata": {},
   "outputs": [
    {
     "name": "stdout",
     "output_type": "stream",
     "text": [
      "WARNING:tensorflow:Entity <bound method Flatten.call of <tensorflow.python.layers.core.Flatten object at 0x7fd1d84180f0>> could not be transformed and will be executed as-is. Please report this to the AutgoGraph team. When filing the bug, set the verbosity to 10 (on Linux, `export AUTOGRAPH_VERBOSITY=10`) and attach the full output. Cause: converting <bound method Flatten.call of <tensorflow.python.layers.core.Flatten object at 0x7fd1d84180f0>>: AttributeError: module 'gast' has no attribute 'Num'\n",
      "WARNING: Entity <bound method Flatten.call of <tensorflow.python.layers.core.Flatten object at 0x7fd1d84180f0>> could not be transformed and will be executed as-is. Please report this to the AutgoGraph team. When filing the bug, set the verbosity to 10 (on Linux, `export AUTOGRAPH_VERBOSITY=10`) and attach the full output. Cause: converting <bound method Flatten.call of <tensorflow.python.layers.core.Flatten object at 0x7fd1d84180f0>>: AttributeError: module 'gast' has no attribute 'Num'\n",
      "Epoch= 0\n",
      " train_loss_score= 85.836945\n",
      "Epoch= 1\n",
      " train_loss_score= 8.487486\n",
      "Epoch= 2\n",
      " train_loss_score= 3.3301091\n",
      "Epoch= 3\n",
      " train_loss_score= 2.4060092\n",
      "Epoch= 4\n",
      " train_loss_score= 1.8103302\n",
      "Epoch= 5\n",
      " train_loss_score= 1.6391976\n",
      "Epoch= 6\n",
      " train_loss_score= 1.4492819\n",
      "Epoch= 7\n",
      " train_loss_score= 1.3102229\n",
      "Epoch= 8\n",
      " train_loss_score= 1.2652638\n",
      "Epoch= 9\n",
      " train_loss_score= 1.1756123\n",
      "Epoch= 10\n",
      " train_loss_score= 1.1019694\n",
      "Epoch= 11\n",
      " train_loss_score= 1.0681986\n",
      "Epoch= 12\n",
      " train_loss_score= 0.9736829\n",
      "Epoch= 13\n",
      " train_loss_score= 0.96246225\n",
      "Epoch= 14\n",
      " train_loss_score= 0.898468\n",
      "Epoch= 15\n",
      " train_loss_score= 0.8239026\n",
      "Epoch= 16\n",
      " train_loss_score= 0.69472086\n",
      "Epoch= 17\n",
      " train_loss_score= 0.7509132\n",
      "Epoch= 18\n",
      " train_loss_score= 0.677585\n",
      "Epoch= 19\n",
      " train_loss_score= 0.6393205\n",
      "Epoch= 20\n",
      " train_loss_score= 0.61947215\n",
      "Epoch= 21\n",
      " train_loss_score= 0.60245675\n",
      "Epoch= 22\n",
      " train_loss_score= 0.49445343\n",
      "Epoch= 23\n",
      " train_loss_score= 0.4667585\n",
      "Epoch= 24\n",
      " train_loss_score= 0.45404738\n",
      "Epoch= 25\n",
      " train_loss_score= 0.45102635\n",
      "Epoch= 26\n",
      " train_loss_score= 0.4019808\n",
      "Epoch= 27\n",
      " train_loss_score= 0.37341037\n",
      "Epoch= 28\n",
      " train_loss_score= 0.34903592\n",
      "Epoch= 29\n",
      " train_loss_score= 0.34649122\n",
      "Epoch= 30\n",
      " train_loss_score= 0.3190477\n",
      "Epoch= 31\n",
      " train_loss_score= 0.29360572\n",
      "Epoch= 32\n",
      " train_loss_score= 0.31202978\n",
      "Epoch= 33\n",
      " train_loss_score= 0.2869625\n",
      "Epoch= 34\n",
      " train_loss_score= 0.2628255\n",
      "Epoch= 35\n",
      " train_loss_score= 0.26840088\n",
      "Epoch= 36\n",
      " train_loss_score= 0.28026456\n",
      "Epoch= 37\n",
      " train_loss_score= 0.26522458\n",
      "Epoch= 38\n",
      " train_loss_score= 0.22946835\n",
      "Epoch= 39\n",
      " train_loss_score= 0.2533408\n",
      "Epoch= 40\n",
      " train_loss_score= 0.2254714\n",
      "Epoch= 41\n",
      " train_loss_score= 0.19379508\n",
      "Epoch= 42\n",
      " train_loss_score= 0.19647452\n",
      "Epoch= 43\n",
      " train_loss_score= 0.19371344\n",
      "Epoch= 44\n",
      " train_loss_score= 0.17133684\n",
      "Epoch= 45\n",
      " train_loss_score= 0.17270622\n",
      "Epoch= 46\n",
      " train_loss_score= 0.15545985\n",
      "Epoch= 47\n",
      " train_loss_score= 0.18470117\n",
      "Epoch= 48\n",
      " train_loss_score= 0.1676503\n",
      "Epoch= 49\n",
      " train_loss_score= 0.1613965\n",
      "TEST SET PERFORMANCE\n",
      " test_loss_score= 0.35250852\n",
      "              precision    recall  f1-score   support\n",
      "\n",
      "           0       0.82      0.99      0.90       180\n",
      "           1       0.98      0.95      0.96        42\n",
      "           2       0.89      0.99      0.94        75\n",
      "           3       0.97      0.90      0.93       204\n",
      "           4       0.99      0.92      0.95       108\n",
      "           5       0.96      0.84      0.89       170\n",
      "\n",
      "    accuracy                           0.92       779\n",
      "   macro avg       0.93      0.93      0.93       779\n",
      "weighted avg       0.93      0.92      0.92       779\n",
      "\n"
     ]
    },
    {
     "data": {
      "image/png": "[encoded data removed]",
      "text/plain": [
       "<Figure size 432x288 with 2 Axes>"
      ]
     },
     "metadata": {
      "needs_background": "light"
     },
     "output_type": "display_data"
    }
   ],
   "source": [
    "train_model(X_train, y_train, X_test, y_test, 0.001, 50, 256)"
   ]
  },
  {
   "cell_type": "code",
   "execution_count": null,
   "metadata": {},
   "outputs": [],
   "source": []
  }
 ],
 "metadata": {
  "kernelspec": {
   "display_name": "Python 3",
   "language": "python",
   "name": "python3"
  },
  "language_info": {
   "codemirror_mode": {
    "name": "ipython",
    "version": 3
   },
   "file_extension": ".py",
   "mimetype": "text/x-python",
   "name": "python",
   "nbconvert_exporter": "python",
   "pygments_lexer": "ipython3",
   "version": "3.7.3"
  }
 },
 "nbformat": 4,
 "nbformat_minor": 2
}
