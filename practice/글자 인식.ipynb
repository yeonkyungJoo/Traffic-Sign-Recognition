{
 "cells": [
  {
   "cell_type": "code",
   "execution_count": null,
   "metadata": {},
   "outputs": [],
   "source": [
    "# http://makeshare.org/bbs/board.php?bo_table=imageprocessing&wr_id=13\n",
    "\n",
    "## 전처리 과정 - 칼라영상을 그레이 영상으로, canny() 에지 이용, 이진화 처리\n",
    "# 1. 윤곽선 검출\n",
    "# 2. 라벨링을 수행\n",
    "# 3. 라벨링된 영역 검증\n",
    "# - 원본 이미지를 통해 테두리는 흰, 내부는 녹색 같은 형태로 검증.\n",
    "# - 검증 과정을 거쳐서 잡영 제거\n",
    "# 4. 번호판의 꼭지점 추출\n",
    "# 5. 번호판 추출 후 글자를 정렬한다.\n",
    "# 6. 글자를 맵핑하여 우선순위가 높은 글자 아스키 코드로 정의 내린다."
   ]
  },
  {
   "cell_type": "code",
   "execution_count": null,
   "metadata": {},
   "outputs": [],
   "source": [
    "# https://m.blog.naver.com/PostView.nhn?blogId=monkey5255&logNo=221598376164&targetKeyword=&targetRecommendationCode=1\n",
    "\n",
    "# import cv2\n",
    "# import numpy as np\n",
    "\n",
    "# large = cv2.imread('.\\\\namecard.png')\n",
    "# rgb = cv2.pyrDown(large)\n",
    "# small = cv2.cvtColor(rgb, cv2.COLOR_BGR2GRAY)\n",
    "# kernel = cv2.getStructuringElement(cv2.MORPH_ELLIPSE, (3, 3))\n",
    "# grad = cv2.morphologyEx(small, cv2.MORPH_GRADIENT, kernel)\n",
    "# _, bw = cv2.threshold(grad, 0.0, 255.0, cv2.THRESH_BINARY | cv2.THRESH_OTSU)\n",
    "# kernel = cv2.getStructuringElement(cv2.MORPH_RECT, (9, 1))\n",
    "# connected = cv2.morphologyEx(bw, cv2.MORPH_CLOSE, kernel)\n",
    "# # using RETR_EXTERNAL instead of RETR_CCOMP\n",
    "# contours, hierarchy = cv2.findContours(connected.copy(), cv2.RETR_EXTERNAL, cv2.CHAIN_APPROX_NONE)\n",
    "# mask = np.zeros(bw.shape, dtype=np.uint8)\n",
    "# for idx in range(len(contours)):\n",
    "#     x, y, w, h = cv2.boundingRect(contours[idx])\n",
    "#     mask[y:y+h, x:x+w] = 0\n",
    "#     cv2.drawContours(mask, contours, idx, (255, 255, 255), -1)\n",
    "#     r = float(cv2.countNonZero(mask[y:y+h, x:x+w])) / (w * h)\n",
    "#     if r > 0.45 and w > 8 and h > 8:\n",
    "#         cv2.rectangle(rgb, (x, y), (x+w-1, y+h-1), (0, 255, 0), 2)\n",
    "# # show image with contours rect\n",
    "# cv2.imshow('rects', rgb)\n",
    "# cv2.waitKey()"
   ]
  },
  {
   "cell_type": "code",
   "execution_count": 5,
   "metadata": {},
   "outputs": [],
   "source": [
    "import cv2\n",
    "import numpy as np\n",
    "\n",
    "img = cv2.imread('./traffic_sign_30.jpg')\n",
    "cv2.imshow('img', img)\n",
    "rgb = cv2.pyrDown(img)\n",
    "# cv2.imshow('rgb', rgb)\n",
    "\n",
    "small = cv2.cvtColor(rgb, cv2.COLOR_BGR2GRAY)\n",
    "kernel = cv2.getStructuringElement(cv2.MORPH_ELLIPSE, (3, 3))\n",
    "grad = cv2.morphologyEx(small, cv2.MORPH_GRADIENT, kernel)\n",
    "_, bw = cv2.threshold(grad, 0.0, 255.0, cv2.THRESH_BINARY | cv2.THRESH_OTSU)\n",
    "kernel = cv2.getStructuringElement(cv2.MORPH_RECT, (9, 1))\n",
    "connected = cv2.morphologyEx(bw, cv2.MORPH_CLOSE, kernel)\n",
    "\n",
    "# using RETR_EXTERNAL instead of RETR_CCOMP\n",
    "contours, hierarchy = cv2.findContours(connected.copy(), cv2.RETR_EXTERNAL, cv2.CHAIN_APPROX_NONE)\n",
    "mask = np.zeros(bw.shape, dtype=np.uint8)\n",
    "for idx in range(len(contours)):\n",
    "    x, y, w, h = cv2.boundingRect(contours[idx])\n",
    "    mask[y:y+h, x:x+w] = 0\n",
    "    cv2.drawContours(mask, contours, idx, (255, 255, 255), -1)\n",
    "    r = float(cv2.countNonZero(mask[y:y+h, x:x+w])) / (w * h)\n",
    "    if r > 0.45 and w > 8 and h > 8:\n",
    "        cv2.rectangle(rgb, (x, y), (x+w-1, y+h-1), (0, 255, 0), 2)\n",
    "# show image with contours rect\n",
    "\n",
    "cv2.imshow('rects', rgb)\n",
    "cv2.waitKey()\n",
    "cv2.destroyAllWindows()"
   ]
  }
 ],
 "metadata": {
  "kernelspec": {
   "display_name": "Python 3",
   "language": "python",
   "name": "python3"
  },
  "language_info": {
   "codemirror_mode": {
    "name": "ipython",
    "version": 3
   },
   "file_extension": ".py",
   "mimetype": "text/x-python",
   "name": "python",
   "nbconvert_exporter": "python",
   "pygments_lexer": "ipython3",
   "version": "3.7.3"
  }
 },
 "nbformat": 4,
 "nbformat_minor": 2
}
