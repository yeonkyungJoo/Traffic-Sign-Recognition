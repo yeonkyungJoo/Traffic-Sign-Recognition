{
 "cells": [
  {
   "cell_type": "code",
   "execution_count": 6,
   "metadata": {},
   "outputs": [],
   "source": [
    "import cv2\n",
    "import numpy as np\n",
    "import matplotlib.pylab as plt\n",
    "import glob"
   ]
  },
  {
   "cell_type": "code",
   "execution_count": null,
   "metadata": {},
   "outputs": [],
   "source": [
    "# https://076923.github.io/posts/Python-opencv-6/"
   ]
  },
  {
   "cell_type": "code",
   "execution_count": 61,
   "metadata": {},
   "outputs": [],
   "source": [
    "video_path = './video10.mp4'\n",
    "\n",
    "cap = cv2.VideoCapture(video_path)\n",
    "video_file = video_path.split('/')[-1]\n",
    "# video_name = video_file.split('.')[0]\n",
    "\n",
    "if not cap.isOpened() :\n",
    "    print(\"can't open video.\")\n",
    "\n",
    "# else : \n",
    "#     fps = cap.get(cv2.CAP_PROP_FPS)\n",
    "\n",
    "while True :\n",
    "    ret, img = cap.read()  \n",
    "    if ret :\n",
    "        \n",
    "        # img = cv2.cvtColor(img, cv2.COLOR_BGR2GRAY)\n",
    "        img = cv2.resize(img, (img.shape[1]//2, img.shape[0]//2))\n",
    "        height, width, channel = img.shape\n",
    "        matrix = cv2.getRotationMatrix2D((width/2, height/2), 270, 1)\n",
    "        dst = cv2.warpAffine(img, matrix, (width, height))\n",
    "        gray = cv2.cvtColor(dst, cv2.COLOR_BGR2GRAY)\n",
    "        dst = cv2.cvtColor(dst, cv2.COLOR_BGR2LAB)\n",
    "        dst2 = dst.copy()\n",
    "        dst = dst[:, :, 0]\n",
    "        # Median Filter\n",
    "        blur = cv2.medianBlur(dst, 77)\n",
    "        invert_blur = cv2.bitwise_not(blur)\n",
    "        composed = cv2.addWeighted(gray, 0.9, invert_blur, 0.1, 0)\n",
    "        # print(composed.shape)\n",
    "        #com = cv2.cvtColor(composed, cv2.COLOR_GRAY2BGR)        \n",
    "        #print(com.shape)\n",
    "        dst2[:, :, 0] = composed\n",
    "        dst2 = cv2.cvtColor(dst2, cv2.COLOR_LAB2BGR)\n",
    "        cv2.imshow(video_file, dst2)\n",
    " \n",
    "        if cv2.waitKey(1) == 27 :\n",
    "            cap.release()\n",
    "            cv2.destroyAllWindows()\n",
    "    else :\n",
    "        break\n",
    "\n",
    "cap.release()\n",
    "cv2.destroyAllWindows()"
   ]
  },
  {
   "cell_type": "code",
   "execution_count": null,
   "metadata": {},
   "outputs": [],
   "source": []
  },
  {
   "cell_type": "code",
   "execution_count": null,
   "metadata": {},
   "outputs": [],
   "source": []
  },
  {
   "cell_type": "code",
   "execution_count": null,
   "metadata": {},
   "outputs": [],
   "source": []
  },
  {
   "cell_type": "code",
   "execution_count": null,
   "metadata": {},
   "outputs": [],
   "source": []
  }
 ],
 "metadata": {
  "kernelspec": {
   "display_name": "Python 3",
   "language": "python",
   "name": "python3"
  },
  "language_info": {
   "codemirror_mode": {
    "name": "ipython",
    "version": 3
   },
   "file_extension": ".py",
   "mimetype": "text/x-python",
   "name": "python",
   "nbconvert_exporter": "python",
   "pygments_lexer": "ipython3",
   "version": "3.6.5"
  }
 },
 "nbformat": 4,
 "nbformat_minor": 2
}
