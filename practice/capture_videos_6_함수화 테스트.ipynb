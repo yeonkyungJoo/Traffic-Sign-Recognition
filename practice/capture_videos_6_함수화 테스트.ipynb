{
 "cells": [
  {
   "cell_type": "code",
   "execution_count": 1,
   "metadata": {},
   "outputs": [],
   "source": [
    "import cv2\n",
    "import numpy as np\n",
    "import matplotlib.pylab as plt\n",
    "import glob"
   ]
  },
  {
   "cell_type": "code",
   "execution_count": null,
   "metadata": {},
   "outputs": [],
   "source": []
  },
  {
   "cell_type": "code",
   "execution_count": null,
   "metadata": {},
   "outputs": [],
   "source": []
  },
  {
   "cell_type": "code",
   "execution_count": null,
   "metadata": {},
   "outputs": [],
   "source": [
    "# hsv 영상으로 변환 후\n",
    "# 색상 마스크 생성/반환\n",
    "\n",
    "def make_red_mask(img) :\n",
    "    hsv = cv2.cvtColor(img, cv2.COLOR_BGR2HSV)\n",
    "    img = cv2.bilateralFilter(img, )"
   ]
  },
  {
   "cell_type": "code",
   "execution_count": 8,
   "metadata": {},
   "outputs": [],
   "source": [
    "def save_traffic_sign(video_path) :\n",
    "    cap = cv2.VideoCapture(video_path)\n",
    "    video_file = video_path.split('/')[-1]\n",
    "    video_name = video_file.split('.')[0]\n",
    "    \n",
    "    if not cap.isOpened() :\n",
    "        print(\"can't open video.\")\n",
    "        return\n",
    "    \n",
    "    fps = cap.get(cv2.CAP_PROP_FPS)\n",
    "    delay = int(1000/fps)\n",
    "    \n",
    "    index = 1\n",
    "    while True :\n",
    "        ret, img = cap.read()\n",
    "        if ret :\n",
    "            img2 = img.copy()\n",
    "            h, w = img.shape[:2]\n",
    "            \n",
    "            "
   ]
  },
  {
   "cell_type": "code",
   "execution_count": 9,
   "metadata": {},
   "outputs": [
    {
     "name": "stdout",
     "output_type": "stream",
     "text": [
      "30.0028139633606\n"
     ]
    }
   ],
   "source": [
    "save_traffic_sign('./video1.mp4')"
   ]
  }
 ],
 "metadata": {
  "kernelspec": {
   "display_name": "Python 3",
   "language": "python",
   "name": "python3"
  },
  "language_info": {
   "codemirror_mode": {
    "name": "ipython",
    "version": 3
   },
   "file_extension": ".py",
   "mimetype": "text/x-python",
   "name": "python",
   "nbconvert_exporter": "python",
   "pygments_lexer": "ipython3",
   "version": "3.6.5"
  }
 },
 "nbformat": 4,
 "nbformat_minor": 2
}
